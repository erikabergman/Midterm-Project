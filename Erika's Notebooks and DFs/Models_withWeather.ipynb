{
  "nbformat": 4,
  "nbformat_minor": 0,
  "metadata": {
    "colab": {
      "name": "Models_withWeather.ipynb",
      "provenance": [],
      "mount_file_id": "1S0J_rBq9LvDP6_hfyUjhWMzkg0hUD-TX",
      "authorship_tag": "ABX9TyM2NV455VpSsfuLvCFmRELR",
      "include_colab_link": true
    },
    "kernelspec": {
      "name": "python3",
      "display_name": "Python 3"
    }
  },
  "cells": [
    {
      "cell_type": "markdown",
      "metadata": {
        "id": "view-in-github",
        "colab_type": "text"
      },
      "source": [
        "<a href=\"https://colab.research.google.com/github/DeftJackal/Midterm-Project/blob/main/Models_withWeather.ipynb\" target=\"_parent\"><img src=\"https://colab.research.google.com/assets/colab-badge.svg\" alt=\"Open In Colab\"/></a>"
      ]
    },
    {
      "cell_type": "code",
      "metadata": {
        "id": "NvqxI9kqeNfL"
      },
      "source": [
        "import pandas as pd\n",
        "import numpy as np\n",
        "from sklearn.linear_model import LogisticRegression\n",
        "from sklearn import metrics\n",
        "from sklearn.model_selection import train_test_split\n",
        "# import linear_model and datasets from sklearn\n",
        "from matplotlib import pyplot\n",
        "# import GridSearchCV from sklearn\n",
        "from sklearn.model_selection import GridSearchCV"
      ],
      "execution_count": 51,
      "outputs": []
    },
    {
      "cell_type": "code",
      "metadata": {
        "id": "vDdAxU4syKcr"
      },
      "source": [
        "# Get my dataframe with weather desctription feature\n",
        "flights = pd.read_csv('/content/drive/MyDrive/Colab Notebooks/Jan2019_Atlanta_Flights_withWeather.csv')"
      ],
      "execution_count": 15,
      "outputs": []
    },
    {
      "cell_type": "code",
      "metadata": {
        "colab": {
          "base_uri": "https://localhost:8080/"
        },
        "id": "5oglbyXYy-sW",
        "outputId": "75906470-075a-4d04-cbac-73a3181a102a"
      },
      "source": [
        "flights.columns"
      ],
      "execution_count": 16,
      "outputs": [
        {
          "output_type": "execute_result",
          "data": {
            "text/plain": [
              "Index(['Unnamed: 0', 'fl_date', 'dep_time', 'origin_city_name', 'dep_delay',\n",
              "       'weather_delay', 'weatherDesc'],\n",
              "      dtype='object')"
            ]
          },
          "metadata": {
            "tags": []
          },
          "execution_count": 16
        }
      ]
    },
    {
      "cell_type": "code",
      "metadata": {
        "id": "XoyLO_0GzI16"
      },
      "source": [
        "flights.drop(\"Unnamed: 0\",axis=1)"
      ],
      "execution_count": null,
      "outputs": []
    },
    {
      "cell_type": "code",
      "metadata": {
        "id": "U8qi7NHvzLZy"
      },
      "source": [
        "# Get my dataframe with all the columns still intact\n",
        "full_df = pd.read_csv('/content/drive/MyDrive/Colab Notebooks/ATL_Jan19_Full_DF.csv')"
      ],
      "execution_count": 18,
      "outputs": []
    },
    {
      "cell_type": "code",
      "metadata": {
        "id": "erezFOwW1Z8s"
      },
      "source": [
        "full_df.columns"
      ],
      "execution_count": null,
      "outputs": []
    },
    {
      "cell_type": "code",
      "metadata": {
        "id": "QrmMYRjq1cAS"
      },
      "source": [
        "# concat the flights['weatherDesc'] column to the full_df\n",
        "\n",
        "descriptions = flights[\"weatherDesc\"]\n",
        "full_df = full_df.join(descriptions)"
      ],
      "execution_count": 20,
      "outputs": []
    },
    {
      "cell_type": "code",
      "metadata": {
        "id": "pMGBVNND2dhK"
      },
      "source": [
        "full_df.head()"
      ],
      "execution_count": null,
      "outputs": []
    },
    {
      "cell_type": "code",
      "metadata": {
        "id": "-AM9bas7Gwfx"
      },
      "source": [
        "# Make a dataframe identical to james' in every way except filtered to Jan 2019 for ATL airport "
      ],
      "execution_count": null,
      "outputs": []
    },
    {
      "cell_type": "code",
      "metadata": {
        "id": "G2b6W7e-8jaa"
      },
      "source": [
        "# Select features \n",
        "feature_cols = ['fl_date', 'origin_airport_id',\t'dest_airport_id',\t'crs_dep_time',\t'crs_arr_time',\t'crs_elapsed_time',\t'distance', 'op_unique_carrier', 'arr_delay', 'weatherDesc']"
      ],
      "execution_count": 41,
      "outputs": []
    },
    {
      "cell_type": "code",
      "metadata": {
        "id": "tFsXX3yi9BQx"
      },
      "source": [
        "# trim features down to match James baselineDF\n",
        "df1 = full_df[feature_cols]"
      ],
      "execution_count": 42,
      "outputs": []
    },
    {
      "cell_type": "code",
      "metadata": {
        "id": "tjGf34GT9alC"
      },
      "source": [
        "# set column 'arr_delay'to binary 'is_arr_del\n",
        "df1['is_arr_delayed'] = 0\n",
        "df1['is_arr_delayed'].loc[df1['arr_delay'] > 0] = 1"
      ],
      "execution_count": null,
      "outputs": []
    },
    {
      "cell_type": "code",
      "metadata": {
        "id": "vOOB2IOn9qid"
      },
      "source": [
        "# make dummy variables for 'op_unique_carrier'\n",
        "df2 = pd.get_dummies(df1, prefix = ['op_unique_carrier'], columns = ['op_unique_carrier'])"
      ],
      "execution_count": 44,
      "outputs": []
    },
    {
      "cell_type": "code",
      "metadata": {
        "id": "ieHf-TAY9v3x"
      },
      "source": [
        "# break 'fl_date' down into year, month, day, weekday\n",
        "df2['fl_date'] = pd.to_datetime(df2['fl_date'], format = '%Y-%m-%d')\n",
        "# Create new columns\n",
        "df2['day'] = df2['fl_date'].dt.day\n",
        "df2['month'] = df2['fl_date'].dt.month\n",
        "df2['year'] = df2['fl_date'].dt.year\n",
        "df2['weekday'] = df2['fl_date'].dt.dayofweek"
      ],
      "execution_count": 50,
      "outputs": []
    },
    {
      "cell_type": "code",
      "metadata": {
        "id": "FVqYW00XBXVp"
      },
      "source": [
        "# label encode weatherDesc column, convert column to category, then assign the encoded variable to a new column using the cat.codes\n",
        "df2[\"weatherDesc\"] = df2[\"weatherDesc\"].astype('category')\n",
        "df2[\"weatherDesc_cat\"] = df2[\"weatherDesc\"].cat.codes"
      ],
      "execution_count": 58,
      "outputs": []
    },
    {
      "cell_type": "code",
      "metadata": {
        "id": "Znwlvt8c-g7d"
      },
      "source": [
        "# drop the features that have been re-engineered\n",
        "df3 = df2.drop(columns = ['arr_delay', 'fl_date', 'weatherDesc'], axis = 1)"
      ],
      "execution_count": 61,
      "outputs": []
    },
    {
      "cell_type": "code",
      "metadata": {
        "colab": {
          "base_uri": "https://localhost:8080/"
        },
        "id": "bkZPk0Jh-cCH",
        "outputId": "d2813f40-692b-4526-f7ab-aa469b70aa68"
      },
      "source": [
        "df3.columns"
      ],
      "execution_count": 66,
      "outputs": [
        {
          "output_type": "execute_result",
          "data": {
            "text/plain": [
              "Index(['origin_airport_id', 'dest_airport_id', 'crs_dep_time', 'crs_arr_time',\n",
              "       'crs_elapsed_time', 'distance', 'is_arr_delayed',\n",
              "       'op_unique_carrier_9E', 'op_unique_carrier_AA', 'op_unique_carrier_AS',\n",
              "       'op_unique_carrier_B6', 'op_unique_carrier_DL', 'op_unique_carrier_EV',\n",
              "       'op_unique_carrier_F9', 'op_unique_carrier_G7', 'op_unique_carrier_MQ',\n",
              "       'op_unique_carrier_NK', 'op_unique_carrier_OH', 'op_unique_carrier_OO',\n",
              "       'op_unique_carrier_UA', 'op_unique_carrier_WN', 'op_unique_carrier_YV',\n",
              "       'op_unique_carrier_YX', 'day', 'month', 'year', 'weekday',\n",
              "       'weatherDesc_cat'],\n",
              "      dtype='object')"
            ]
          },
          "metadata": {
            "tags": []
          },
          "execution_count": 66
        }
      ]
    },
    {
      "cell_type": "code",
      "metadata": {
        "id": "Tl7E4QduE5mH"
      },
      "source": [
        "# Save df3 at Jan19_ATL_df_forModeling\n",
        "df3.to_csv('Jan19_ATL_encodedForModeling.csv')"
      ],
      "execution_count": 65,
      "outputs": []
    },
    {
      "cell_type": "code",
      "metadata": {
        "id": "8kjpzsLN7Vum"
      },
      "source": [
        "df3 = pd.read_csv('/content/drive/MyDrive/Colab Notebooks/Jan19_ATL_encodedForModeling.csv')"
      ],
      "execution_count": 3,
      "outputs": []
    },
    {
      "cell_type": "markdown",
      "metadata": {
        "id": "0T-FqtDtG7SS"
      },
      "source": [
        "Run Logistic Regression Model"
      ]
    },
    {
      "cell_type": "code",
      "metadata": {
        "id": "9Bx0Q7C62fIa"
      },
      "source": [
        "# instantiate the model (using the default parameters)\n",
        "logreg = LogisticRegression()"
      ],
      "execution_count": 4,
      "outputs": []
    },
    {
      "cell_type": "code",
      "metadata": {
        "id": "5NCAp2Q-G5Hy"
      },
      "source": [
        "# set one column is_arr_delay is target\n",
        "# everything else is train test split "
      ],
      "execution_count": 42,
      "outputs": []
    },
    {
      "cell_type": "code",
      "metadata": {
        "id": "illvxGpE3-2f"
      },
      "source": [
        "feature_cols_withW = ['origin_airport_id', 'dest_airport_id', 'crs_dep_time', 'crs_arr_time',\n",
        "       'crs_elapsed_time', 'distance',\n",
        "       'op_unique_carrier_9E', 'op_unique_carrier_AA', 'op_unique_carrier_AS',\n",
        "       'op_unique_carrier_B6', 'op_unique_carrier_DL', 'op_unique_carrier_EV',\n",
        "       'op_unique_carrier_F9', 'op_unique_carrier_G7', 'op_unique_carrier_MQ',\n",
        "       'op_unique_carrier_NK', 'op_unique_carrier_OH', 'op_unique_carrier_OO',\n",
        "       'op_unique_carrier_UA', 'op_unique_carrier_WN', 'op_unique_carrier_YV',\n",
        "       'op_unique_carrier_YX', 'day', 'month', 'year', 'weekday',\n",
        "       'weatherDesc_cat']\n",
        "feature_cols_noW = ['origin_airport_id', 'dest_airport_id', 'crs_dep_time', 'crs_arr_time',\n",
        "       'crs_elapsed_time', 'distance',\n",
        "       'op_unique_carrier_9E', 'op_unique_carrier_AA', 'op_unique_carrier_AS',\n",
        "       'op_unique_carrier_B6', 'op_unique_carrier_DL', 'op_unique_carrier_EV',\n",
        "       'op_unique_carrier_F9', 'op_unique_carrier_G7', 'op_unique_carrier_MQ',\n",
        "       'op_unique_carrier_NK', 'op_unique_carrier_OH', 'op_unique_carrier_OO',\n",
        "       'op_unique_carrier_UA', 'op_unique_carrier_WN', 'op_unique_carrier_YV',\n",
        "       'op_unique_carrier_YX', 'day', 'month', 'year', 'weekday']"
      ],
      "execution_count": 5,
      "outputs": []
    },
    {
      "cell_type": "code",
      "metadata": {
        "id": "Ib3nU9XmJV0S"
      },
      "source": [
        "# X Data with weather feature\n",
        "X_withW = df3[feature_cols_withW].values"
      ],
      "execution_count": 6,
      "outputs": []
    },
    {
      "cell_type": "code",
      "metadata": {
        "id": "olS_zbfAJlxK"
      },
      "source": [
        "# X Date no weather feature\n",
        "X_noW = df3[feature_cols_noW]"
      ],
      "execution_count": 7,
      "outputs": []
    },
    {
      "cell_type": "code",
      "metadata": {
        "id": "WXoyTbRAQINZ"
      },
      "source": [
        "y = df3['is_arr_delayed'].values"
      ],
      "execution_count": 8,
      "outputs": []
    },
    {
      "cell_type": "code",
      "metadata": {
        "id": "0Jr-FXaeJty2"
      },
      "source": [
        ""
      ],
      "execution_count": 72,
      "outputs": []
    },
    {
      "cell_type": "markdown",
      "metadata": {
        "id": "Fp7nxYrbLopo"
      },
      "source": [
        "Log Reg with Weather Model"
      ]
    },
    {
      "cell_type": "code",
      "metadata": {
        "id": "hB8U6Ox-J2sX"
      },
      "source": [
        "# split X and y into training and testing sets\n",
        "X_withW_train,X_withW_test,y_train,y_test=train_test_split(X_withW,y,test_size=0.25,random_state=0)"
      ],
      "execution_count": 9,
      "outputs": []
    },
    {
      "cell_type": "code",
      "metadata": {
        "colab": {
          "base_uri": "https://localhost:8080/"
        },
        "id": "TTOnafr1Kr_K",
        "outputId": "2924432d-3c98-4870-8a4f-fb32175a7a27"
      },
      "source": [
        "# fit the model with data\n",
        "model_1 = logreg.fit(X_withW_train,y_train)"
      ],
      "execution_count": 39,
      "outputs": [
        {
          "output_type": "stream",
          "text": [
            "/usr/local/lib/python3.6/dist-packages/sklearn/linear_model/_logistic.py:940: ConvergenceWarning: lbfgs failed to converge (status=1):\n",
            "STOP: TOTAL NO. of ITERATIONS REACHED LIMIT.\n",
            "\n",
            "Increase the number of iterations (max_iter) or scale the data as shown in:\n",
            "    https://scikit-learn.org/stable/modules/preprocessing.html\n",
            "Please also refer to the documentation for alternative solver options:\n",
            "    https://scikit-learn.org/stable/modules/linear_model.html#logistic-regression\n",
            "  extra_warning_msg=_LOGISTIC_SOLVER_CONVERGENCE_MSG)\n"
          ],
          "name": "stderr"
        }
      ]
    },
    {
      "cell_type": "code",
      "metadata": {
        "id": "2LYJQXCWK2va"
      },
      "source": [
        "# make predictions\n",
        "y_withW_pred=model_1.predict(X_withW_test)"
      ],
      "execution_count": 40,
      "outputs": []
    },
    {
      "cell_type": "code",
      "metadata": {
        "colab": {
          "base_uri": "https://localhost:8080/"
        },
        "id": "IOlJQ5sZLBsI",
        "outputId": "05e75149-29d2-486c-8ac6-c74500fa9f8d"
      },
      "source": [
        "print(\"Accuracy of model with weather feature:\",metrics.accuracy_score(y_test, y_withW_pred))"
      ],
      "execution_count": 42,
      "outputs": [
        {
          "output_type": "stream",
          "text": [
            "Accuracy of model with weather feature: 0.7076390669059216\n"
          ],
          "name": "stdout"
        }
      ]
    },
    {
      "cell_type": "code",
      "metadata": {
        "id": "FjmAeihOb3zS"
      },
      "source": [
        "importance = model_1.coef_[0]"
      ],
      "execution_count": 46,
      "outputs": []
    },
    {
      "cell_type": "code",
      "metadata": {
        "colab": {
          "base_uri": "https://localhost:8080/"
        },
        "id": "-zgZUv32b537",
        "outputId": "dba8a434-c00e-412d-9d10-5615721f010a"
      },
      "source": [
        "importance"
      ],
      "execution_count": 47,
      "outputs": [
        {
          "output_type": "execute_result",
          "data": {
            "text/plain": [
              "array([-5.64786993e-05, -6.54306056e-06, -4.09040170e-05,  1.26249699e-04,\n",
              "       -1.72485144e-02,  2.54071444e-03, -4.70766974e-04,  2.73754945e-04,\n",
              "       -4.48492143e-05,  1.09946825e-04, -2.31425879e-03,  4.69505854e-06,\n",
              "        2.59910348e-04,  6.99615380e-05, -9.54868296e-06,  1.87453457e-04,\n",
              "        1.24720571e-04,  6.79506707e-04,  2.42813970e-04,  5.66214550e-04,\n",
              "        1.74570997e-04,  1.45869264e-04,  1.41268202e-02, -5.43221114e-09,\n",
              "       -1.09676343e-05,  1.01033913e-02, -9.68249213e-03])"
            ]
          },
          "metadata": {
            "tags": []
          },
          "execution_count": 47
        }
      ]
    },
    {
      "cell_type": "code",
      "metadata": {
        "colab": {
          "base_uri": "https://localhost:8080/"
        },
        "id": "Df62JREUcLjS",
        "outputId": "1aa77cdf-fcc7-4576-be9d-5d5810159b7c"
      },
      "source": [
        "# Feature Importance for baseline Logistic Regression Model\n",
        "for i,v in enumerate(importance):\n",
        "\tprint('Feature: %0d, Score: %.5f' % (i,v))"
      ],
      "execution_count": 48,
      "outputs": [
        {
          "output_type": "stream",
          "text": [
            "Feature: 0, Score: -0.00006\n",
            "Feature: 1, Score: -0.00001\n",
            "Feature: 2, Score: -0.00004\n",
            "Feature: 3, Score: 0.00013\n",
            "Feature: 4, Score: -0.01725\n",
            "Feature: 5, Score: 0.00254\n",
            "Feature: 6, Score: -0.00047\n",
            "Feature: 7, Score: 0.00027\n",
            "Feature: 8, Score: -0.00004\n",
            "Feature: 9, Score: 0.00011\n",
            "Feature: 10, Score: -0.00231\n",
            "Feature: 11, Score: 0.00000\n",
            "Feature: 12, Score: 0.00026\n",
            "Feature: 13, Score: 0.00007\n",
            "Feature: 14, Score: -0.00001\n",
            "Feature: 15, Score: 0.00019\n",
            "Feature: 16, Score: 0.00012\n",
            "Feature: 17, Score: 0.00068\n",
            "Feature: 18, Score: 0.00024\n",
            "Feature: 19, Score: 0.00057\n",
            "Feature: 20, Score: 0.00017\n",
            "Feature: 21, Score: 0.00015\n",
            "Feature: 22, Score: 0.01413\n",
            "Feature: 23, Score: -0.00000\n",
            "Feature: 24, Score: -0.00001\n",
            "Feature: 25, Score: 0.01010\n",
            "Feature: 26, Score: -0.00968\n"
          ],
          "name": "stdout"
        }
      ]
    },
    {
      "cell_type": "code",
      "metadata": {
        "colab": {
          "base_uri": "https://localhost:8080/",
          "height": 265
        },
        "id": "uICjk0fpcPZq",
        "outputId": "9a8abd6a-0dd1-4dca-8903-1c0334d072a4"
      },
      "source": [
        "# plot feature importance\n",
        "pyplot.bar([x for x in range(len(importance))], importance)\n",
        "pyplot.show()"
      ],
      "execution_count": 52,
      "outputs": [
        {
          "output_type": "display_data",
          "data": {
            "image/png": "[encoded data removed]",
            "text/plain": [
              "<Figure size 432x288 with 1 Axes>"
            ]
          },
          "metadata": {
            "tags": [],
            "needs_background": "light"
          }
        }
      ]
    },
    {
      "cell_type": "code",
      "metadata": {
        "id": "VcYANHl8LMN-"
      },
      "source": [
        "# note, convergence error, need to increase interations or improve parameters"
      ],
      "execution_count": null,
      "outputs": []
    },
    {
      "cell_type": "markdown",
      "metadata": {
        "id": "Qz40LL8lW982"
      },
      "source": [
        "Gridsearch for Weather Log Reg"
      ]
    },
    {
      "cell_type": "code",
      "metadata": {
        "id": "EZavaMJ3XGse"
      },
      "source": [
        "# import GridSearchCV from sklearn\n",
        "from sklearn.model_selection import GridSearchCV"
      ],
      "execution_count": 34,
      "outputs": []
    },
    {
      "cell_type": "code",
      "metadata": {
        "id": "ipMxNlMiXerV"
      },
      "source": [
        "param_grid = {'max_iter' : [100, 1000, 10000],\n",
        "    'penalty' : ['l1', 'l2', 'elasticnet'],\n",
        "    'l1_ratio' : [0.01, 0.1]}"
      ],
      "execution_count": 35,
      "outputs": []
    },
    {
      "cell_type": "code",
      "metadata": {
        "id": "8TQpEgUzXU2T"
      },
      "source": [
        "grid = GridSearchCV(logreg, param_grid, verbose = 1, n_jobs = -1)"
      ],
      "execution_count": 36,
      "outputs": []
    },
    {
      "cell_type": "code",
      "metadata": {
        "colab": {
          "base_uri": "https://localhost:8080/"
        },
        "id": "C35Ri9Apc06A",
        "outputId": "df119fa5-b990-47b3-ee41-51fbe0aa229f"
      },
      "source": [
        "bestF = grid.fit(X_withW_train, y_train)"
      ],
      "execution_count": 37,
      "outputs": [
        {
          "output_type": "stream",
          "text": [
            "Fitting 5 folds for each of 18 candidates, totalling 90 fits\n"
          ],
          "name": "stdout"
        },
        {
          "output_type": "stream",
          "text": [
            "[Parallel(n_jobs=-1)]: Using backend LokyBackend with 2 concurrent workers.\n",
            "[Parallel(n_jobs=-1)]: Done  72 tasks      | elapsed:    8.2s\n",
            "[Parallel(n_jobs=-1)]: Done  87 out of  90 | elapsed:   10.4s remaining:    0.4s\n",
            "[Parallel(n_jobs=-1)]: Done  90 out of  90 | elapsed:   11.0s finished\n",
            "/usr/local/lib/python3.6/dist-packages/sklearn/linear_model/_logistic.py:1501: UserWarning: l1_ratio parameter is only used when penalty is 'elasticnet'. Got (penalty=l2)\n",
            "  \"(penalty={})\".format(self.penalty))\n",
            "/usr/local/lib/python3.6/dist-packages/sklearn/linear_model/_logistic.py:940: ConvergenceWarning: lbfgs failed to converge (status=1):\n",
            "STOP: TOTAL NO. of ITERATIONS REACHED LIMIT.\n",
            "\n",
            "Increase the number of iterations (max_iter) or scale the data as shown in:\n",
            "    https://scikit-learn.org/stable/modules/preprocessing.html\n",
            "Please also refer to the documentation for alternative solver options:\n",
            "    https://scikit-learn.org/stable/modules/linear_model.html#logistic-regression\n",
            "  extra_warning_msg=_LOGISTIC_SOLVER_CONVERGENCE_MSG)\n"
          ],
          "name": "stderr"
        }
      ]
    },
    {
      "cell_type": "code",
      "metadata": {
        "id": "W1v6LMHcXMPd"
      },
      "source": [
        "# make predictions\n",
        "y_withW_pred=logreg.predict(X_withW_test)"
      ],
      "execution_count": 18,
      "outputs": []
    },
    {
      "cell_type": "code",
      "metadata": {
        "colab": {
          "base_uri": "https://localhost:8080/"
        },
        "id": "DxP3d15PWs1R",
        "outputId": "56e07305-b98e-4f11-8047-bd0ba3d08870"
      },
      "source": [
        "print(\"Accuracy of model with weather feature:\",metrics.accuracy_score(y_test, y_withW_pred))\n",
        "# Accuracy of model with weather feature: 0.7076390669059216"
      ],
      "execution_count": 19,
      "outputs": [
        {
          "output_type": "stream",
          "text": [
            "Accuracy of model with weather feature: 0.7076390669059216\n"
          ],
          "name": "stdout"
        }
      ]
    },
    {
      "cell_type": "code",
      "metadata": {
        "colab": {
          "base_uri": "https://localhost:8080/"
        },
        "id": "1IgaMn2NdAfL",
        "outputId": "953b03b4-a919-4a35-dad9-66beee22247e"
      },
      "source": [
        "print('Best max_iter:', bestF.best_estimator_.get_params()['max_iter'])\n",
        "print('Best penalty:', bestF.best_estimator_.get_params()['penalty'])\n",
        "print('Best l1_ratio:', bestF.best_estimator_.get_params()['l1_ratio'])\n",
        "# Best max_iter: 100\n",
        "# Best penalty: l2\n",
        "# Best l1_ratio: 0.01"
      ],
      "execution_count": 57,
      "outputs": [
        {
          "output_type": "stream",
          "text": [
            "Best max_iter: 100\n",
            "Best penalty: l2\n",
            "Best l1_ratio: 0.01\n"
          ],
          "name": "stdout"
        }
      ]
    },
    {
      "cell_type": "code",
      "metadata": {
        "id": "Ric9yv6TbdGH"
      },
      "source": [
        ""
      ],
      "execution_count": 52,
      "outputs": []
    },
    {
      "cell_type": "markdown",
      "metadata": {
        "id": "DdLVj7CiLw-B"
      },
      "source": [
        "Log Reg without Weather Model"
      ]
    },
    {
      "cell_type": "code",
      "metadata": {
        "id": "zCzlfRSaLivh"
      },
      "source": [
        "# split X and y into training and testing sets\n",
        "X_noW_train,X_noW_test,y_train,y_test=train_test_split(X_noW,y,test_size=0.25,random_state=0)"
      ],
      "execution_count": 54,
      "outputs": []
    },
    {
      "cell_type": "code",
      "metadata": {
        "colab": {
          "base_uri": "https://localhost:8080/"
        },
        "id": "ZciJ2TjkL7zi",
        "outputId": "a85d09fa-f43b-45aa-90e5-6faddf51fe35"
      },
      "source": [
        "# fit the model with data\n",
        "model_2 = logreg.fit(X_noW_train,y_train)"
      ],
      "execution_count": 80,
      "outputs": [
        {
          "output_type": "execute_result",
          "data": {
            "text/plain": [
              "LogisticRegression(C=1.0, class_weight=None, dual=False, fit_intercept=True,\n",
              "                   intercept_scaling=1, l1_ratio=None, max_iter=100,\n",
              "                   multi_class='auto', n_jobs=None, penalty='l2',\n",
              "                   random_state=None, solver='lbfgs', tol=0.0001, verbose=0,\n",
              "                   warm_start=False)"
            ]
          },
          "metadata": {
            "tags": []
          },
          "execution_count": 80
        }
      ]
    },
    {
      "cell_type": "code",
      "metadata": {
        "id": "I9Zh85ksMBdp"
      },
      "source": [
        "# make predictions\n",
        "y2_noW_pred=logreg.predict(X_noW_test)"
      ],
      "execution_count": 81,
      "outputs": []
    },
    {
      "cell_type": "code",
      "metadata": {
        "colab": {
          "base_uri": "https://localhost:8080/"
        },
        "id": "K-kiXJJfMITo",
        "outputId": "2efe4070-71af-4c2b-80a0-3b2cbd19e1ff"
      },
      "source": [
        "print(\"Accuracy of model without weather feature:\",metrics.accuracy_score(y_test, y_noW_pred))"
      ],
      "execution_count": 82,
      "outputs": [
        {
          "output_type": "stream",
          "text": [
            "Accuracy of model without weather feature: 0.707254550115355\n"
          ],
          "name": "stdout"
        }
      ]
    },
    {
      "cell_type": "code",
      "metadata": {
        "id": "fbxmjFC8MOsf"
      },
      "source": [
        ""
      ],
      "execution_count": null,
      "outputs": []
    },
    {
      "cell_type": "markdown",
      "metadata": {
        "id": "3NiIobnPYWo-"
      },
      "source": [
        "Random Forest with Weather"
      ]
    },
    {
      "cell_type": "code",
      "metadata": {
        "id": "M7wZ1QxpYZdF"
      },
      "source": [
        "#Import Random Forest Model\n",
        "from sklearn.ensemble import RandomForestClassifier"
      ],
      "execution_count": 20,
      "outputs": []
    },
    {
      "cell_type": "code",
      "metadata": {
        "id": "cnRwj0A-YgXc"
      },
      "source": [
        "#Create a Gaussian Classifier\n",
        "clf=RandomForestClassifier(n_estimators=200)\n"
      ],
      "execution_count": 25,
      "outputs": []
    },
    {
      "cell_type": "code",
      "metadata": {
        "id": "mqhXftayYzDi"
      },
      "source": [
        "#Train the model using the training sets y_pred=clf.predict(X_test)\n",
        "model_3 = clf.fit(X_withW_train,y_train)"
      ],
      "execution_count": 31,
      "outputs": []
    },
    {
      "cell_type": "code",
      "metadata": {
        "id": "5RQA94ywY4YJ"
      },
      "source": [
        "y3_pred=clf.predict(X_withW_test)"
      ],
      "execution_count": 27,
      "outputs": []
    },
    {
      "cell_type": "code",
      "metadata": {
        "colab": {
          "base_uri": "https://localhost:8080/"
        },
        "id": "MbnrziibY_Q_",
        "outputId": "26d2c777-6f91-4290-8f35-349603fd2f9e"
      },
      "source": [
        "print(\"Accuracy :\",metrics.accuracy_score(y_test, y_pred))\n",
        "# Random Forest with n_estimators = 200\n",
        "# Accuracy: 0.7326326582927455"
      ],
      "execution_count": 28,
      "outputs": [
        {
          "output_type": "stream",
          "text": [
            "Accuracy: 0.7326326582927455\n"
          ],
          "name": "stdout"
        }
      ]
    },
    {
      "cell_type": "markdown",
      "metadata": {
        "id": "WmPju5xvg4ZR"
      },
      "source": [
        "Random Forest Without Weather"
      ]
    },
    {
      "cell_type": "code",
      "metadata": {
        "id": "jPZgSOsGaE0R"
      },
      "source": [
        "#Train the model using the training sets y_pred=clf.predict(X_test)\n",
        "model_4 = clf.fit(X_noW_train,y_train)"
      ],
      "execution_count": 55,
      "outputs": []
    },
    {
      "cell_type": "code",
      "metadata": {
        "id": "puqaEafUZy46"
      },
      "source": [
        "y4_pred=clf.predict(X_noW_test)"
      ],
      "execution_count": 56,
      "outputs": []
    },
    {
      "cell_type": "code",
      "metadata": {
        "colab": {
          "base_uri": "https://localhost:8080/"
        },
        "id": "GUSOgaODhfji",
        "outputId": "4f2d2873-9ca9-4b76-e415-83e0f8ecf3e9"
      },
      "source": [
        "print(\"Accuracy :\",metrics.accuracy_score(y_test, y4_pred))"
      ],
      "execution_count": 57,
      "outputs": [
        {
          "output_type": "stream",
          "text": [
            "Accuracy : 0.7332735196103564\n"
          ],
          "name": "stdout"
        }
      ]
    },
    {
      "cell_type": "code",
      "metadata": {
        "id": "F3cHuzPRZEXY"
      },
      "source": [
        "# Random Forest is better than Log Reg"
      ],
      "execution_count": null,
      "outputs": []
    }
  ]
}
