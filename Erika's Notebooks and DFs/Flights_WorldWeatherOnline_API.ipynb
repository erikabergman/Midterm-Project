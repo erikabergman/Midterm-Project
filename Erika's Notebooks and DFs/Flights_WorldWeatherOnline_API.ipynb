{
  "nbformat": 4,
  "nbformat_minor": 0,
  "metadata": {
    "colab": {
      "name": "Flights_WorldWeatherOnline_API.ipynb",
      "provenance": [],
      "collapsed_sections": [],
      "mount_file_id": "1mEtE_MesYWF7c5wgbGz2POZjWY7LDaoy",
      "authorship_tag": "ABX9TyPNt4WOQXcxHt3LJybZkv14",
      "include_colab_link": true
    },
    "kernelspec": {
      "name": "python3",
      "display_name": "Python 3"
    }
  },
  "cells": [
    {
      "cell_type": "markdown",
      "metadata": {
        "id": "view-in-github",
        "colab_type": "text"
      },
      "source": [
        "<a href=\"https://colab.research.google.com/github/DeftJackal/Midterm-Project/blob/main/Flights_WorldWeatherOnline_API.ipynb\" target=\"_parent\"><img src=\"https://colab.research.google.com/assets/colab-badge.svg\" alt=\"Open In Colab\"/></a>"
      ]
    },
    {
      "cell_type": "markdown",
      "metadata": {
        "id": "xoh8mKuMgDDI"
      },
      "source": [
        "\n",
        "Task 3: Does the weather affect the delay?\n",
        "Use the API to pull the weather information for flights. There is no need to get weather for ALL flights. We can choose the right representative sample. Let's focus on four weather types:\n",
        "\n",
        "sunny </br>\n",
        "cloudy</br>\n",
        "rainy</br>\n",
        "snow.</br>\n",
        "\n",
        "Test the hypothesis that these 4 delays are from the same distribution. If they are not, which ones are significantly different?"
      ]
    },
    {
      "cell_type": "code",
      "metadata": {
        "id": "IzWdVTVnrVhy",
        "colab": {
          "base_uri": "https://localhost:8080/",
          "height": 694
        },
        "outputId": "0428ae7c-9f56-41bd-a454-ce92cb06625e"
      },
      "source": [
        "# import packages\n",
        "\n",
        "import pandas as pd\n",
        "import numpy as np\n",
        "import IPython\n",
        "!pip install -U Ipython\n",
        "import json\n",
        "from IPython.display import JSON\n",
        "from google.colab import files\n",
        "from io import StringIO\n",
        "import requests as re\n",
        "import os\n",
        "import pprint"
      ],
      "execution_count": 1,
      "outputs": [
        {
          "output_type": "stream",
          "text": [
            "Collecting Ipython\n",
            "\u001b[?25l  Downloading https://files.pythonhosted.org/packages/23/6a/210816c943c9aeeb29e4e18a298f14bf0e118fe222a23e13bfcc2d41b0a4/ipython-7.16.1-py3-none-any.whl (785kB)\n",
            "\u001b[K     |████████████████████████████████| 788kB 5.1MB/s \n",
            "\u001b[?25hRequirement already satisfied, skipping upgrade: decorator in /usr/local/lib/python3.6/dist-packages (from Ipython) (4.4.2)\n",
            "Requirement already satisfied, skipping upgrade: pygments in /usr/local/lib/python3.6/dist-packages (from Ipython) (2.6.1)\n",
            "Requirement already satisfied, skipping upgrade: pexpect; sys_platform != \"win32\" in /usr/local/lib/python3.6/dist-packages (from Ipython) (4.8.0)\n",
            "Requirement already satisfied, skipping upgrade: pickleshare in /usr/local/lib/python3.6/dist-packages (from Ipython) (0.7.5)\n",
            "Requirement already satisfied, skipping upgrade: setuptools>=18.5 in /usr/local/lib/python3.6/dist-packages (from Ipython) (53.0.0)\n",
            "Requirement already satisfied, skipping upgrade: jedi>=0.10 in /usr/local/lib/python3.6/dist-packages (from Ipython) (0.18.0)\n",
            "Requirement already satisfied, skipping upgrade: backcall in /usr/local/lib/python3.6/dist-packages (from Ipython) (0.2.0)\n",
            "Collecting prompt-toolkit!=3.0.0,!=3.0.1,<3.1.0,>=2.0.0\n",
            "\u001b[?25l  Downloading https://files.pythonhosted.org/packages/4e/f4/805f4596bf15ae8e576623f579b40c12b0780a7bdd9a437f205f136d9ece/prompt_toolkit-3.0.14-py3-none-any.whl (359kB)\n",
            "\u001b[K     |████████████████████████████████| 368kB 8.9MB/s \n",
            "\u001b[?25hRequirement already satisfied, skipping upgrade: traitlets>=4.2 in /usr/local/lib/python3.6/dist-packages (from Ipython) (4.3.3)\n",
            "Requirement already satisfied, skipping upgrade: ptyprocess>=0.5 in /usr/local/lib/python3.6/dist-packages (from pexpect; sys_platform != \"win32\"->Ipython) (0.7.0)\n",
            "Requirement already satisfied, skipping upgrade: parso<0.9.0,>=0.8.0 in /usr/local/lib/python3.6/dist-packages (from jedi>=0.10->Ipython) (0.8.1)\n",
            "Requirement already satisfied, skipping upgrade: wcwidth in /usr/local/lib/python3.6/dist-packages (from prompt-toolkit!=3.0.0,!=3.0.1,<3.1.0,>=2.0.0->Ipython) (0.2.5)\n",
            "Requirement already satisfied, skipping upgrade: ipython-genutils in /usr/local/lib/python3.6/dist-packages (from traitlets>=4.2->Ipython) (0.2.0)\n",
            "Requirement already satisfied, skipping upgrade: six in /usr/local/lib/python3.6/dist-packages (from traitlets>=4.2->Ipython) (1.15.0)\n",
            "\u001b[31mERROR: jupyter-console 5.2.0 has requirement prompt-toolkit<2.0.0,>=1.0.0, but you'll have prompt-toolkit 3.0.14 which is incompatible.\u001b[0m\n",
            "\u001b[31mERROR: google-colab 1.0.0 has requirement ipython~=5.5.0, but you'll have ipython 7.16.1 which is incompatible.\u001b[0m\n",
            "Installing collected packages: prompt-toolkit, Ipython\n",
            "  Found existing installation: prompt-toolkit 1.0.18\n",
            "    Uninstalling prompt-toolkit-1.0.18:\n",
            "      Successfully uninstalled prompt-toolkit-1.0.18\n",
            "  Found existing installation: ipython 5.5.0\n",
            "    Uninstalling ipython-5.5.0:\n",
            "      Successfully uninstalled ipython-5.5.0\n",
            "Successfully installed Ipython-7.16.1 prompt-toolkit-3.0.14\n"
          ],
          "name": "stdout"
        },
        {
          "output_type": "display_data",
          "data": {
            "application/vnd.colab-display-data+json": {
              "pip_warning": {
                "packages": [
                  "IPython",
                  "prompt_toolkit"
                ]
              }
            }
          },
          "metadata": {
            "tags": []
          }
        }
      ]
    },
    {
      "cell_type": "markdown",
      "metadata": {
        "id": "8rrfCQnNdwcG"
      },
      "source": [
        "## Gather Subsample #1:\n",
        " </br>\n",
        "First 60,000 oberservations in flights table \n",
        "</br>\n",
        "\n",
        "## Meta Data: \n",
        "</br>\n",
        "Date range: May 24, 2018 to May 27, 2018\n",
        " </br>\n",
        "Total number of delayed flights: \n",
        "</br>\n",
        "Number of delayed flights (partial or all) due to weather delay: 445 \n",
        "</br>\n",
        "Number of origin cities with weather delays: 94\n",
        "</br>\n",
        "Number of destination cities with weather delays: 121 \n",
        "</br>\n",
        "\n"
      ]
    },
    {
      "cell_type": "code",
      "metadata": {
        "id": "70E-fYBPpsxD"
      },
      "source": [
        "flights = pd.read_csv('/content/drive/MyDrive/Colab Notebooks/flights.csv')"
      ],
      "execution_count": 2,
      "outputs": []
    },
    {
      "cell_type": "code",
      "metadata": {
        "colab": {
          "base_uri": "https://localhost:8080/"
        },
        "id": "307enJIIrTn7",
        "outputId": "44f90dfb-4adf-4f05-aa7b-f1a3be5a5949"
      },
      "source": [
        "flights.shape"
      ],
      "execution_count": 3,
      "outputs": [
        {
          "output_type": "execute_result",
          "data": {
            "text/plain": [
              "(60000, 42)"
            ]
          },
          "metadata": {
            "tags": []
          },
          "execution_count": 3
        }
      ]
    },
    {
      "cell_type": "code",
      "metadata": {
        "id": "s1tUBP5a0A9o"
      },
      "source": [
        "weather_delays = flights[['fl_date', 'dep_time', 'origin_city_name', 'dest_city_name', 'dep_delay', 'weather_delay']]"
      ],
      "execution_count": 40,
      "outputs": []
    },
    {
      "cell_type": "code",
      "metadata": {
        "id": "Zn2k8HIz0XKl"
      },
      "source": [
        ""
      ],
      "execution_count": 6,
      "outputs": []
    },
    {
      "cell_type": "code",
      "metadata": {
        "colab": {
          "base_uri": "https://localhost:8080/"
        },
        "id": "F-ZJvFO40ilE",
        "outputId": "876d7c99-f577-4576-d522-03d097a40e6f"
      },
      "source": [
        "weather_delays['fl_date'] = pd.to_datetime(weather_delays['fl_date'], format = '%Y-%m-%d')"
      ],
      "execution_count": 41,
      "outputs": [
        {
          "output_type": "stream",
          "text": [
            "/usr/local/lib/python3.6/dist-packages/ipykernel_launcher.py:1: SettingWithCopyWarning: \n",
            "A value is trying to be set on a copy of a slice from a DataFrame.\n",
            "Try using .loc[row_indexer,col_indexer] = value instead\n",
            "\n",
            "See the caveats in the documentation: https://pandas.pydata.org/pandas-docs/stable/user_guide/indexing.html#returning-a-view-versus-a-copy\n",
            "  \"\"\"Entry point for launching an IPython kernel.\n"
          ],
          "name": "stderr"
        }
      ]
    },
    {
      "cell_type": "code",
      "metadata": {
        "id": "zm-dvsdYC0AC"
      },
      "source": [
        "# df2.loc[df2['Weight'] == 0,'Weight'] = np.nan\n",
        "# cols = [\"Weight\",\"Height\",\"BootSize\",\"SuitSize\",\"Type\"]\n",
        "# df2[cols] = df2[cols].replace({'0':np.nan, 0:np.nan})"
      ],
      "execution_count": 8,
      "outputs": []
    },
    {
      "cell_type": "code",
      "metadata": {
        "colab": {
          "base_uri": "https://localhost:8080/"
        },
        "id": "O7oQGNAnCk2w",
        "outputId": "1c612033-78f0-46dd-e778-ca1282e3311c"
      },
      "source": [
        "weather_delays['weather_delay'] = weather_delays['weather_delay'].replace(0.0, np.nan)"
      ],
      "execution_count": 42,
      "outputs": [
        {
          "output_type": "stream",
          "text": [
            "/usr/local/lib/python3.6/dist-packages/ipykernel_launcher.py:1: SettingWithCopyWarning: \n",
            "A value is trying to be set on a copy of a slice from a DataFrame.\n",
            "Try using .loc[row_indexer,col_indexer] = value instead\n",
            "\n",
            "See the caveats in the documentation: https://pandas.pydata.org/pandas-docs/stable/user_guide/indexing.html#returning-a-view-versus-a-copy\n",
            "  \"\"\"Entry point for launching an IPython kernel.\n"
          ],
          "name": "stderr"
        }
      ]
    },
    {
      "cell_type": "code",
      "metadata": {
        "id": "o5BtiDs77yZB"
      },
      "source": [
        "weather_days = weather_delays[weather_delays['weather_delay'].notnull()]"
      ],
      "execution_count": 43,
      "outputs": []
    },
    {
      "cell_type": "code",
      "metadata": {
        "id": "zaERsRfKCKEk"
      },
      "source": [
        "weather_days_mini = weather_days.head(10)"
      ],
      "execution_count": 105,
      "outputs": []
    },
    {
      "cell_type": "code",
      "metadata": {
        "colab": {
          "base_uri": "https://localhost:8080/"
        },
        "id": "PzipuzSsbvlm",
        "outputId": "1bcfd918-72c4-4a5e-823b-60ffd5dab1be"
      },
      "source": [
        "weather_days.origin_city_name.unique()\n"
      ],
      "execution_count": 16,
      "outputs": [
        {
          "output_type": "execute_result",
          "data": {
            "text/plain": [
              "array(['Minneapolis, MN', 'Reno, NV', 'San Diego, CA', 'San Jose, CA',\n",
              "       'Tampa, FL', 'New Orleans, LA', 'Memphis, TN', 'Charleston, SC',\n",
              "       'Chicago, IL', 'Atlanta, GA', 'Pensacola, FL', 'Savannah, GA',\n",
              "       'Oakland, CA', 'Dallas/Fort Worth, TX', 'Stillwater, OK',\n",
              "       'Fayetteville, AR', 'Lexington, KY', 'Springfield, MO',\n",
              "       'Jackson/Vicksburg, MS', 'Grand Rapids, MI', 'Washington, DC',\n",
              "       'Houston, TX', 'Fort Lauderdale, FL', 'Charlottesville, VA',\n",
              "       'Cincinnati, OH', 'Montgomery, AL', 'Punta Gorda, FL',\n",
              "       'Belleville, IL', 'Moline, IL', 'San Angelo, TX', 'Huntsville, AL',\n",
              "       'Oklahoma City, OK', 'Lafayette, LA', 'Louisville, KY',\n",
              "       'Tallahassee, FL', 'Birmingham, AL',\n",
              "       'Allentown/Bethlehem/Easton, PA', 'Evansville, IN', 'Miami, FL',\n",
              "       'Indianapolis, IN', 'College Station/Bryan, TX', 'Alexandria, LA',\n",
              "       'Salt Lake City, UT', 'Green Bay, WI', 'Seattle, WA',\n",
              "       'Charleston/Dunbar, WV', 'Rapid City, SD', 'Aberdeen, SD',\n",
              "       'St. George, UT', 'Burbank, CA', 'Dallas, TX', 'Mobile, AL',\n",
              "       'Key West, FL', 'Santa Ana, CA', 'Chattanooga, TN',\n",
              "       'Gulfport/Biloxi, MS', 'Pasco/Kennewick/Richland, WA',\n",
              "       'Orlando, FL', 'Columbia, SC', 'Abilene, TX', 'Philadelphia, PA',\n",
              "       'Charlotte, NC', 'New Bern/Morehead/Beaufort, NC',\n",
              "       'Greensboro/High Point, NC', 'Medford, OR', 'Nashville, TN',\n",
              "       'Ashland, WV', 'New York, NY', 'Raleigh/Durham, NC', 'Denver, CO',\n",
              "       'Knoxville, TN', 'Columbus, OH', 'Wilmington, NC',\n",
              "       'Pittsburgh, PA', 'Baltimore, MD', 'Panama City, FL',\n",
              "       'Myrtle Beach, SC', 'Valparaiso, FL', 'Norfolk, VA',\n",
              "       'Los Angeles, CA', 'Anchorage, AK', 'St. Louis, MO',\n",
              "       'Syracuse, NY', 'Newark, NJ', 'Detroit, MI', 'Hartford, CT',\n",
              "       'Manchester, NH', 'Grand Junction, CO', 'Portland, ME',\n",
              "       'Toledo, OH', 'Jacksonville, FL', 'Scottsbluff, NE',\n",
              "       'Devils Lake, ND', 'San Juan, PR'], dtype=object)"
            ]
          },
          "metadata": {
            "tags": []
          },
          "execution_count": 16
        }
      ]
    },
    {
      "cell_type": "code",
      "metadata": {
        "id": "zIj-SbHqRJlN"
      },
      "source": [
        ""
      ],
      "execution_count": 29,
      "outputs": []
    },
    {
      "cell_type": "code",
      "metadata": {
        "colab": {
          "base_uri": "https://localhost:8080/"
        },
        "id": "l0zrHa--fZ8y",
        "outputId": "9869418e-4b95-466e-b5a7-1004784e432d"
      },
      "source": [
        "weather_days.dest_city_name.value_counts()"
      ],
      "execution_count": null,
      "outputs": [
        {
          "output_type": "execute_result",
          "data": {
            "text/plain": [
              "Dallas/Fort Worth, TX     28\n",
              "Chicago, IL               25\n",
              "Charlotte, NC             24\n",
              "Atlanta, GA               20\n",
              "New York, NY              17\n",
              "                          ..\n",
              "Wichita, KS                1\n",
              "Islip, NY                  1\n",
              "Charlotte Amalie, VI       1\n",
              "Bloomington/Normal, IL     1\n",
              "Fayetteville, NC           1\n",
              "Name: dest_city_name, Length: 121, dtype: int64"
            ]
          },
          "metadata": {
            "tags": []
          },
          "execution_count": 110
        }
      ]
    },
    {
      "cell_type": "code",
      "metadata": {
        "id": "hGM2On8O712H"
      },
      "source": [
        "# if weather delay is int > 0, take fl_date into API search"
      ],
      "execution_count": null,
      "outputs": []
    },
    {
      "cell_type": "code",
      "metadata": {
        "id": "cfkC9ynH_tgX"
      },
      "source": [
        "# For world weather online \n",
        "# Docs : https://www.worldweatheronline.com/developer/api/docs/local-city-town-weather-api.aspx"
      ],
      "execution_count": null,
      "outputs": []
    },
    {
      "cell_type": "code",
      "metadata": {
        "id": "7MUVONlf_gxF"
      },
      "source": [
        "# make an df with city/date combos\n",
        "# run API function on that df\n",
        "# append the data to the df\n",
        "# save as csv for later use"
      ],
      "execution_count": null,
      "outputs": []
    },
    {
      "cell_type": "code",
      "metadata": {
        "id": "SuVKzdZ11u-k"
      },
      "source": [
        "# API_times_dict = {tuple(range(0,300)): 0, \n",
        "#                   tuple(range(301,600)): 1,\n",
        "#                   tuple(range(601,900)): 2,\n",
        "#                   tuple(range(901,1200)): 3,\n",
        "#                   tuple(range(1201,1500)): 4,\n",
        "#                   tuple(range(1501,1800)): 5,\n",
        "#                   tuple(range(1801,2100)): 6,\n",
        "#                   tuple(range(2101, 2400)): 7}"
      ],
      "execution_count": 72,
      "outputs": []
    },
    {
      "cell_type": "code",
      "metadata": {
        "id": "2nXBm4hd1s8u"
      },
      "source": [
        "# weather_days['API_dep_time'] = weather_days['dep_time'].apply(lambda x: API_times_dict[int(x)])"
      ],
      "execution_count": 29,
      "outputs": []
    },
    {
      "cell_type": "code",
      "metadata": {
        "id": "z_B1--ziuF1C"
      },
      "source": [
        "API_times = []\n",
        "for value in weather_days.loc[:,'dep_time']:\n",
        "  if value in range(0,300):\n",
        "    API_time = 0\n",
        "  elif value in range(301,600):\n",
        "    API_time = 1 \n",
        "  elif value in range(601,900):\n",
        "    API_time = 2 \n",
        "  elif value in range(901,1200):\n",
        "    API_time = 3  \n",
        "  elif value in range(1201,1500):\n",
        "    API_time = 4   \n",
        "  elif value in range(1501,1800):\n",
        "    API_time = 5  \n",
        "  # else value in range(1801,2400):\n",
        "  else:\n",
        "    API_time = 6\n",
        "  # elif value in range(2101, 2400):\n",
        "  #   API_time = 7 \n",
        "  \n",
        "  API_times.append(API_time)\n"
      ],
      "execution_count": 99,
      "outputs": []
    },
    {
      "cell_type": "code",
      "metadata": {
        "colab": {
          "base_uri": "https://localhost:8080/"
        },
        "id": "CksBncssx4mg",
        "outputId": "e9d0241a-a807-4c16-ba01-528745dc68ea"
      },
      "source": [
        "weather_days['API_dep_time'] = API_times"
      ],
      "execution_count": 100,
      "outputs": [
        {
          "output_type": "stream",
          "text": [
            "/usr/local/lib/python3.6/dist-packages/ipykernel_launcher.py:1: SettingWithCopyWarning: \n",
            "A value is trying to be set on a copy of a slice from a DataFrame.\n",
            "Try using .loc[row_indexer,col_indexer] = value instead\n",
            "\n",
            "See the caveats in the documentation: https://pandas.pydata.org/pandas-docs/stable/user_guide/indexing.html#returning-a-view-versus-a-copy\n",
            "  \"\"\"Entry point for launching an IPython kernel.\n"
          ],
          "name": "stderr"
        }
      ]
    },
    {
      "cell_type": "code",
      "metadata": {
        "colab": {
          "base_uri": "https://localhost:8080/"
        },
        "id": "YOSQ1cQtlF14",
        "outputId": "3741d950-6f8a-4395-905e-4ee3b1be4f1f"
      },
      "source": [
        "weather_days.API_dep_time.unique()"
      ],
      "execution_count": 101,
      "outputs": [
        {
          "output_type": "execute_result",
          "data": {
            "text/plain": [
              "array([6, 5, 4, 0, 2, 1, 3])"
            ]
          },
          "metadata": {
            "tags": []
          },
          "execution_count": 101
        }
      ]
    },
    {
      "cell_type": "code",
      "metadata": {
        "id": "PbPC_uM6rXcI"
      },
      "source": [
        ""
      ],
      "execution_count": 83,
      "outputs": []
    },
    {
      "cell_type": "code",
      "metadata": {
        "id": "LgQ4ZTj_RHsp"
      },
      "source": [
        "def get_weather(x):\n",
        "  city = x.origin_city_name\n",
        "  date = x.fl_date\n",
        "  url = f'https://api.worldweatheronline.com/premium/v1/past-weather.ashx?q={city}&date={date}&format=json&Key=644b7d0e28cb4ad3a64225414211001&cc =no&num_of_days=5'\n",
        "  response = re.get(url)\n",
        "  results = response.json()\n",
        "  time = x.API_dep_time\n",
        "  weatherDesc = results['data']['weather'][0]['hourly'][time]['weatherDesc'][0]['value']\n",
        "  return weatherDesc"
      ],
      "execution_count": 108,
      "outputs": []
    },
    {
      "cell_type": "code",
      "metadata": {
        "colab": {
          "base_uri": "https://localhost:8080/"
        },
        "id": "iYco0eyVN67f",
        "outputId": "11aa10c7-e20c-4ae4-f7b6-2a98741a3ee8"
      },
      "source": [
        "weather_days_mini['weatherDesc'] = \"\""
      ],
      "execution_count": 109,
      "outputs": [
        {
          "output_type": "stream",
          "text": [
            "/usr/local/lib/python3.6/dist-packages/ipykernel_launcher.py:1: SettingWithCopyWarning: \n",
            "A value is trying to be set on a copy of a slice from a DataFrame.\n",
            "Try using .loc[row_indexer,col_indexer] = value instead\n",
            "\n",
            "See the caveats in the documentation: https://pandas.pydata.org/pandas-docs/stable/user_guide/indexing.html#returning-a-view-versus-a-copy\n",
            "  \"\"\"Entry point for launching an IPython kernel.\n"
          ],
          "name": "stderr"
        }
      ]
    },
    {
      "cell_type": "code",
      "metadata": {
        "id": "UJADP-gIGHrG",
        "colab": {
          "base_uri": "https://localhost:8080/",
          "height": 310
        },
        "outputId": "4c3261a7-8f6e-4431-87bb-54cc03dda25a"
      },
      "source": [
        "weather_days_mini['weatherDesc'] = weather_days_mini.apply(lambda x: get_weather(x))"
      ],
      "execution_count": 110,
      "outputs": [
        {
          "output_type": "error",
          "ename": "AttributeError",
          "evalue": "ignored",
          "traceback": [
            "\u001b[0;31m---------------------------------------------------------------------------\u001b[0m",
            "\u001b[0;31mAttributeError\u001b[0m                            Traceback (most recent call last)",
            "\u001b[0;32m<ipython-input-110-488f08a380aa>\u001b[0m in \u001b[0;36m<module>\u001b[0;34m()\u001b[0m\n\u001b[0;32m----> 1\u001b[0;31m \u001b[0mweather_days_mini\u001b[0m\u001b[0;34m[\u001b[0m\u001b[0;34m'weatherDesc'\u001b[0m\u001b[0;34m]\u001b[0m \u001b[0;34m=\u001b[0m \u001b[0mweather_days_mini\u001b[0m\u001b[0;34m.\u001b[0m\u001b[0mapply\u001b[0m\u001b[0;34m(\u001b[0m\u001b[0;32mlambda\u001b[0m \u001b[0mx\u001b[0m\u001b[0;34m:\u001b[0m \u001b[0mget_weather\u001b[0m\u001b[0;34m(\u001b[0m\u001b[0mx\u001b[0m\u001b[0;34m)\u001b[0m\u001b[0;34m)\u001b[0m\u001b[0;34m\u001b[0m\u001b[0;34m\u001b[0m\u001b[0m\n\u001b[0m",
            "\u001b[0;32m/usr/local/lib/python3.6/dist-packages/pandas/core/frame.py\u001b[0m in \u001b[0;36mapply\u001b[0;34m(self, func, axis, raw, result_type, args, **kwds)\u001b[0m\n\u001b[1;32m   7550\u001b[0m             \u001b[0mkwds\u001b[0m\u001b[0;34m=\u001b[0m\u001b[0mkwds\u001b[0m\u001b[0;34m,\u001b[0m\u001b[0;34m\u001b[0m\u001b[0;34m\u001b[0m\u001b[0m\n\u001b[1;32m   7551\u001b[0m         )\n\u001b[0;32m-> 7552\u001b[0;31m         \u001b[0;32mreturn\u001b[0m \u001b[0mop\u001b[0m\u001b[0;34m.\u001b[0m\u001b[0mget_result\u001b[0m\u001b[0;34m(\u001b[0m\u001b[0;34m)\u001b[0m\u001b[0;34m\u001b[0m\u001b[0;34m\u001b[0m\u001b[0m\n\u001b[0m\u001b[1;32m   7553\u001b[0m \u001b[0;34m\u001b[0m\u001b[0m\n\u001b[1;32m   7554\u001b[0m     \u001b[0;32mdef\u001b[0m \u001b[0mapplymap\u001b[0m\u001b[0;34m(\u001b[0m\u001b[0mself\u001b[0m\u001b[0;34m,\u001b[0m \u001b[0mfunc\u001b[0m\u001b[0;34m)\u001b[0m \u001b[0;34m->\u001b[0m \u001b[0;34m\"DataFrame\"\u001b[0m\u001b[0;34m:\u001b[0m\u001b[0;34m\u001b[0m\u001b[0;34m\u001b[0m\u001b[0m\n",
            "\u001b[0;32m/usr/local/lib/python3.6/dist-packages/pandas/core/apply.py\u001b[0m in \u001b[0;36mget_result\u001b[0;34m(self)\u001b[0m\n\u001b[1;32m    183\u001b[0m             \u001b[0;32mreturn\u001b[0m \u001b[0mself\u001b[0m\u001b[0;34m.\u001b[0m\u001b[0mapply_raw\u001b[0m\u001b[0;34m(\u001b[0m\u001b[0;34m)\u001b[0m\u001b[0;34m\u001b[0m\u001b[0;34m\u001b[0m\u001b[0m\n\u001b[1;32m    184\u001b[0m \u001b[0;34m\u001b[0m\u001b[0m\n\u001b[0;32m--> 185\u001b[0;31m         \u001b[0;32mreturn\u001b[0m \u001b[0mself\u001b[0m\u001b[0;34m.\u001b[0m\u001b[0mapply_standard\u001b[0m\u001b[0;34m(\u001b[0m\u001b[0;34m)\u001b[0m\u001b[0;34m\u001b[0m\u001b[0;34m\u001b[0m\u001b[0m\n\u001b[0m\u001b[1;32m    186\u001b[0m \u001b[0;34m\u001b[0m\u001b[0m\n\u001b[1;32m    187\u001b[0m     \u001b[0;32mdef\u001b[0m \u001b[0mapply_empty_result\u001b[0m\u001b[0;34m(\u001b[0m\u001b[0mself\u001b[0m\u001b[0;34m)\u001b[0m\u001b[0;34m:\u001b[0m\u001b[0;34m\u001b[0m\u001b[0;34m\u001b[0m\u001b[0m\n",
            "\u001b[0;32m/usr/local/lib/python3.6/dist-packages/pandas/core/apply.py\u001b[0m in \u001b[0;36mapply_standard\u001b[0;34m(self)\u001b[0m\n\u001b[1;32m    274\u001b[0m \u001b[0;34m\u001b[0m\u001b[0m\n\u001b[1;32m    275\u001b[0m     \u001b[0;32mdef\u001b[0m \u001b[0mapply_standard\u001b[0m\u001b[0;34m(\u001b[0m\u001b[0mself\u001b[0m\u001b[0;34m)\u001b[0m\u001b[0;34m:\u001b[0m\u001b[0;34m\u001b[0m\u001b[0;34m\u001b[0m\u001b[0m\n\u001b[0;32m--> 276\u001b[0;31m         \u001b[0mresults\u001b[0m\u001b[0;34m,\u001b[0m \u001b[0mres_index\u001b[0m \u001b[0;34m=\u001b[0m \u001b[0mself\u001b[0m\u001b[0;34m.\u001b[0m\u001b[0mapply_series_generator\u001b[0m\u001b[0;34m(\u001b[0m\u001b[0;34m)\u001b[0m\u001b[0;34m\u001b[0m\u001b[0;34m\u001b[0m\u001b[0m\n\u001b[0m\u001b[1;32m    277\u001b[0m \u001b[0;34m\u001b[0m\u001b[0m\n\u001b[1;32m    278\u001b[0m         \u001b[0;31m# wrap results\u001b[0m\u001b[0;34m\u001b[0m\u001b[0;34m\u001b[0m\u001b[0;34m\u001b[0m\u001b[0m\n",
            "\u001b[0;32m/usr/local/lib/python3.6/dist-packages/pandas/core/apply.py\u001b[0m in \u001b[0;36mapply_series_generator\u001b[0;34m(self)\u001b[0m\n\u001b[1;32m    303\u001b[0m                 \u001b[0;32mfor\u001b[0m \u001b[0mi\u001b[0m\u001b[0;34m,\u001b[0m \u001b[0mv\u001b[0m \u001b[0;32min\u001b[0m \u001b[0menumerate\u001b[0m\u001b[0;34m(\u001b[0m\u001b[0mseries_gen\u001b[0m\u001b[0;34m)\u001b[0m\u001b[0;34m:\u001b[0m\u001b[0;34m\u001b[0m\u001b[0;34m\u001b[0m\u001b[0m\n\u001b[1;32m    304\u001b[0m                     \u001b[0;31m# ignore SettingWithCopy here in case the user mutates\u001b[0m\u001b[0;34m\u001b[0m\u001b[0;34m\u001b[0m\u001b[0;34m\u001b[0m\u001b[0m\n\u001b[0;32m--> 305\u001b[0;31m                     \u001b[0mresults\u001b[0m\u001b[0;34m[\u001b[0m\u001b[0mi\u001b[0m\u001b[0;34m]\u001b[0m \u001b[0;34m=\u001b[0m \u001b[0mself\u001b[0m\u001b[0;34m.\u001b[0m\u001b[0mf\u001b[0m\u001b[0;34m(\u001b[0m\u001b[0mv\u001b[0m\u001b[0;34m)\u001b[0m\u001b[0;34m\u001b[0m\u001b[0;34m\u001b[0m\u001b[0m\n\u001b[0m\u001b[1;32m    306\u001b[0m                     \u001b[0;32mif\u001b[0m \u001b[0misinstance\u001b[0m\u001b[0;34m(\u001b[0m\u001b[0mresults\u001b[0m\u001b[0;34m[\u001b[0m\u001b[0mi\u001b[0m\u001b[0;34m]\u001b[0m\u001b[0;34m,\u001b[0m \u001b[0mABCSeries\u001b[0m\u001b[0;34m)\u001b[0m\u001b[0;34m:\u001b[0m\u001b[0;34m\u001b[0m\u001b[0;34m\u001b[0m\u001b[0m\n\u001b[1;32m    307\u001b[0m                         \u001b[0;31m# If we have a view on v, we need to make a copy because\u001b[0m\u001b[0;34m\u001b[0m\u001b[0;34m\u001b[0m\u001b[0;34m\u001b[0m\u001b[0m\n",
            "\u001b[0;32m<ipython-input-110-488f08a380aa>\u001b[0m in \u001b[0;36m<lambda>\u001b[0;34m(x)\u001b[0m\n\u001b[0;32m----> 1\u001b[0;31m \u001b[0mweather_days_mini\u001b[0m\u001b[0;34m[\u001b[0m\u001b[0;34m'weatherDesc'\u001b[0m\u001b[0;34m]\u001b[0m \u001b[0;34m=\u001b[0m \u001b[0mweather_days_mini\u001b[0m\u001b[0;34m.\u001b[0m\u001b[0mapply\u001b[0m\u001b[0;34m(\u001b[0m\u001b[0;32mlambda\u001b[0m \u001b[0mx\u001b[0m\u001b[0;34m:\u001b[0m \u001b[0mget_weather\u001b[0m\u001b[0;34m(\u001b[0m\u001b[0mx\u001b[0m\u001b[0;34m)\u001b[0m\u001b[0;34m)\u001b[0m\u001b[0;34m\u001b[0m\u001b[0;34m\u001b[0m\u001b[0m\n\u001b[0m",
            "\u001b[0;32m<ipython-input-108-61d74b5bbdea>\u001b[0m in \u001b[0;36mget_weather\u001b[0;34m(x)\u001b[0m\n\u001b[1;32m      1\u001b[0m \u001b[0;32mdef\u001b[0m \u001b[0mget_weather\u001b[0m\u001b[0;34m(\u001b[0m\u001b[0mx\u001b[0m\u001b[0;34m)\u001b[0m\u001b[0;34m:\u001b[0m\u001b[0;34m\u001b[0m\u001b[0;34m\u001b[0m\u001b[0m\n\u001b[0;32m----> 2\u001b[0;31m   \u001b[0mcity\u001b[0m \u001b[0;34m=\u001b[0m \u001b[0mx\u001b[0m\u001b[0;34m.\u001b[0m\u001b[0morigin_city_name\u001b[0m\u001b[0;34m\u001b[0m\u001b[0;34m\u001b[0m\u001b[0m\n\u001b[0m\u001b[1;32m      3\u001b[0m   \u001b[0mdate\u001b[0m \u001b[0;34m=\u001b[0m \u001b[0mx\u001b[0m\u001b[0;34m.\u001b[0m\u001b[0mfl_date\u001b[0m\u001b[0;34m\u001b[0m\u001b[0;34m\u001b[0m\u001b[0m\n\u001b[1;32m      4\u001b[0m   \u001b[0murl\u001b[0m \u001b[0;34m=\u001b[0m \u001b[0;34mf'https://api.worldweatheronline.com/premium/v1/past-weather.ashx?q={city}&date={date}&format=json&Key=644b7d0e28cb4ad3a64225414211001&cc =no&num_of_days=5'\u001b[0m\u001b[0;34m\u001b[0m\u001b[0;34m\u001b[0m\u001b[0m\n\u001b[1;32m      5\u001b[0m   \u001b[0mresponse\u001b[0m \u001b[0;34m=\u001b[0m \u001b[0mre\u001b[0m\u001b[0;34m.\u001b[0m\u001b[0mget\u001b[0m\u001b[0;34m(\u001b[0m\u001b[0murl\u001b[0m\u001b[0;34m)\u001b[0m\u001b[0;34m\u001b[0m\u001b[0;34m\u001b[0m\u001b[0m\n",
            "\u001b[0;32m/usr/local/lib/python3.6/dist-packages/pandas/core/generic.py\u001b[0m in \u001b[0;36m__getattr__\u001b[0;34m(self, name)\u001b[0m\n\u001b[1;32m   5139\u001b[0m             \u001b[0;32mif\u001b[0m \u001b[0mself\u001b[0m\u001b[0;34m.\u001b[0m\u001b[0m_info_axis\u001b[0m\u001b[0;34m.\u001b[0m\u001b[0m_can_hold_identifiers_and_holds_name\u001b[0m\u001b[0;34m(\u001b[0m\u001b[0mname\u001b[0m\u001b[0;34m)\u001b[0m\u001b[0;34m:\u001b[0m\u001b[0;34m\u001b[0m\u001b[0;34m\u001b[0m\u001b[0m\n\u001b[1;32m   5140\u001b[0m                 \u001b[0;32mreturn\u001b[0m \u001b[0mself\u001b[0m\u001b[0;34m[\u001b[0m\u001b[0mname\u001b[0m\u001b[0;34m]\u001b[0m\u001b[0;34m\u001b[0m\u001b[0;34m\u001b[0m\u001b[0m\n\u001b[0;32m-> 5141\u001b[0;31m             \u001b[0;32mreturn\u001b[0m \u001b[0mobject\u001b[0m\u001b[0;34m.\u001b[0m\u001b[0m__getattribute__\u001b[0m\u001b[0;34m(\u001b[0m\u001b[0mself\u001b[0m\u001b[0;34m,\u001b[0m \u001b[0mname\u001b[0m\u001b[0;34m)\u001b[0m\u001b[0;34m\u001b[0m\u001b[0;34m\u001b[0m\u001b[0m\n\u001b[0m\u001b[1;32m   5142\u001b[0m \u001b[0;34m\u001b[0m\u001b[0m\n\u001b[1;32m   5143\u001b[0m     \u001b[0;32mdef\u001b[0m \u001b[0m__setattr__\u001b[0m\u001b[0;34m(\u001b[0m\u001b[0mself\u001b[0m\u001b[0;34m,\u001b[0m \u001b[0mname\u001b[0m\u001b[0;34m:\u001b[0m \u001b[0mstr\u001b[0m\u001b[0;34m,\u001b[0m \u001b[0mvalue\u001b[0m\u001b[0;34m)\u001b[0m \u001b[0;34m->\u001b[0m \u001b[0;32mNone\u001b[0m\u001b[0;34m:\u001b[0m\u001b[0;34m\u001b[0m\u001b[0;34m\u001b[0m\u001b[0m\n",
            "\u001b[0;31mAttributeError\u001b[0m: 'Series' object has no attribute 'origin_city_name'"
          ]
        }
      ]
    },
    {
      "cell_type": "code",
      "metadata": {
        "colab": {
          "base_uri": "https://localhost:8080/",
          "height": 35
        },
        "id": "HW84H-Uto9fE",
        "outputId": "8db88b19-446d-40d8-9e78-04ebc57f66a3"
      },
      "source": [
        "weatherDesc = a['data']['weather'][0]['hourly'][0]['weatherDesc'][0]['value']\n",
        "weatherDesc"
      ],
      "execution_count": 97,
      "outputs": [
        {
          "output_type": "execute_result",
          "data": {
            "application/vnd.google.colaboratory.intrinsic+json": {
              "type": "string"
            },
            "text/plain": [
              "'Clear'"
            ]
          },
          "metadata": {
            "tags": []
          },
          "execution_count": 97
        }
      ]
    },
    {
      "cell_type": "code",
      "metadata": {
        "colab": {
          "base_uri": "https://localhost:8080/",
          "height": 35
        },
        "id": "FzGwiFt7lKvP",
        "outputId": "cc6a0c51-0b49-40c8-9b72-0c196be89aac"
      },
      "source": [
        "# hourly[0] = time 0, hourly[1] = time 0300\n",
        "a['data']['weather'][0]['hourly'][0]['weatherDesc'][0]['value']"
      ],
      "execution_count": 57,
      "outputs": [
        {
          "output_type": "execute_result",
          "data": {
            "application/vnd.google.colaboratory.intrinsic+json": {
              "type": "string"
            },
            "text/plain": [
              "'Clear'"
            ]
          },
          "metadata": {
            "tags": []
          },
          "execution_count": 57
        }
      ]
    },
    {
      "cell_type": "code",
      "metadata": {
        "colab": {
          "base_uri": "https://localhost:8080/"
        },
        "id": "ufjbmCIgjbYY",
        "outputId": "7dbdbdba-26d7-4f09-da42-7151c18cc626"
      },
      "source": [
        "pp = pprint.PrettyPrinter(indent=4)\n",
        "pp.pprint(a)"
      ],
      "execution_count": 39,
      "outputs": [
        {
          "output_type": "stream",
          "text": [
            "{   'data': {   'request': [   {   'query': 'Reno, United States of America',\n",
            "                                   'type': 'City'}],\n",
            "                'weather': [   {   'astronomy': [   {   'moon_illumination': '63',\n",
            "                                                        'moon_phase': 'First '\n",
            "                                                                      'Quarter',\n",
            "                                                        'moonrise': '02:26 PM',\n",
            "                                                        'moonset': '02:14 AM',\n",
            "                                                        'sunrise': '04:38 AM',\n",
            "                                                        'sunset': '07:15 PM'}],\n",
            "                                   'avgtempC': '16',\n",
            "                                   'avgtempF': '60',\n",
            "                                   'date': '2018-05-24',\n",
            "                                   'hourly': [   {   'DewPointC': '5',\n",
            "                                                     'DewPointF': '41',\n",
            "                                                     'FeelsLikeC': '10',\n",
            "                                                     'FeelsLikeF': '49',\n",
            "                                                     'HeatIndexC': '10',\n",
            "                                                     'HeatIndexF': '50',\n",
            "                                                     'WindChillC': '10',\n",
            "                                                     'WindChillF': '49',\n",
            "                                                     'WindGustKmph': '10',\n",
            "                                                     'WindGustMiles': '6',\n",
            "                                                     'cloudcover': '5',\n",
            "                                                     'humidity': '71',\n",
            "                                                     'precipInches': '0.0',\n",
            "                                                     'precipMM': '0.0',\n",
            "                                                     'pressure': '1015',\n",
            "                                                     'pressureInches': '30',\n",
            "                                                     'tempC': '10',\n",
            "                                                     'tempF': '50',\n",
            "                                                     'time': '0',\n",
            "                                                     'uvIndex': '1',\n",
            "                                                     'visibility': '10',\n",
            "                                                     'visibilityMiles': '6',\n",
            "                                                     'weatherCode': '113',\n",
            "                                                     'weatherDesc': [   {   'value': 'Clear'}],\n",
            "                                                     'weatherIconUrl': [   {   'value': 'http://cdn.worldweatheronline.com/images/wsymbols01_png_64/wsymbol_0008_clear_sky_night.png'}],\n",
            "                                                     'winddir16Point': 'W',\n",
            "                                                     'winddirDegree': '261',\n",
            "                                                     'windspeedKmph': '5',\n",
            "                                                     'windspeedMiles': '3'},\n",
            "                                                 {   'DewPointC': '5',\n",
            "                                                     'DewPointF': '41',\n",
            "                                                     'FeelsLikeC': '9',\n",
            "                                                     'FeelsLikeF': '48',\n",
            "                                                     'HeatIndexC': '9',\n",
            "                                                     'HeatIndexF': '49',\n",
            "                                                     'WindChillC': '9',\n",
            "                                                     'WindChillF': '48',\n",
            "                                                     'WindGustKmph': '9',\n",
            "                                                     'WindGustMiles': '6',\n",
            "                                                     'cloudcover': '16',\n",
            "                                                     'humidity': '74',\n",
            "                                                     'precipInches': '0.0',\n",
            "                                                     'precipMM': '0.0',\n",
            "                                                     'pressure': '1015',\n",
            "                                                     'pressureInches': '30',\n",
            "                                                     'tempC': '9',\n",
            "                                                     'tempF': '49',\n",
            "                                                     'time': '300',\n",
            "                                                     'uvIndex': '1',\n",
            "                                                     'visibility': '10',\n",
            "                                                     'visibilityMiles': '6',\n",
            "                                                     'weatherCode': '113',\n",
            "                                                     'weatherDesc': [   {   'value': 'Clear'}],\n",
            "                                                     'weatherIconUrl': [   {   'value': 'http://cdn.worldweatheronline.com/images/wsymbols01_png_64/wsymbol_0008_clear_sky_night.png'}],\n",
            "                                                     'winddir16Point': 'S',\n",
            "                                                     'winddirDegree': '189',\n",
            "                                                     'windspeedKmph': '5',\n",
            "                                                     'windspeedMiles': '3'},\n",
            "                                                 {   'DewPointC': '6',\n",
            "                                                     'DewPointF': '42',\n",
            "                                                     'FeelsLikeC': '13',\n",
            "                                                     'FeelsLikeF': '56',\n",
            "                                                     'HeatIndexC': '13',\n",
            "                                                     'HeatIndexF': '55',\n",
            "                                                     'WindChillC': '13',\n",
            "                                                     'WindChillF': '56',\n",
            "                                                     'WindGustKmph': '5',\n",
            "                                                     'WindGustMiles': '3',\n",
            "                                                     'cloudcover': '46',\n",
            "                                                     'humidity': '62',\n",
            "                                                     'precipInches': '0.0',\n",
            "                                                     'precipMM': '0.0',\n",
            "                                                     'pressure': '1015',\n",
            "                                                     'pressureInches': '30',\n",
            "                                                     'tempC': '13',\n",
            "                                                     'tempF': '55',\n",
            "                                                     'time': '600',\n",
            "                                                     'uvIndex': '4',\n",
            "                                                     'visibility': '10',\n",
            "                                                     'visibilityMiles': '6',\n",
            "                                                     'weatherCode': '116',\n",
            "                                                     'weatherDesc': [   {   'value': 'Partly '\n",
            "                                                                                     'cloudy'}],\n",
            "                                                     'weatherIconUrl': [   {   'value': 'http://cdn.worldweatheronline.com/images/wsymbols01_png_64/wsymbol_0002_sunny_intervals.png'}],\n",
            "                                                     'winddir16Point': 'S',\n",
            "                                                     'winddirDegree': '176',\n",
            "                                                     'windspeedKmph': '4',\n",
            "                                                     'windspeedMiles': '2'},\n",
            "                                                 {   'DewPointC': '7',\n",
            "                                                     'DewPointF': '44',\n",
            "                                                     'FeelsLikeC': '17',\n",
            "                                                     'FeelsLikeF': '62',\n",
            "                                                     'HeatIndexC': '17',\n",
            "                                                     'HeatIndexF': '62',\n",
            "                                                     'WindChillC': '17',\n",
            "                                                     'WindChillF': '62',\n",
            "                                                     'WindGustKmph': '9',\n",
            "                                                     'WindGustMiles': '6',\n",
            "                                                     'cloudcover': '44',\n",
            "                                                     'humidity': '51',\n",
            "                                                     'precipInches': '0.0',\n",
            "                                                     'precipMM': '0.0',\n",
            "                                                     'pressure': '1014',\n",
            "                                                     'pressureInches': '30',\n",
            "                                                     'tempC': '17',\n",
            "                                                     'tempF': '62',\n",
            "                                                     'time': '900',\n",
            "                                                     'uvIndex': '4',\n",
            "                                                     'visibility': '9',\n",
            "                                                     'visibilityMiles': '5',\n",
            "                                                     'weatherCode': '200',\n",
            "                                                     'weatherDesc': [   {   'value': 'Thundery '\n",
            "                                                                                     'outbreaks '\n",
            "                                                                                     'possible'}],\n",
            "                                                     'weatherIconUrl': [   {   'value': 'http://cdn.worldweatheronline.com/images/wsymbols01_png_64/wsymbol_0016_thundery_showers.png'}],\n",
            "                                                     'winddir16Point': 'ESE',\n",
            "                                                     'winddirDegree': '104',\n",
            "                                                     'windspeedKmph': '8',\n",
            "                                                     'windspeedMiles': '5'},\n",
            "                                                 {   'DewPointC': '6',\n",
            "                                                     'DewPointF': '44',\n",
            "                                                     'FeelsLikeC': '19',\n",
            "                                                     'FeelsLikeF': '66',\n",
            "                                                     'HeatIndexC': '19',\n",
            "                                                     'HeatIndexF': '66',\n",
            "                                                     'WindChillC': '19',\n",
            "                                                     'WindChillF': '66',\n",
            "                                                     'WindGustKmph': '10',\n",
            "                                                     'WindGustMiles': '6',\n",
            "                                                     'cloudcover': '24',\n",
            "                                                     'humidity': '44',\n",
            "                                                     'precipInches': '0.0',\n",
            "                                                     'precipMM': '0.4',\n",
            "                                                     'pressure': '1012',\n",
            "                                                     'pressureInches': '30',\n",
            "                                                     'tempC': '19',\n",
            "                                                     'tempF': '66',\n",
            "                                                     'time': '1200',\n",
            "                                                     'uvIndex': '4',\n",
            "                                                     'visibility': '10',\n",
            "                                                     'visibilityMiles': '6',\n",
            "                                                     'weatherCode': '386',\n",
            "                                                     'weatherDesc': [   {   'value': 'Patchy '\n",
            "                                                                                     'light '\n",
            "                                                                                     'rain '\n",
            "                                                                                     'with '\n",
            "                                                                                     'thunder'}],\n",
            "                                                     'weatherIconUrl': [   {   'value': 'http://cdn.worldweatheronline.com/images/wsymbols01_png_64/wsymbol_0016_thundery_showers.png'}],\n",
            "                                                     'winddir16Point': 'ESE',\n",
            "                                                     'winddirDegree': '122',\n",
            "                                                     'windspeedKmph': '9',\n",
            "                                                     'windspeedMiles': '5'},\n",
            "                                                 {   'DewPointC': '8',\n",
            "                                                     'DewPointF': '46',\n",
            "                                                     'FeelsLikeC': '17',\n",
            "                                                     'FeelsLikeF': '63',\n",
            "                                                     'HeatIndexC': '17',\n",
            "                                                     'HeatIndexF': '63',\n",
            "                                                     'WindChillC': '17',\n",
            "                                                     'WindChillF': '63',\n",
            "                                                     'WindGustKmph': '9',\n",
            "                                                     'WindGustMiles': '6',\n",
            "                                                     'cloudcover': '17',\n",
            "                                                     'humidity': '53',\n",
            "                                                     'precipInches': '0.0',\n",
            "                                                     'precipMM': '0.0',\n",
            "                                                     'pressure': '1011',\n",
            "                                                     'pressureInches': '30',\n",
            "                                                     'tempC': '17',\n",
            "                                                     'tempF': '63',\n",
            "                                                     'time': '1500',\n",
            "                                                     'uvIndex': '5',\n",
            "                                                     'visibility': '10',\n",
            "                                                     'visibilityMiles': '6',\n",
            "                                                     'weatherCode': '113',\n",
            "                                                     'weatherDesc': [   {   'value': 'Sunny'}],\n",
            "                                                     'weatherIconUrl': [   {   'value': 'http://cdn.worldweatheronline.com/images/wsymbols01_png_64/wsymbol_0001_sunny.png'}],\n",
            "                                                     'winddir16Point': 'W',\n",
            "                                                     'winddirDegree': '264',\n",
            "                                                     'windspeedKmph': '7',\n",
            "                                                     'windspeedMiles': '4'},\n",
            "                                                 {   'DewPointC': '9',\n",
            "                                                     'DewPointF': '49',\n",
            "                                                     'FeelsLikeC': '11',\n",
            "                                                     'FeelsLikeF': '51',\n",
            "                                                     'HeatIndexC': '12',\n",
            "                                                     'HeatIndexF': '54',\n",
            "                                                     'WindChillC': '11',\n",
            "                                                     'WindChillF': '51',\n",
            "                                                     'WindGustKmph': '31',\n",
            "                                                     'WindGustMiles': '19',\n",
            "                                                     'cloudcover': '76',\n",
            "                                                     'humidity': '83',\n",
            "                                                     'precipInches': '0.5',\n",
            "                                                     'precipMM': '13.0',\n",
            "                                                     'pressure': '1011',\n",
            "                                                     'pressureInches': '30',\n",
            "                                                     'tempC': '12',\n",
            "                                                     'tempF': '54',\n",
            "                                                     'time': '1800',\n",
            "                                                     'uvIndex': '1',\n",
            "                                                     'visibility': '3',\n",
            "                                                     'visibilityMiles': '1',\n",
            "                                                     'weatherCode': '359',\n",
            "                                                     'weatherDesc': [   {   'value': 'Torrential '\n",
            "                                                                                     'rain '\n",
            "                                                                                     'shower'}],\n",
            "                                                     'weatherIconUrl': [   {   'value': 'http://cdn.worldweatheronline.com/images/wsymbols01_png_64/wsymbol_0034_cloudy_with_heavy_rain_night.png'}],\n",
            "                                                     'winddir16Point': 'WSW',\n",
            "                                                     'winddirDegree': '256',\n",
            "                                                     'windspeedKmph': '15',\n",
            "                                                     'windspeedMiles': '10'},\n",
            "                                                 {   'DewPointC': '8',\n",
            "                                                     'DewPointF': '46',\n",
            "                                                     'FeelsLikeC': '9',\n",
            "                                                     'FeelsLikeF': '48',\n",
            "                                                     'HeatIndexC': '10',\n",
            "                                                     'HeatIndexF': '50',\n",
            "                                                     'WindChillC': '9',\n",
            "                                                     'WindChillF': '48',\n",
            "                                                     'WindGustKmph': '13',\n",
            "                                                     'WindGustMiles': '8',\n",
            "                                                     'cloudcover': '45',\n",
            "                                                     'humidity': '88',\n",
            "                                                     'precipInches': '0.0',\n",
            "                                                     'precipMM': '0.0',\n",
            "                                                     'pressure': '1014',\n",
            "                                                     'pressureInches': '30',\n",
            "                                                     'tempC': '10',\n",
            "                                                     'tempF': '50',\n",
            "                                                     'time': '2100',\n",
            "                                                     'uvIndex': '1',\n",
            "                                                     'visibility': '10',\n",
            "                                                     'visibilityMiles': '6',\n",
            "                                                     'weatherCode': '116',\n",
            "                                                     'weatherDesc': [   {   'value': 'Partly '\n",
            "                                                                                     'cloudy'}],\n",
            "                                                     'weatherIconUrl': [   {   'value': 'http://cdn.worldweatheronline.com/images/wsymbols01_png_64/wsymbol_0004_black_low_cloud.png'}],\n",
            "                                                     'winddir16Point': 'NW',\n",
            "                                                     'winddirDegree': '318',\n",
            "                                                     'windspeedKmph': '10',\n",
            "                                                     'windspeedMiles': '6'}],\n",
            "                                   'maxtempC': '19',\n",
            "                                   'maxtempF': '66',\n",
            "                                   'mintempC': '9',\n",
            "                                   'mintempF': '49',\n",
            "                                   'sunHour': '13.4',\n",
            "                                   'totalSnow_cm': '0.0',\n",
            "                                   'uvIndex': '5'}]}}\n"
          ],
          "name": "stdout"
        }
      ]
    },
    {
      "cell_type": "code",
      "metadata": {
        "id": "BOwHxFf4Inbv"
      },
      "source": [
        "# res_NV_20180524_results"
      ],
      "execution_count": 34,
      "outputs": []
    },
    {
      "cell_type": "code",
      "metadata": {
        "id": "7Tfpldv98AO5"
      },
      "source": [
        "# write a function to get and save a weather file for each unique city in this subsample\n",
        "# make a list of all the unique cities\n",
        "# use the get_weather function to save weather reports for each of these cities\n",
        "# select the 'weatherDesc' within each saved file\n",
        "# append that weatherDesc to the dataframe\n",
        "# run stats tests to see if they are normally distributed"
      ],
      "execution_count": null,
      "outputs": []
    },
    {
      "cell_type": "code",
      "metadata": {
        "id": "v08XUU99H8NU"
      },
      "source": [
        "# new dataframe, column called hourly 1, hourly 2, etc. \n",
        "# save json results to a new column \n",
        "# json format is sting\n",
        "# parse thorugh it \n",
        "\n",
        "# instead lamba, for i in range(0, len(df))\n",
        "# print (i) \n",
        "# i represents row index \n",
        "# work on each row individually "
      ],
      "execution_count": null,
      "outputs": []
    },
    {
      "cell_type": "code",
      "metadata": {
        "id": "UAkn9ivV9B4X"
      },
      "source": [
        "weather_days"
      ],
      "execution_count": null,
      "outputs": []
    },
    {
      "cell_type": "code",
      "metadata": {
        "id": "eubVqtDeKX2h"
      },
      "source": [
        "# Don't need this method anymore, just save to google drive\n",
        "# Save\n",
        "# np.save('NV_response.npy', res_NV_20180524_results ) \n",
        "\n",
        "# Load\n",
        "# read_dictionary = np.load('Reno, NV_2018-05-24.npy', allow_pickle=True)"
      ],
      "execution_count": 30,
      "outputs": []
    },
    {
      "cell_type": "code",
      "metadata": {
        "id": "-Qdnhz4oKYsq"
      },
      "source": [
        ""
      ],
      "execution_count": 71,
      "outputs": []
    },
    {
      "cell_type": "code",
      "metadata": {
        "id": "K9qkHaWDfYtz"
      },
      "source": [
        "# cities_list = weather_days.origin_city_name.unique().tolist()"
      ],
      "execution_count": 31,
      "outputs": []
    },
    {
      "cell_type": "code",
      "metadata": {
        "colab": {
          "base_uri": "https://localhost:8080/",
          "height": 198
        },
        "id": "XKPUV8TQO2Sb",
        "outputId": "e01ae27d-89c4-46aa-f935-aa623e170f3d"
      },
      "source": [
        "df.head()"
      ],
      "execution_count": 163,
      "outputs": [
        {
          "output_type": "execute_result",
          "data": {
            "text/html": [
              "<div>\n",
              "<style scoped>\n",
              "    .dataframe tbody tr th:only-of-type {\n",
              "        vertical-align: middle;\n",
              "    }\n",
              "\n",
              "    .dataframe tbody tr th {\n",
              "        vertical-align: top;\n",
              "    }\n",
              "\n",
              "    .dataframe thead th {\n",
              "        text-align: right;\n",
              "    }\n",
              "</style>\n",
              "<table border=\"1\" class=\"dataframe\">\n",
              "  <thead>\n",
              "    <tr style=\"text-align: right;\">\n",
              "      <th></th>\n",
              "      <th>fl_date</th>\n",
              "      <th>dep_time</th>\n",
              "      <th>dep_delay</th>\n",
              "      <th>weather_delay</th>\n",
              "      <th>hour 0</th>\n",
              "      <th>hour 300</th>\n",
              "      <th>hour 600</th>\n",
              "      <th>hour 900</th>\n",
              "      <th>hour 1200</th>\n",
              "      <th>hour 1500</th>\n",
              "      <th>hour 1800</th>\n",
              "      <th>hour 2100</th>\n",
              "    </tr>\n",
              "  </thead>\n",
              "  <tbody>\n",
              "    <tr>\n",
              "      <th>0</th>\n",
              "      <td>2019-01-01</td>\n",
              "      <td>1210025.0</td>\n",
              "      <td>2466.0</td>\n",
              "      <td>962.0</td>\n",
              "      <td>na</td>\n",
              "      <td>na</td>\n",
              "      <td>na</td>\n",
              "      <td>na</td>\n",
              "      <td>na</td>\n",
              "      <td>na</td>\n",
              "      <td>na</td>\n",
              "      <td>na</td>\n",
              "    </tr>\n",
              "    <tr>\n",
              "      <th>1</th>\n",
              "      <td>2019-01-02</td>\n",
              "      <td>1549805.0</td>\n",
              "      <td>8276.0</td>\n",
              "      <td>92.0</td>\n",
              "      <td>1</td>\n",
              "      <td>na</td>\n",
              "      <td>1</td>\n",
              "      <td>na</td>\n",
              "      <td>na</td>\n",
              "      <td>na</td>\n",
              "      <td>na</td>\n",
              "      <td>na</td>\n",
              "    </tr>\n",
              "    <tr>\n",
              "      <th>2</th>\n",
              "      <td>2019-01-03</td>\n",
              "      <td>1450609.0</td>\n",
              "      <td>4789.0</td>\n",
              "      <td>520.0</td>\n",
              "      <td>na</td>\n",
              "      <td>na</td>\n",
              "      <td>na</td>\n",
              "      <td>na</td>\n",
              "      <td>na</td>\n",
              "      <td>na</td>\n",
              "      <td>na</td>\n",
              "      <td>na</td>\n",
              "    </tr>\n",
              "    <tr>\n",
              "      <th>3</th>\n",
              "      <td>2019-01-04</td>\n",
              "      <td>1459520.0</td>\n",
              "      <td>5734.0</td>\n",
              "      <td>166.0</td>\n",
              "      <td>na</td>\n",
              "      <td>na</td>\n",
              "      <td>na</td>\n",
              "      <td>na</td>\n",
              "      <td>na</td>\n",
              "      <td>na</td>\n",
              "      <td>na</td>\n",
              "      <td>na</td>\n",
              "    </tr>\n",
              "    <tr>\n",
              "      <th>4</th>\n",
              "      <td>2019-01-05</td>\n",
              "      <td>1117068.0</td>\n",
              "      <td>1941.0</td>\n",
              "      <td>46.0</td>\n",
              "      <td>na</td>\n",
              "      <td>na</td>\n",
              "      <td>na</td>\n",
              "      <td>na</td>\n",
              "      <td>na</td>\n",
              "      <td>na</td>\n",
              "      <td>na</td>\n",
              "      <td>na</td>\n",
              "    </tr>\n",
              "  </tbody>\n",
              "</table>\n",
              "</div>"
            ],
            "text/plain": [
              "      fl_date   dep_time  dep_delay  ...  hour 1500 hour 1800 hour 2100\n",
              "0  2019-01-01  1210025.0     2466.0  ...         na        na        na\n",
              "1  2019-01-02  1549805.0     8276.0  ...         na        na        na\n",
              "2  2019-01-03  1450609.0     4789.0  ...         na        na        na\n",
              "3  2019-01-04  1459520.0     5734.0  ...         na        na        na\n",
              "4  2019-01-05  1117068.0     1941.0  ...         na        na        na\n",
              "\n",
              "[5 rows x 12 columns]"
            ]
          },
          "metadata": {
            "tags": []
          },
          "execution_count": 163
        }
      ]
    },
    {
      "cell_type": "code",
      "metadata": {
        "id": "SaciJP3rJfGV"
      },
      "source": [
        "df.loc[df['fl_date'] == date, ['hour 0','hour 600']] = 1\n",
        "# in square brackets (row basis, column basis)"
      ],
      "execution_count": 162,
      "outputs": []
    },
    {
      "cell_type": "code",
      "metadata": {
        "id": "abxjgjFFKl4d"
      },
      "source": [
        ""
      ],
      "execution_count": null,
      "outputs": []
    },
    {
      "cell_type": "code",
      "metadata": {
        "id": "SvueBr2Cfmwf"
      },
      "source": [
        "def get_weather_a(date, df):\n",
        "  url = f'https://api.worldweatheronline.com/premium/v1/past-weather.ashx?q=Atlanta, GA&date={date}&format=json&Key=644b7d0e28cb4ad3a64225414211001&cc =no&num_of_days=5'\n",
        "  response = re.get(url)\n",
        "  results = response.json()\n",
        "  df.loc[df['fl_date'] == date, 'hour 0'] = results['data']['weather'][0]['hourly'][0]['weatherDesc'][0]['value']\n",
        "  df.loc[df['fl_date'] == date,  'hour 300'] = results['data']['weather'][0]['hourly'][1]['weatherDesc'][0]['value']\n",
        "  df.loc[df['fl_date'] == date,  'hour 600'] = results['data']['weather'][0]['hourly'][2]['weatherDesc'][0]['value']\n",
        "  df.loc[df['fl_date'] == date,  'hour 900']= results['data']['weather'][0]['hourly'][3]['weatherDesc'][0]['value']\n",
        "  df.loc[df['fl_date'] == date,  'hour 1200'] = results['data']['weather'][0]['hourly'][4]['weatherDesc'][0]['value']\n",
        "  df.loc[df['fl_date'] == date,  'hour 1500'] = results['data']['weather'][0]['hourly'][5]['weatherDesc'][0]['value']\n",
        "  df.loc[df['fl_date'] == date,  'hour 1800']= results['data']['weather'][0]['hourly'][6]['weatherDesc'][0]['value']\n",
        "  df.loc[df['fl_date'] == date,  'hour 2100'] = results['data']['weather'][0]['hourly'][7]['weatherDesc'][0]['value']\n",
        "  return df"
      ],
      "execution_count": 17,
      "outputs": []
    },
    {
      "cell_type": "code",
      "metadata": {
        "id": "91Ss-nnBPHE7"
      },
      "source": [
        "  '''Don't really need this block anymore'''\n",
        "  # time = .API_dep_time\n",
        "  # weatherDesc = results['data']['weather'][0]['hourly'][time]['weatherDesc'][0]['value']"
      ],
      "execution_count": null,
      "outputs": []
    },
    {
      "cell_type": "code",
      "metadata": {
        "id": "1mB9yFUlPTf-"
      },
      "source": [
        ""
      ],
      "execution_count": null,
      "outputs": []
    },
    {
      "cell_type": "code",
      "metadata": {
        "id": "QTtwHrF2qz0E"
      },
      "source": [
        "  load the table for busiest airport (Atlanta) in January\n",
        "  group by date, save as new table\n",
        "  make empty colums for each hourly weather variable\n",
        "  call get_weather on each date\n",
        "  write the json values for hourly 1-6 to individual columns"
      ],
      "execution_count": null,
      "outputs": []
    },
    {
      "cell_type": "code",
      "metadata": {
        "id": "PYsdbXh1d_CW"
      },
      "source": [
        "Jan19_ATL_flights = pd.read_csv('/content/drive/MyDrive/Colab Notebooks/Jan2019_Atlanta_Flights.csv')"
      ],
      "execution_count": 8,
      "outputs": []
    },
    {
      "cell_type": "code",
      "metadata": {
        "colab": {
          "base_uri": "https://localhost:8080/",
          "height": 198
        },
        "id": "Jpd8vwVIpoZE",
        "outputId": "9944c247-ccf5-4d5b-d2aa-d259ce80cd0e"
      },
      "source": [
        "Jan19_ATL_flights.head()"
      ],
      "execution_count": 10,
      "outputs": [
        {
          "output_type": "execute_result",
          "data": {
            "text/html": [
              "<div>\n",
              "<style scoped>\n",
              "    .dataframe tbody tr th:only-of-type {\n",
              "        vertical-align: middle;\n",
              "    }\n",
              "\n",
              "    .dataframe tbody tr th {\n",
              "        vertical-align: top;\n",
              "    }\n",
              "\n",
              "    .dataframe thead th {\n",
              "        text-align: right;\n",
              "    }\n",
              "</style>\n",
              "<table border=\"1\" class=\"dataframe\">\n",
              "  <thead>\n",
              "    <tr style=\"text-align: right;\">\n",
              "      <th></th>\n",
              "      <th>fl_date</th>\n",
              "      <th>dep_time</th>\n",
              "      <th>origin_city_name</th>\n",
              "      <th>dep_delay</th>\n",
              "      <th>weather_delay</th>\n",
              "    </tr>\n",
              "  </thead>\n",
              "  <tbody>\n",
              "    <tr>\n",
              "      <th>0</th>\n",
              "      <td>2019-01-01</td>\n",
              "      <td>955.0</td>\n",
              "      <td>Atlanta, GA</td>\n",
              "      <td>-5.0</td>\n",
              "      <td>NaN</td>\n",
              "    </tr>\n",
              "    <tr>\n",
              "      <th>1</th>\n",
              "      <td>2019-01-01</td>\n",
              "      <td>2114.0</td>\n",
              "      <td>Atlanta, GA</td>\n",
              "      <td>-5.0</td>\n",
              "      <td>NaN</td>\n",
              "    </tr>\n",
              "    <tr>\n",
              "      <th>2</th>\n",
              "      <td>2019-01-01</td>\n",
              "      <td>1701.0</td>\n",
              "      <td>Atlanta, GA</td>\n",
              "      <td>-3.0</td>\n",
              "      <td>NaN</td>\n",
              "    </tr>\n",
              "    <tr>\n",
              "      <th>3</th>\n",
              "      <td>2019-01-01</td>\n",
              "      <td>604.0</td>\n",
              "      <td>Atlanta, GA</td>\n",
              "      <td>4.0</td>\n",
              "      <td>NaN</td>\n",
              "    </tr>\n",
              "    <tr>\n",
              "      <th>4</th>\n",
              "      <td>2019-01-01</td>\n",
              "      <td>1814.0</td>\n",
              "      <td>Atlanta, GA</td>\n",
              "      <td>0.0</td>\n",
              "      <td>NaN</td>\n",
              "    </tr>\n",
              "  </tbody>\n",
              "</table>\n",
              "</div>"
            ],
            "text/plain": [
              "      fl_date  dep_time origin_city_name  dep_delay  weather_delay\n",
              "0  2019-01-01     955.0      Atlanta, GA       -5.0            NaN\n",
              "1  2019-01-01    2114.0      Atlanta, GA       -5.0            NaN\n",
              "2  2019-01-01    1701.0      Atlanta, GA       -3.0            NaN\n",
              "3  2019-01-01     604.0      Atlanta, GA        4.0            NaN\n",
              "4  2019-01-01    1814.0      Atlanta, GA        0.0            NaN"
            ]
          },
          "metadata": {
            "tags": []
          },
          "execution_count": 10
        }
      ]
    },
    {
      "cell_type": "code",
      "metadata": {
        "id": "dlvdqocnpqxJ"
      },
      "source": [
        "# filtered_Jan19_ATL = Jan19_ATL_flights.groupby(['fl_date']).sum()\n",
        "# filtered_Jan19_ATL = filtered_Jan19_ATL.reset_index()"
      ],
      "execution_count": 12,
      "outputs": []
    },
    {
      "cell_type": "code",
      "metadata": {
        "colab": {
          "base_uri": "https://localhost:8080/",
          "height": 35
        },
        "id": "dpITHtqfEFzp",
        "outputId": "3fd0a90b-b557-4f18-d865-57e2a6730c2f"
      },
      "source": [
        "filtered_Jan19_ATL['fl_date'][0]"
      ],
      "execution_count": 14,
      "outputs": [
        {
          "output_type": "execute_result",
          "data": {
            "application/vnd.google.colaboratory.intrinsic+json": {
              "type": "string"
            },
            "text/plain": [
              "'2019-01-01'"
            ]
          },
          "metadata": {
            "tags": []
          },
          "execution_count": 14
        }
      ]
    },
    {
      "cell_type": "code",
      "metadata": {
        "id": "DOfEYOT_Iij5"
      },
      "source": [
        "# filtered_Jan19_ATL[['hour 0','hour 300', 'hour 600',\t'hour 900',\t'hour 1200',\t'hour 1500',\t'hour 1800',\t'hour 2100' ]] = 'na'"
      ],
      "execution_count": 15,
      "outputs": []
    },
    {
      "cell_type": "code",
      "metadata": {
        "id": "gmMkt3c0qIKV"
      },
      "source": [
        "''' Run this block to call the Weather API on a dataframe'''\n",
        "# df = filtered_Jan19_ATL\n",
        "# for i in range(len(df)):\n",
        "#   date = df['fl_date'][i]\n",
        "#   df_new = get_weather_a(date, df)"
      ],
      "execution_count": 18,
      "outputs": []
    },
    {
      "cell_type": "code",
      "metadata": {
        "id": "j1dWGpHs4jzz"
      },
      "source": [
        "# ATL_January_weather = df_new.drop(columns = ['dep_time','dep_delay', 'weather_delay'])"
      ],
      "execution_count": 19,
      "outputs": []
    },
    {
      "cell_type": "code",
      "metadata": {
        "id": "bWquP1S3HfjV"
      },
      "source": [
        "# ATL_January_weather = pd.read_csv('/content/drive/MyDrive/Jan2019_Atlanta_Weather.csv')"
      ],
      "execution_count": null,
      "outputs": []
    },
    {
      "cell_type": "code",
      "metadata": {
        "id": "BUrDsPVmFdzv"
      },
      "source": [
        "ATL_January_weather = ATL_January_weather.set_index('fl_date') \n"
      ],
      "execution_count": 45,
      "outputs": []
    },
    {
      "cell_type": "code",
      "metadata": {
        "colab": {
          "base_uri": "https://localhost:8080/",
          "height": 228
        },
        "id": "WRnRUCGbSWR2",
        "outputId": "e3796d9f-36b4-4f9a-9874-6d2cea0f0ed2"
      },
      "source": [
        "ATL_January_weather.head()\n",
        "# when i'm saving it, remove index=False, b'/c i want that index"
      ],
      "execution_count": 46,
      "outputs": [
        {
          "output_type": "execute_result",
          "data": {
            "text/html": [
              "<div>\n",
              "<style scoped>\n",
              "    .dataframe tbody tr th:only-of-type {\n",
              "        vertical-align: middle;\n",
              "    }\n",
              "\n",
              "    .dataframe tbody tr th {\n",
              "        vertical-align: top;\n",
              "    }\n",
              "\n",
              "    .dataframe thead th {\n",
              "        text-align: right;\n",
              "    }\n",
              "</style>\n",
              "<table border=\"1\" class=\"dataframe\">\n",
              "  <thead>\n",
              "    <tr style=\"text-align: right;\">\n",
              "      <th></th>\n",
              "      <th>hour 0</th>\n",
              "      <th>hour 300</th>\n",
              "      <th>hour 600</th>\n",
              "      <th>hour 900</th>\n",
              "      <th>hour 1200</th>\n",
              "      <th>hour 1500</th>\n",
              "      <th>hour 1800</th>\n",
              "      <th>hour 2100</th>\n",
              "    </tr>\n",
              "    <tr>\n",
              "      <th>fl_date</th>\n",
              "      <th></th>\n",
              "      <th></th>\n",
              "      <th></th>\n",
              "      <th></th>\n",
              "      <th></th>\n",
              "      <th></th>\n",
              "      <th></th>\n",
              "      <th></th>\n",
              "    </tr>\n",
              "  </thead>\n",
              "  <tbody>\n",
              "    <tr>\n",
              "      <th>2019-01-01</th>\n",
              "      <td>Overcast</td>\n",
              "      <td>Light rain shower</td>\n",
              "      <td>Light rain shower</td>\n",
              "      <td>Light drizzle</td>\n",
              "      <td>Overcast</td>\n",
              "      <td>Moderate rain</td>\n",
              "      <td>Moderate rain at times</td>\n",
              "      <td>Partly cloudy</td>\n",
              "    </tr>\n",
              "    <tr>\n",
              "      <th>2019-01-02</th>\n",
              "      <td>Partly cloudy</td>\n",
              "      <td>Partly cloudy</td>\n",
              "      <td>Partly cloudy</td>\n",
              "      <td>Partly cloudy</td>\n",
              "      <td>Overcast</td>\n",
              "      <td>Light drizzle</td>\n",
              "      <td>Overcast</td>\n",
              "      <td>Light drizzle</td>\n",
              "    </tr>\n",
              "    <tr>\n",
              "      <th>2019-01-03</th>\n",
              "      <td>Overcast</td>\n",
              "      <td>Light rain</td>\n",
              "      <td>Overcast</td>\n",
              "      <td>Light drizzle</td>\n",
              "      <td>Overcast</td>\n",
              "      <td>Moderate rain</td>\n",
              "      <td>Moderate rain</td>\n",
              "      <td>Light rain</td>\n",
              "    </tr>\n",
              "    <tr>\n",
              "      <th>2019-01-04</th>\n",
              "      <td>Overcast</td>\n",
              "      <td>Heavy rain</td>\n",
              "      <td>Light rain</td>\n",
              "      <td>Moderate rain</td>\n",
              "      <td>Moderate rain</td>\n",
              "      <td>Patchy rain possible</td>\n",
              "      <td>Cloudy</td>\n",
              "      <td>Patchy rain possible</td>\n",
              "    </tr>\n",
              "    <tr>\n",
              "      <th>2019-01-05</th>\n",
              "      <td>Overcast</td>\n",
              "      <td>Patchy rain possible</td>\n",
              "      <td>Overcast</td>\n",
              "      <td>Sunny</td>\n",
              "      <td>Sunny</td>\n",
              "      <td>Sunny</td>\n",
              "      <td>Clear</td>\n",
              "      <td>Clear</td>\n",
              "    </tr>\n",
              "  </tbody>\n",
              "</table>\n",
              "</div>"
            ],
            "text/plain": [
              "                   hour 0  ...             hour 2100\n",
              "fl_date                    ...                      \n",
              "2019-01-01       Overcast  ...         Partly cloudy\n",
              "2019-01-02  Partly cloudy  ...         Light drizzle\n",
              "2019-01-03       Overcast  ...            Light rain\n",
              "2019-01-04       Overcast  ...  Patchy rain possible\n",
              "2019-01-05       Overcast  ...                 Clear\n",
              "\n",
              "[5 rows x 8 columns]"
            ]
          },
          "metadata": {
            "tags": []
          },
          "execution_count": 46
        }
      ]
    },
    {
      "cell_type": "code",
      "metadata": {
        "id": "0BiT31dkTAhP"
      },
      "source": [
        "# Load the weather reference data frame\n",
        "ATL_January_weather.to_csv('Jan2019_Atlanta_Weather.csv')"
      ],
      "execution_count": 47,
      "outputs": []
    },
    {
      "cell_type": "code",
      "metadata": {
        "id": "kVv5N7clIZa3"
      },
      "source": [
        "# Add a column to Jan19_ATL_flights to hold weatherDesc\n",
        "Jan19_ATL_flights['weatherDesc'] = np.nan\n",
        "# Add a column to Jan19_ATL_flights to hold time bin"
      ],
      "execution_count": 26,
      "outputs": []
    },
    {
      "cell_type": "code",
      "metadata": {
        "colab": {
          "base_uri": "https://localhost:8080/",
          "height": 35
        },
        "id": "6pLk1tYtF4YJ",
        "outputId": "cf850001-6d20-49cc-8683-5af350e57b55"
      },
      "source": [
        "# Test - Fill first row in Jan19_ATL_flights with weatherDesc at time dep_time from reference dataframe\n",
        "Jan19_ATL_flights['fl_date'][0]"
      ],
      "execution_count": 35,
      "outputs": [
        {
          "output_type": "execute_result",
          "data": {
            "application/vnd.google.colaboratory.intrinsic+json": {
              "type": "string"
            },
            "text/plain": [
              "'2019-01-01'"
            ]
          },
          "metadata": {
            "tags": []
          },
          "execution_count": 35
        }
      ]
    },
    {
      "cell_type": "code",
      "metadata": {
        "colab": {
          "base_uri": "https://localhost:8080/",
          "height": 465
        },
        "id": "1C_34CZDDuhJ",
        "outputId": "4b9503e5-2614-46ee-c0aa-9fa31eea4d38"
      },
      "source": [
        "date = Jan19_ATL_flights['fl_date'][0]\n",
        "Jan19_ATL_flights.loc[Jan19_ATL_flights['fl_date'] == date, 'weatherDesc'] = ATL_January_weather.loc[, 'hour 900']"
      ],
      "execution_count": 36,
      "outputs": [
        {
          "output_type": "error",
          "ename": "ValueError",
          "evalue": "ignored",
          "traceback": [
            "\u001b[0;31m---------------------------------------------------------------------------\u001b[0m",
            "\u001b[0;31mValueError\u001b[0m                                Traceback (most recent call last)",
            "\u001b[0;32m/usr/local/lib/python3.6/dist-packages/pandas/core/indexing.py\u001b[0m in \u001b[0;36m_has_valid_tuple\u001b[0;34m(self, key)\u001b[0m\n\u001b[1;32m    701\u001b[0m             \u001b[0;32mtry\u001b[0m\u001b[0;34m:\u001b[0m\u001b[0;34m\u001b[0m\u001b[0;34m\u001b[0m\u001b[0m\n\u001b[0;32m--> 702\u001b[0;31m                 \u001b[0mself\u001b[0m\u001b[0;34m.\u001b[0m\u001b[0m_validate_key\u001b[0m\u001b[0;34m(\u001b[0m\u001b[0mk\u001b[0m\u001b[0;34m,\u001b[0m \u001b[0mi\u001b[0m\u001b[0;34m)\u001b[0m\u001b[0;34m\u001b[0m\u001b[0;34m\u001b[0m\u001b[0m\n\u001b[0m\u001b[1;32m    703\u001b[0m             \u001b[0;32mexcept\u001b[0m \u001b[0mValueError\u001b[0m \u001b[0;32mas\u001b[0m \u001b[0merr\u001b[0m\u001b[0;34m:\u001b[0m\u001b[0;34m\u001b[0m\u001b[0;34m\u001b[0m\u001b[0m\n",
            "\u001b[0;32m/usr/local/lib/python3.6/dist-packages/pandas/core/indexing.py\u001b[0m in \u001b[0;36m_validate_key\u001b[0;34m(self, key, axis)\u001b[0m\n\u001b[1;32m   1368\u001b[0m         \u001b[0;32melse\u001b[0m\u001b[0;34m:\u001b[0m\u001b[0;34m\u001b[0m\u001b[0;34m\u001b[0m\u001b[0m\n\u001b[0;32m-> 1369\u001b[0;31m             \u001b[0;32mraise\u001b[0m \u001b[0mValueError\u001b[0m\u001b[0;34m(\u001b[0m\u001b[0;34mf\"Can only index by location with a [{self._valid_types}]\"\u001b[0m\u001b[0;34m)\u001b[0m\u001b[0;34m\u001b[0m\u001b[0;34m\u001b[0m\u001b[0m\n\u001b[0m\u001b[1;32m   1370\u001b[0m \u001b[0;34m\u001b[0m\u001b[0m\n",
            "\u001b[0;31mValueError\u001b[0m: Can only index by location with a [integer, integer slice (START point is INCLUDED, END point is EXCLUDED), listlike of integers, boolean array]",
            "\nThe above exception was the direct cause of the following exception:\n",
            "\u001b[0;31mValueError\u001b[0m                                Traceback (most recent call last)",
            "\u001b[0;32m<ipython-input-36-2fdb9dd0b865>\u001b[0m in \u001b[0;36m<module>\u001b[0;34m()\u001b[0m\n\u001b[1;32m      1\u001b[0m \u001b[0mdate\u001b[0m \u001b[0;34m=\u001b[0m \u001b[0mJan19_ATL_flights\u001b[0m\u001b[0;34m[\u001b[0m\u001b[0;34m'fl_date'\u001b[0m\u001b[0;34m]\u001b[0m\u001b[0;34m[\u001b[0m\u001b[0;36m0\u001b[0m\u001b[0;34m]\u001b[0m\u001b[0;34m\u001b[0m\u001b[0;34m\u001b[0m\u001b[0m\n\u001b[0;32m----> 2\u001b[0;31m \u001b[0mJan19_ATL_flights\u001b[0m\u001b[0;34m.\u001b[0m\u001b[0mloc\u001b[0m\u001b[0;34m[\u001b[0m\u001b[0mJan19_ATL_flights\u001b[0m\u001b[0;34m[\u001b[0m\u001b[0;34m'fl_date'\u001b[0m\u001b[0;34m]\u001b[0m \u001b[0;34m==\u001b[0m \u001b[0mdate\u001b[0m\u001b[0;34m,\u001b[0m \u001b[0;34m'weatherDesc'\u001b[0m\u001b[0;34m]\u001b[0m \u001b[0;34m=\u001b[0m \u001b[0mATL_January_weather\u001b[0m\u001b[0;34m.\u001b[0m\u001b[0miloc\u001b[0m\u001b[0;34m[\u001b[0m\u001b[0;36m0\u001b[0m\u001b[0;34m,\u001b[0m \u001b[0;34m'hour 900'\u001b[0m\u001b[0;34m]\u001b[0m\u001b[0;34m\u001b[0m\u001b[0;34m\u001b[0m\u001b[0m\n\u001b[0m",
            "\u001b[0;32m/usr/local/lib/python3.6/dist-packages/pandas/core/indexing.py\u001b[0m in \u001b[0;36m__getitem__\u001b[0;34m(self, key)\u001b[0m\n\u001b[1;32m    871\u001b[0m                     \u001b[0;31m# AttributeError for IntervalTree get_value\u001b[0m\u001b[0;34m\u001b[0m\u001b[0;34m\u001b[0m\u001b[0;34m\u001b[0m\u001b[0m\n\u001b[1;32m    872\u001b[0m                     \u001b[0;32mpass\u001b[0m\u001b[0;34m\u001b[0m\u001b[0;34m\u001b[0m\u001b[0m\n\u001b[0;32m--> 873\u001b[0;31m             \u001b[0;32mreturn\u001b[0m \u001b[0mself\u001b[0m\u001b[0;34m.\u001b[0m\u001b[0m_getitem_tuple\u001b[0m\u001b[0;34m(\u001b[0m\u001b[0mkey\u001b[0m\u001b[0;34m)\u001b[0m\u001b[0;34m\u001b[0m\u001b[0;34m\u001b[0m\u001b[0m\n\u001b[0m\u001b[1;32m    874\u001b[0m         \u001b[0;32melse\u001b[0m\u001b[0;34m:\u001b[0m\u001b[0;34m\u001b[0m\u001b[0;34m\u001b[0m\u001b[0m\n\u001b[1;32m    875\u001b[0m             \u001b[0;31m# we by definition only have the 0th axis\u001b[0m\u001b[0;34m\u001b[0m\u001b[0;34m\u001b[0m\u001b[0;34m\u001b[0m\u001b[0m\n",
            "\u001b[0;32m/usr/local/lib/python3.6/dist-packages/pandas/core/indexing.py\u001b[0m in \u001b[0;36m_getitem_tuple\u001b[0;34m(self, tup)\u001b[0m\n\u001b[1;32m   1441\u001b[0m     \u001b[0;32mdef\u001b[0m \u001b[0m_getitem_tuple\u001b[0m\u001b[0;34m(\u001b[0m\u001b[0mself\u001b[0m\u001b[0;34m,\u001b[0m \u001b[0mtup\u001b[0m\u001b[0;34m:\u001b[0m \u001b[0mTuple\u001b[0m\u001b[0;34m)\u001b[0m\u001b[0;34m:\u001b[0m\u001b[0;34m\u001b[0m\u001b[0;34m\u001b[0m\u001b[0m\n\u001b[1;32m   1442\u001b[0m \u001b[0;34m\u001b[0m\u001b[0m\n\u001b[0;32m-> 1443\u001b[0;31m         \u001b[0mself\u001b[0m\u001b[0;34m.\u001b[0m\u001b[0m_has_valid_tuple\u001b[0m\u001b[0;34m(\u001b[0m\u001b[0mtup\u001b[0m\u001b[0;34m)\u001b[0m\u001b[0;34m\u001b[0m\u001b[0;34m\u001b[0m\u001b[0m\n\u001b[0m\u001b[1;32m   1444\u001b[0m         \u001b[0;32mtry\u001b[0m\u001b[0;34m:\u001b[0m\u001b[0;34m\u001b[0m\u001b[0;34m\u001b[0m\u001b[0m\n\u001b[1;32m   1445\u001b[0m             \u001b[0;32mreturn\u001b[0m \u001b[0mself\u001b[0m\u001b[0;34m.\u001b[0m\u001b[0m_getitem_lowerdim\u001b[0m\u001b[0;34m(\u001b[0m\u001b[0mtup\u001b[0m\u001b[0;34m)\u001b[0m\u001b[0;34m\u001b[0m\u001b[0;34m\u001b[0m\u001b[0m\n",
            "\u001b[0;32m/usr/local/lib/python3.6/dist-packages/pandas/core/indexing.py\u001b[0m in \u001b[0;36m_has_valid_tuple\u001b[0;34m(self, key)\u001b[0m\n\u001b[1;32m    705\u001b[0m                     \u001b[0;34m\"Location based indexing can only have \"\u001b[0m\u001b[0;34m\u001b[0m\u001b[0;34m\u001b[0m\u001b[0m\n\u001b[1;32m    706\u001b[0m                     \u001b[0;34mf\"[{self._valid_types}] types\"\u001b[0m\u001b[0;34m\u001b[0m\u001b[0;34m\u001b[0m\u001b[0m\n\u001b[0;32m--> 707\u001b[0;31m                 ) from err\n\u001b[0m\u001b[1;32m    708\u001b[0m \u001b[0;34m\u001b[0m\u001b[0m\n\u001b[1;32m    709\u001b[0m     \u001b[0;32mdef\u001b[0m \u001b[0m_is_nested_tuple_indexer\u001b[0m\u001b[0;34m(\u001b[0m\u001b[0mself\u001b[0m\u001b[0;34m,\u001b[0m \u001b[0mtup\u001b[0m\u001b[0;34m:\u001b[0m \u001b[0mTuple\u001b[0m\u001b[0;34m)\u001b[0m \u001b[0;34m->\u001b[0m \u001b[0mbool\u001b[0m\u001b[0;34m:\u001b[0m\u001b[0;34m\u001b[0m\u001b[0;34m\u001b[0m\u001b[0m\n",
            "\u001b[0;31mValueError\u001b[0m: Location based indexing can only have [integer, integer slice (START point is INCLUDED, END point is EXCLUDED), listlike of integers, boolean array] types"
          ]
        }
      ]
    },
    {
      "cell_type": "code",
      "metadata": {
        "id": "4Vh9gnoqOVTg"
      },
      "source": [
        "Jan19_ATL_flights.loc[0, 'weatherDesc'] = ATL_January_weather.loc[0, 'hour 900']"
      ],
      "execution_count": 37,
      "outputs": []
    },
    {
      "cell_type": "code",
      "metadata": {
        "colab": {
          "base_uri": "https://localhost:8080/",
          "height": 78
        },
        "id": "SzwzY6ku4mPT",
        "outputId": "d8a3cc1b-5fdc-401e-ab1a-2cdcc8f95c6d"
      },
      "source": [
        "Jan19_ATL_flights.head(1)"
      ],
      "execution_count": 38,
      "outputs": [
        {
          "output_type": "execute_result",
          "data": {
            "text/html": [
              "<div>\n",
              "<style scoped>\n",
              "    .dataframe tbody tr th:only-of-type {\n",
              "        vertical-align: middle;\n",
              "    }\n",
              "\n",
              "    .dataframe tbody tr th {\n",
              "        vertical-align: top;\n",
              "    }\n",
              "\n",
              "    .dataframe thead th {\n",
              "        text-align: right;\n",
              "    }\n",
              "</style>\n",
              "<table border=\"1\" class=\"dataframe\">\n",
              "  <thead>\n",
              "    <tr style=\"text-align: right;\">\n",
              "      <th></th>\n",
              "      <th>fl_date</th>\n",
              "      <th>dep_time</th>\n",
              "      <th>origin_city_name</th>\n",
              "      <th>dep_delay</th>\n",
              "      <th>weather_delay</th>\n",
              "      <th>weatherDesc</th>\n",
              "    </tr>\n",
              "  </thead>\n",
              "  <tbody>\n",
              "    <tr>\n",
              "      <th>0</th>\n",
              "      <td>2019-01-01</td>\n",
              "      <td>955.0</td>\n",
              "      <td>Atlanta, GA</td>\n",
              "      <td>-5.0</td>\n",
              "      <td>NaN</td>\n",
              "      <td>Light drizzle</td>\n",
              "    </tr>\n",
              "  </tbody>\n",
              "</table>\n",
              "</div>"
            ],
            "text/plain": [
              "      fl_date  dep_time  ... weather_delay    weatherDesc\n",
              "0  2019-01-01     955.0  ...           NaN  Light drizzle\n",
              "\n",
              "[1 rows x 6 columns]"
            ]
          },
          "metadata": {
            "tags": []
          },
          "execution_count": 38
        }
      ]
    },
    {
      "cell_type": "markdown",
      "metadata": {
        "id": "ENBMRGSMHc1S"
      },
      "source": [
        ""
      ]
    },
    {
      "cell_type": "code",
      "metadata": {
        "id": "Fn48Up07MS6h"
      },
      "source": [
        "# Simplify datatframe names\n",
        "flights = Jan19_ATL_flights\n",
        "weather = ATL_January_weather"
      ],
      "execution_count": 60,
      "outputs": []
    },
    {
      "cell_type": "code",
      "metadata": {
        "id": "ULW0hJvwMpzg"
      },
      "source": [
        "# flights.loc[date, weatherDesc] = weather.loc[flights[date], the weather description column, for the bin of that departure time]"
      ],
      "execution_count": 23,
      "outputs": []
    },
    {
      "cell_type": "code",
      "metadata": {
        "id": "xNvJ6RcYMq3Y"
      },
      "source": [
        "# Can I use a dictionary? convenience function "
      ],
      "execution_count": 23,
      "outputs": []
    },
    {
      "cell_type": "code",
      "metadata": {
        "id": "YLaUSzHTM1-V"
      },
      "source": [
        "# .apply function\n",
        "# take in row, look at the departure time as input, return a given weather column based on dep_time\n",
        "\n",
        "def get_desc(row):\n",
        "    time = row['dep_time']\n",
        "    if pd.isnull(time):\n",
        "      return np.nan\n",
        "    date = row['fl_date']\n",
        "    bin = int(time//300)\n",
        "    hour = bin*300\n",
        "    if hour > 2100: \n",
        "      hour = 2100\n",
        "    col_name = f'hour {hour}'\n",
        "    return weather.loc[date, col_name] \n",
        "    "
      ],
      "execution_count": 61,
      "outputs": []
    },
    {
      "cell_type": "code",
      "metadata": {
        "id": "1wIUFY_8S_r1"
      },
      "source": [
        "flights.loc[:, 'weatherDesc'] = flights.apply(get_desc, axis = 1)"
      ],
      "execution_count": 62,
      "outputs": []
    },
    {
      "cell_type": "code",
      "metadata": {
        "colab": {
          "base_uri": "https://localhost:8080/",
          "height": 198
        },
        "id": "f78YAQAKVUOb",
        "outputId": "e6900cc4-ab41-4827-c338-e9be81bc9b9e"
      },
      "source": [
        "flights.head()"
      ],
      "execution_count": 63,
      "outputs": [
        {
          "output_type": "execute_result",
          "data": {
            "text/html": [
              "<div>\n",
              "<style scoped>\n",
              "    .dataframe tbody tr th:only-of-type {\n",
              "        vertical-align: middle;\n",
              "    }\n",
              "\n",
              "    .dataframe tbody tr th {\n",
              "        vertical-align: top;\n",
              "    }\n",
              "\n",
              "    .dataframe thead th {\n",
              "        text-align: right;\n",
              "    }\n",
              "</style>\n",
              "<table border=\"1\" class=\"dataframe\">\n",
              "  <thead>\n",
              "    <tr style=\"text-align: right;\">\n",
              "      <th></th>\n",
              "      <th>fl_date</th>\n",
              "      <th>dep_time</th>\n",
              "      <th>origin_city_name</th>\n",
              "      <th>dep_delay</th>\n",
              "      <th>weather_delay</th>\n",
              "      <th>weatherDesc</th>\n",
              "    </tr>\n",
              "  </thead>\n",
              "  <tbody>\n",
              "    <tr>\n",
              "      <th>0</th>\n",
              "      <td>2019-01-01</td>\n",
              "      <td>955.0</td>\n",
              "      <td>Atlanta, GA</td>\n",
              "      <td>-5.0</td>\n",
              "      <td>NaN</td>\n",
              "      <td>Light drizzle</td>\n",
              "    </tr>\n",
              "    <tr>\n",
              "      <th>1</th>\n",
              "      <td>2019-01-01</td>\n",
              "      <td>2114.0</td>\n",
              "      <td>Atlanta, GA</td>\n",
              "      <td>-5.0</td>\n",
              "      <td>NaN</td>\n",
              "      <td>Partly cloudy</td>\n",
              "    </tr>\n",
              "    <tr>\n",
              "      <th>2</th>\n",
              "      <td>2019-01-01</td>\n",
              "      <td>1701.0</td>\n",
              "      <td>Atlanta, GA</td>\n",
              "      <td>-3.0</td>\n",
              "      <td>NaN</td>\n",
              "      <td>Moderate rain</td>\n",
              "    </tr>\n",
              "    <tr>\n",
              "      <th>3</th>\n",
              "      <td>2019-01-01</td>\n",
              "      <td>604.0</td>\n",
              "      <td>Atlanta, GA</td>\n",
              "      <td>4.0</td>\n",
              "      <td>NaN</td>\n",
              "      <td>Light rain shower</td>\n",
              "    </tr>\n",
              "    <tr>\n",
              "      <th>4</th>\n",
              "      <td>2019-01-01</td>\n",
              "      <td>1814.0</td>\n",
              "      <td>Atlanta, GA</td>\n",
              "      <td>0.0</td>\n",
              "      <td>NaN</td>\n",
              "      <td>Moderate rain at times</td>\n",
              "    </tr>\n",
              "  </tbody>\n",
              "</table>\n",
              "</div>"
            ],
            "text/plain": [
              "      fl_date  dep_time  ... weather_delay             weatherDesc\n",
              "0  2019-01-01     955.0  ...           NaN           Light drizzle\n",
              "1  2019-01-01    2114.0  ...           NaN           Partly cloudy\n",
              "2  2019-01-01    1701.0  ...           NaN           Moderate rain\n",
              "3  2019-01-01     604.0  ...           NaN       Light rain shower\n",
              "4  2019-01-01    1814.0  ...           NaN  Moderate rain at times\n",
              "\n",
              "[5 rows x 6 columns]"
            ]
          },
          "metadata": {
            "tags": []
          },
          "execution_count": 63
        }
      ]
    },
    {
      "cell_type": "code",
      "metadata": {
        "id": "zjPIYyB4NDaT"
      },
      "source": [
        "# df.loc[:10]\n",
        "# # give you everything through 10"
      ],
      "execution_count": 41,
      "outputs": []
    },
    {
      "cell_type": "code",
      "metadata": {
        "id": "X7o05KdkNUCJ"
      },
      "source": [
        "# df.iloc[:10] \n",
        "# # everything up to but not including 10"
      ],
      "execution_count": 42,
      "outputs": []
    },
    {
      "cell_type": "code",
      "metadata": {
        "id": "yG8cb4Q9NWDY"
      },
      "source": [
        "# Load the weather reference data frame\n",
        "flights.to_csv('Jan2019_Atlanta_Flights_withWeather.csv')"
      ],
      "execution_count": 64,
      "outputs": []
    },
    {
      "cell_type": "code",
      "metadata": {
        "colab": {
          "base_uri": "https://localhost:8080/",
          "height": 131
        },
        "id": "2lPLGcXxVzE-",
        "outputId": "fd07304a-6477-4fdc-856e-90e07762be29"
      },
      "source": [
        "/content/Jan2019_Atlanta_Flights_withWeather.csv"
      ],
      "execution_count": 65,
      "outputs": [
        {
          "output_type": "error",
          "ename": "SyntaxError",
          "evalue": "ignored",
          "traceback": [
            "\u001b[0;36m  File \u001b[0;32m\"<ipython-input-65-4b2765ab9de9>\"\u001b[0;36m, line \u001b[0;32m1\u001b[0m\n\u001b[0;31m    content(/Jan2019_Atlanta_Flights_withWeather.csv)\u001b[0m\n\u001b[0m            ^\u001b[0m\n\u001b[0;31mSyntaxError\u001b[0m\u001b[0;31m:\u001b[0m invalid syntax\n"
          ]
        }
      ]
    },
    {
      "cell_type": "code",
      "metadata": {
        "id": "59tKP1OwWBgZ"
      },
      "source": [
        ""
      ],
      "execution_count": null,
      "outputs": []
    }
  ]
}
