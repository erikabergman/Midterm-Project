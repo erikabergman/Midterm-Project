{
  "nbformat": 4,
  "nbformat_minor": 0,
  "metadata": {
    "colab": {
      "name": "Midterm_E.B.ipynb",
      "provenance": [],
      "include_colab_link": true
    },
    "kernelspec": {
      "name": "python3",
      "display_name": "Python 3"
    }
  },
  "cells": [
    {
      "cell_type": "markdown",
      "metadata": {
        "id": "view-in-github",
        "colab_type": "text"
      },
      "source": [
        "<a href=\"https://colab.research.google.com/github/DeftJackal/Midterm-Project/blob/main/Midterm_E_B.ipynb\" target=\"_parent\"><img src=\"https://colab.research.google.com/assets/colab-badge.svg\" alt=\"Open In Colab\"/></a>"
      ]
    },
    {
      "cell_type": "code",
      "metadata": {
        "id": "YjxW8il4H2EJ"
      },
      "source": [
        "# connect to a database using postgres\n",
        "# host: mid-term-project.ca2jkepgjpne.us-east-2.rds.amazonaws.com\n",
        "# port: 5432\n",
        "# user: lhl__student\n",
        "# pwd: lhl__student\n",
        "# database: mid_term_project"
      ],
      "execution_count": 1,
      "outputs": []
    },
    {
      "cell_type": "code",
      "metadata": {
        "id": "ZLC9meZeH3r9"
      },
      "source": [
        "import pandas as pd\n",
        "import psycopg2\n",
        "import sqlalchemy\n",
        "import matplotlib as plt\n",
        "import numpy as np\n",
        "%matplotlib inline\n",
        "import requests as re\n",
        "from sqlalchemy import create_engine\n",
        "import datetime\n",
        "from sklearn.linear_model import LogisticRegression\n",
        "from sklearn import metrics\n",
        "from sklearn.model_selection import train_test_split"
      ],
      "execution_count": 145,
      "outputs": []
    },
    {
      "cell_type": "code",
      "metadata": {
        "id": "XfyvheiDH5ks"
      },
      "source": [
        "\n",
        "# Postgres username, password, and database name\n",
        "POSTGRES_ADDRESS = 'mid-term-project.ca2jkepgjpne.us-east-2.rds.amazonaws.com' ## INSERT YOUR DB ADDRESS IF IT'S NOT ON PANOPLY\n",
        "POSTGRES_PORT = '5432'\n",
        "POSTGRES_USERNAME = 'lhl_student' ## CHANGE THIS TO YOUR PANOPLY/POSTGRES USERNAME\n",
        "POSTGRES_PASSWORD = 'lhl_student' ## CHANGE THIS TO YOUR PANOPLY/POSTGRES PASSWORD \n",
        "POSTGRES_DBNAME = 'mid_term_project' ## CHANGE THIS TO YOUR DATABASE NAME\n",
        "# A long string that contains the necessary Postgres login information\n",
        "postgres_str = ('postgresql://{username}:{password}@{ipaddress}:{port}/{dbname}'\n",
        "              .format(username=POSTGRES_USERNAME,\n",
        "               password=POSTGRES_PASSWORD,\n",
        "               ipaddress=POSTGRES_ADDRESS,\n",
        "               port=POSTGRES_PORT,\n",
        "               dbname=POSTGRES_DBNAME))\n",
        "\n"
      ],
      "execution_count": 2,
      "outputs": []
    },
    {
      "cell_type": "code",
      "metadata": {
        "id": "WtijFSv8H9Jb"
      },
      "source": [
        "# Create the connection\n",
        "cnx = create_engine(postgres_str)"
      ],
      "execution_count": 3,
      "outputs": []
    },
    {
      "cell_type": "code",
      "metadata": {
        "id": "ywXlq4ONH_bL"
      },
      "source": [
        "flights = pd.read_sql_query('''SELECT * FROM flights LIMIT 5;''', cnx)"
      ],
      "execution_count": null,
      "outputs": []
    },
    {
      "cell_type": "code",
      "metadata": {
        "id": "RsRXDbT7IBO6"
      },
      "source": [
        "flights.columns"
      ],
      "execution_count": null,
      "outputs": []
    },
    {
      "cell_type": "code",
      "metadata": {
        "id": "J_rmFaRbIC_p"
      },
      "source": [
        "passengers = pd.read_sql_query('''SELECT * FROM passengers LIMIT 5;''', cnx)"
      ],
      "execution_count": null,
      "outputs": []
    },
    {
      "cell_type": "code",
      "metadata": {
        "colab": {
          "base_uri": "https://localhost:8080/",
          "height": 309
        },
        "id": "A4IXxv9dIkgQ",
        "outputId": "f159d95d-46ce-4f8b-8bf0-e3b84379dd33"
      },
      "source": [
        "passengers"
      ],
      "execution_count": null,
      "outputs": [
        {
          "output_type": "execute_result",
          "data": {
            "text/html": [
              "<div>\n",
              "<style scoped>\n",
              "    .dataframe tbody tr th:only-of-type {\n",
              "        vertical-align: middle;\n",
              "    }\n",
              "\n",
              "    .dataframe tbody tr th {\n",
              "        vertical-align: top;\n",
              "    }\n",
              "\n",
              "    .dataframe thead th {\n",
              "        text-align: right;\n",
              "    }\n",
              "</style>\n",
              "<table border=\"1\" class=\"dataframe\">\n",
              "  <thead>\n",
              "    <tr style=\"text-align: right;\">\n",
              "      <th></th>\n",
              "      <th>departures_scheduled</th>\n",
              "      <th>departures_performed</th>\n",
              "      <th>payload</th>\n",
              "      <th>seats</th>\n",
              "      <th>passengers</th>\n",
              "      <th>freight</th>\n",
              "      <th>mail</th>\n",
              "      <th>distance</th>\n",
              "      <th>ramp_to_ramp</th>\n",
              "      <th>air_time</th>\n",
              "      <th>unique_carrier</th>\n",
              "      <th>airline_id</th>\n",
              "      <th>unique_carrier_name</th>\n",
              "      <th>region</th>\n",
              "      <th>carrier</th>\n",
              "      <th>carrier_name</th>\n",
              "      <th>carrier_group</th>\n",
              "      <th>carrier_group_new</th>\n",
              "      <th>origin_airport_id</th>\n",
              "      <th>origin_city_market_id</th>\n",
              "      <th>origin</th>\n",
              "      <th>origin_city_name</th>\n",
              "      <th>origin_country</th>\n",
              "      <th>origin_country_name</th>\n",
              "      <th>dest_airport_id</th>\n",
              "      <th>dest_city_market_id</th>\n",
              "      <th>dest</th>\n",
              "      <th>dest_city_name</th>\n",
              "      <th>dest_country</th>\n",
              "      <th>dest_country_name</th>\n",
              "      <th>aircraft_group</th>\n",
              "      <th>aircraft_type</th>\n",
              "      <th>aircraft_config</th>\n",
              "      <th>year</th>\n",
              "      <th>month</th>\n",
              "      <th>distance_group</th>\n",
              "      <th>class</th>\n",
              "      <th>data_source</th>\n",
              "    </tr>\n",
              "  </thead>\n",
              "  <tbody>\n",
              "    <tr>\n",
              "      <th>0</th>\n",
              "      <td>31.0</td>\n",
              "      <td>31.0</td>\n",
              "      <td>1153200.0</td>\n",
              "      <td>5766.0</td>\n",
              "      <td>5274.0</td>\n",
              "      <td>0.0</td>\n",
              "      <td>0.0</td>\n",
              "      <td>861.0</td>\n",
              "      <td>4764.0</td>\n",
              "      <td>3716.0</td>\n",
              "      <td>F9</td>\n",
              "      <td>20436</td>\n",
              "      <td>Frontier Airlines Inc.</td>\n",
              "      <td>D</td>\n",
              "      <td>F9</td>\n",
              "      <td>Frontier Airlines Inc.</td>\n",
              "      <td>3</td>\n",
              "      <td>3</td>\n",
              "      <td>14100</td>\n",
              "      <td>34100</td>\n",
              "      <td>PHL</td>\n",
              "      <td>Philadelphia, PA</td>\n",
              "      <td>US</td>\n",
              "      <td>United States</td>\n",
              "      <td>13204</td>\n",
              "      <td>31454</td>\n",
              "      <td>MCO</td>\n",
              "      <td>Orlando, FL</td>\n",
              "      <td>US</td>\n",
              "      <td>United States</td>\n",
              "      <td>6</td>\n",
              "      <td>722</td>\n",
              "      <td>1</td>\n",
              "      <td>2019</td>\n",
              "      <td>8</td>\n",
              "      <td>2</td>\n",
              "      <td>F</td>\n",
              "      <td>DU</td>\n",
              "    </tr>\n",
              "    <tr>\n",
              "      <th>1</th>\n",
              "      <td>31.0</td>\n",
              "      <td>31.0</td>\n",
              "      <td>1426000.0</td>\n",
              "      <td>7130.0</td>\n",
              "      <td>6341.0</td>\n",
              "      <td>0.0</td>\n",
              "      <td>0.0</td>\n",
              "      <td>1371.0</td>\n",
              "      <td>6523.0</td>\n",
              "      <td>5648.0</td>\n",
              "      <td>F9</td>\n",
              "      <td>20436</td>\n",
              "      <td>Frontier Airlines Inc.</td>\n",
              "      <td>D</td>\n",
              "      <td>F9</td>\n",
              "      <td>Frontier Airlines Inc.</td>\n",
              "      <td>3</td>\n",
              "      <td>3</td>\n",
              "      <td>15016</td>\n",
              "      <td>31123</td>\n",
              "      <td>STL</td>\n",
              "      <td>St. Louis, MO</td>\n",
              "      <td>US</td>\n",
              "      <td>United States</td>\n",
              "      <td>12889</td>\n",
              "      <td>32211</td>\n",
              "      <td>LAS</td>\n",
              "      <td>Las Vegas, NV</td>\n",
              "      <td>US</td>\n",
              "      <td>United States</td>\n",
              "      <td>6</td>\n",
              "      <td>699</td>\n",
              "      <td>1</td>\n",
              "      <td>2019</td>\n",
              "      <td>8</td>\n",
              "      <td>3</td>\n",
              "      <td>F</td>\n",
              "      <td>DU</td>\n",
              "    </tr>\n",
              "    <tr>\n",
              "      <th>2</th>\n",
              "      <td>31.0</td>\n",
              "      <td>31.0</td>\n",
              "      <td>1426000.0</td>\n",
              "      <td>7130.0</td>\n",
              "      <td>5292.0</td>\n",
              "      <td>0.0</td>\n",
              "      <td>0.0</td>\n",
              "      <td>882.0</td>\n",
              "      <td>4312.0</td>\n",
              "      <td>3598.0</td>\n",
              "      <td>F9</td>\n",
              "      <td>20436</td>\n",
              "      <td>Frontier Airlines Inc.</td>\n",
              "      <td>D</td>\n",
              "      <td>F9</td>\n",
              "      <td>Frontier Airlines Inc.</td>\n",
              "      <td>3</td>\n",
              "      <td>3</td>\n",
              "      <td>15016</td>\n",
              "      <td>31123</td>\n",
              "      <td>STL</td>\n",
              "      <td>St. Louis, MO</td>\n",
              "      <td>US</td>\n",
              "      <td>United States</td>\n",
              "      <td>13204</td>\n",
              "      <td>31454</td>\n",
              "      <td>MCO</td>\n",
              "      <td>Orlando, FL</td>\n",
              "      <td>US</td>\n",
              "      <td>United States</td>\n",
              "      <td>6</td>\n",
              "      <td>699</td>\n",
              "      <td>1</td>\n",
              "      <td>2019</td>\n",
              "      <td>8</td>\n",
              "      <td>2</td>\n",
              "      <td>F</td>\n",
              "      <td>DU</td>\n",
              "    </tr>\n",
              "    <tr>\n",
              "      <th>3</th>\n",
              "      <td>31.0</td>\n",
              "      <td>31.0</td>\n",
              "      <td>1426000.0</td>\n",
              "      <td>7130.0</td>\n",
              "      <td>6141.0</td>\n",
              "      <td>0.0</td>\n",
              "      <td>0.0</td>\n",
              "      <td>404.0</td>\n",
              "      <td>3122.0</td>\n",
              "      <td>1933.0</td>\n",
              "      <td>F9</td>\n",
              "      <td>20436</td>\n",
              "      <td>Frontier Airlines Inc.</td>\n",
              "      <td>D</td>\n",
              "      <td>F9</td>\n",
              "      <td>Frontier Airlines Inc.</td>\n",
              "      <td>3</td>\n",
              "      <td>3</td>\n",
              "      <td>10397</td>\n",
              "      <td>30397</td>\n",
              "      <td>ATL</td>\n",
              "      <td>Atlanta, GA</td>\n",
              "      <td>US</td>\n",
              "      <td>United States</td>\n",
              "      <td>13204</td>\n",
              "      <td>31454</td>\n",
              "      <td>MCO</td>\n",
              "      <td>Orlando, FL</td>\n",
              "      <td>US</td>\n",
              "      <td>United States</td>\n",
              "      <td>6</td>\n",
              "      <td>699</td>\n",
              "      <td>1</td>\n",
              "      <td>2019</td>\n",
              "      <td>7</td>\n",
              "      <td>1</td>\n",
              "      <td>F</td>\n",
              "      <td>DU</td>\n",
              "    </tr>\n",
              "    <tr>\n",
              "      <th>4</th>\n",
              "      <td>31.0</td>\n",
              "      <td>31.0</td>\n",
              "      <td>1153200.0</td>\n",
              "      <td>5766.0</td>\n",
              "      <td>5321.0</td>\n",
              "      <td>0.0</td>\n",
              "      <td>0.0</td>\n",
              "      <td>641.0</td>\n",
              "      <td>3761.0</td>\n",
              "      <td>2746.0</td>\n",
              "      <td>F9</td>\n",
              "      <td>20436</td>\n",
              "      <td>Frontier Airlines Inc.</td>\n",
              "      <td>D</td>\n",
              "      <td>F9</td>\n",
              "      <td>Frontier Airlines Inc.</td>\n",
              "      <td>3</td>\n",
              "      <td>3</td>\n",
              "      <td>11292</td>\n",
              "      <td>30325</td>\n",
              "      <td>DEN</td>\n",
              "      <td>Denver, CO</td>\n",
              "      <td>US</td>\n",
              "      <td>United States</td>\n",
              "      <td>11298</td>\n",
              "      <td>30194</td>\n",
              "      <td>DFW</td>\n",
              "      <td>Dallas/Fort Worth, TX</td>\n",
              "      <td>US</td>\n",
              "      <td>United States</td>\n",
              "      <td>6</td>\n",
              "      <td>722</td>\n",
              "      <td>1</td>\n",
              "      <td>2019</td>\n",
              "      <td>7</td>\n",
              "      <td>2</td>\n",
              "      <td>F</td>\n",
              "      <td>DU</td>\n",
              "    </tr>\n",
              "  </tbody>\n",
              "</table>\n",
              "</div>"
            ],
            "text/plain": [
              "   departures_scheduled  departures_performed  ...  class  data_source\n",
              "0                  31.0                  31.0  ...      F           DU\n",
              "1                  31.0                  31.0  ...      F           DU\n",
              "2                  31.0                  31.0  ...      F           DU\n",
              "3                  31.0                  31.0  ...      F           DU\n",
              "4                  31.0                  31.0  ...      F           DU\n",
              "\n",
              "[5 rows x 38 columns]"
            ]
          },
          "metadata": {
            "tags": []
          },
          "execution_count": 9
        }
      ]
    },
    {
      "cell_type": "code",
      "metadata": {
        "id": "xQ9Yg5dBIlcI"
      },
      "source": [
        "fuel_consumption = pd.read_sql_query('''SELECT * FROM fuel_comsumption LIMIT 5;''', cnx)"
      ],
      "execution_count": null,
      "outputs": []
    },
    {
      "cell_type": "code",
      "metadata": {
        "colab": {
          "base_uri": "https://localhost:8080/",
          "height": 343
        },
        "id": "kjZnx9DsIvqV",
        "outputId": "3fce74a5-5965-4530-b004-273c61a8c76c"
      },
      "source": [
        "fuel_consumption"
      ],
      "execution_count": null,
      "outputs": [
        {
          "output_type": "execute_result",
          "data": {
            "text/html": [
              "<div>\n",
              "<style scoped>\n",
              "    .dataframe tbody tr th:only-of-type {\n",
              "        vertical-align: middle;\n",
              "    }\n",
              "\n",
              "    .dataframe tbody tr th {\n",
              "        vertical-align: top;\n",
              "    }\n",
              "\n",
              "    .dataframe thead th {\n",
              "        text-align: right;\n",
              "    }\n",
              "</style>\n",
              "<table border=\"1\" class=\"dataframe\">\n",
              "  <thead>\n",
              "    <tr style=\"text-align: right;\">\n",
              "      <th></th>\n",
              "      <th>month</th>\n",
              "      <th>airline_id</th>\n",
              "      <th>unique_carrier</th>\n",
              "      <th>carrier</th>\n",
              "      <th>carrier_name</th>\n",
              "      <th>carrier_group_new</th>\n",
              "      <th>sdomt_gallons</th>\n",
              "      <th>satl_gallons</th>\n",
              "      <th>spac_gallons</th>\n",
              "      <th>slat_gallons</th>\n",
              "      <th>sint_gallons</th>\n",
              "      <th>ts_gallons</th>\n",
              "      <th>tdomt_gallons</th>\n",
              "      <th>tint_gallons</th>\n",
              "      <th>total_gallons</th>\n",
              "      <th>sdomt_cost</th>\n",
              "      <th>satl_cost</th>\n",
              "      <th>spac_cost</th>\n",
              "      <th>slat_cost</th>\n",
              "      <th>sint_cost</th>\n",
              "      <th>ts_cost</th>\n",
              "      <th>tdomt_cost</th>\n",
              "      <th>tint_cost</th>\n",
              "      <th>total_cost</th>\n",
              "      <th>year</th>\n",
              "    </tr>\n",
              "  </thead>\n",
              "  <tbody>\n",
              "    <tr>\n",
              "      <th>0</th>\n",
              "      <td>1</td>\n",
              "      <td>NaN</td>\n",
              "      <td>None</td>\n",
              "      <td>0JQ</td>\n",
              "      <td>None</td>\n",
              "      <td>1</td>\n",
              "      <td>0.0</td>\n",
              "      <td>0.0</td>\n",
              "      <td>0.0</td>\n",
              "      <td>0.0</td>\n",
              "      <td>0.0</td>\n",
              "      <td>0.0</td>\n",
              "      <td>3000.0</td>\n",
              "      <td>0.0</td>\n",
              "      <td>3000.0</td>\n",
              "      <td>0.0</td>\n",
              "      <td>0.0</td>\n",
              "      <td>0.0</td>\n",
              "      <td>0.0</td>\n",
              "      <td>0.0</td>\n",
              "      <td>0.0</td>\n",
              "      <td>5100.0</td>\n",
              "      <td>0.0</td>\n",
              "      <td>5100.0</td>\n",
              "      <td>2016</td>\n",
              "    </tr>\n",
              "    <tr>\n",
              "      <th>1</th>\n",
              "      <td>1</td>\n",
              "      <td>21352.0</td>\n",
              "      <td>0WQ</td>\n",
              "      <td>0WQ</td>\n",
              "      <td>Avjet Corporation</td>\n",
              "      <td>1</td>\n",
              "      <td>0.0</td>\n",
              "      <td>0.0</td>\n",
              "      <td>0.0</td>\n",
              "      <td>0.0</td>\n",
              "      <td>0.0</td>\n",
              "      <td>0.0</td>\n",
              "      <td>163052.0</td>\n",
              "      <td>47060.0</td>\n",
              "      <td>210112.0</td>\n",
              "      <td>0.0</td>\n",
              "      <td>0.0</td>\n",
              "      <td>0.0</td>\n",
              "      <td>0.0</td>\n",
              "      <td>0.0</td>\n",
              "      <td>0.0</td>\n",
              "      <td>396216.0</td>\n",
              "      <td>140239.0</td>\n",
              "      <td>536455.0</td>\n",
              "      <td>2016</td>\n",
              "    </tr>\n",
              "    <tr>\n",
              "      <th>2</th>\n",
              "      <td>1</td>\n",
              "      <td>21645.0</td>\n",
              "      <td>23Q</td>\n",
              "      <td>23Q</td>\n",
              "      <td>Songbird Airways Inc.</td>\n",
              "      <td>1</td>\n",
              "      <td>0.0</td>\n",
              "      <td>0.0</td>\n",
              "      <td>0.0</td>\n",
              "      <td>0.0</td>\n",
              "      <td>0.0</td>\n",
              "      <td>0.0</td>\n",
              "      <td>0.0</td>\n",
              "      <td>0.0</td>\n",
              "      <td>0.0</td>\n",
              "      <td>0.0</td>\n",
              "      <td>0.0</td>\n",
              "      <td>0.0</td>\n",
              "      <td>0.0</td>\n",
              "      <td>0.0</td>\n",
              "      <td>0.0</td>\n",
              "      <td>0.0</td>\n",
              "      <td>0.0</td>\n",
              "      <td>0.0</td>\n",
              "      <td>2016</td>\n",
              "    </tr>\n",
              "    <tr>\n",
              "      <th>3</th>\n",
              "      <td>1</td>\n",
              "      <td>21652.0</td>\n",
              "      <td>27Q</td>\n",
              "      <td>27Q</td>\n",
              "      <td>Jet Aviation Flight Services, Inc.</td>\n",
              "      <td>1</td>\n",
              "      <td>0.0</td>\n",
              "      <td>0.0</td>\n",
              "      <td>0.0</td>\n",
              "      <td>0.0</td>\n",
              "      <td>0.0</td>\n",
              "      <td>0.0</td>\n",
              "      <td>0.0</td>\n",
              "      <td>0.0</td>\n",
              "      <td>0.0</td>\n",
              "      <td>0.0</td>\n",
              "      <td>0.0</td>\n",
              "      <td>0.0</td>\n",
              "      <td>0.0</td>\n",
              "      <td>0.0</td>\n",
              "      <td>0.0</td>\n",
              "      <td>0.0</td>\n",
              "      <td>0.0</td>\n",
              "      <td>0.0</td>\n",
              "      <td>2016</td>\n",
              "    </tr>\n",
              "    <tr>\n",
              "      <th>4</th>\n",
              "      <td>1</td>\n",
              "      <td>20408.0</td>\n",
              "      <td>5V</td>\n",
              "      <td>5V</td>\n",
              "      <td>Tatonduk Outfitters Limited d/b/a Everts Air A...</td>\n",
              "      <td>1</td>\n",
              "      <td>260848.0</td>\n",
              "      <td>0.0</td>\n",
              "      <td>0.0</td>\n",
              "      <td>0.0</td>\n",
              "      <td>0.0</td>\n",
              "      <td>260848.0</td>\n",
              "      <td>284362.0</td>\n",
              "      <td>0.0</td>\n",
              "      <td>284362.0</td>\n",
              "      <td>522405.0</td>\n",
              "      <td>0.0</td>\n",
              "      <td>0.0</td>\n",
              "      <td>0.0</td>\n",
              "      <td>0.0</td>\n",
              "      <td>522405.0</td>\n",
              "      <td>569497.0</td>\n",
              "      <td>0.0</td>\n",
              "      <td>569497.0</td>\n",
              "      <td>2016</td>\n",
              "    </tr>\n",
              "  </tbody>\n",
              "</table>\n",
              "</div>"
            ],
            "text/plain": [
              "   month  airline_id unique_carrier  ... tint_cost total_cost  year\n",
              "0      1         NaN           None  ...       0.0     5100.0  2016\n",
              "1      1     21352.0            0WQ  ...  140239.0   536455.0  2016\n",
              "2      1     21645.0            23Q  ...       0.0        0.0  2016\n",
              "3      1     21652.0            27Q  ...       0.0        0.0  2016\n",
              "4      1     20408.0             5V  ...       0.0   569497.0  2016\n",
              "\n",
              "[5 rows x 25 columns]"
            ]
          },
          "metadata": {
            "tags": []
          },
          "execution_count": 14
        }
      ]
    },
    {
      "cell_type": "code",
      "metadata": {
        "id": "qdShDuKUIxM_"
      },
      "source": [
        "flights_test = pd.read_sql_query('''SELECT * FROM flights_test LIMIT 5;''', cnx)"
      ],
      "execution_count": null,
      "outputs": []
    },
    {
      "cell_type": "code",
      "metadata": {
        "colab": {
          "base_uri": "https://localhost:8080/",
          "height": 309
        },
        "id": "bYVNduqcJchr",
        "outputId": "8d87937a-4405-495b-ebfc-4b45d4efe5a0"
      },
      "source": [
        "flights_test"
      ],
      "execution_count": null,
      "outputs": [
        {
          "output_type": "execute_result",
          "data": {
            "text/html": [
              "<div>\n",
              "<style scoped>\n",
              "    .dataframe tbody tr th:only-of-type {\n",
              "        vertical-align: middle;\n",
              "    }\n",
              "\n",
              "    .dataframe tbody tr th {\n",
              "        vertical-align: top;\n",
              "    }\n",
              "\n",
              "    .dataframe thead th {\n",
              "        text-align: right;\n",
              "    }\n",
              "</style>\n",
              "<table border=\"1\" class=\"dataframe\">\n",
              "  <thead>\n",
              "    <tr style=\"text-align: right;\">\n",
              "      <th></th>\n",
              "      <th>fl_date</th>\n",
              "      <th>mkt_unique_carrier</th>\n",
              "      <th>branded_code_share</th>\n",
              "      <th>mkt_carrier</th>\n",
              "      <th>mkt_carrier_fl_num</th>\n",
              "      <th>op_unique_carrier</th>\n",
              "      <th>tail_num</th>\n",
              "      <th>op_carrier_fl_num</th>\n",
              "      <th>origin_airport_id</th>\n",
              "      <th>origin</th>\n",
              "      <th>origin_city_name</th>\n",
              "      <th>dest_airport_id</th>\n",
              "      <th>dest</th>\n",
              "      <th>dest_city_name</th>\n",
              "      <th>crs_dep_time</th>\n",
              "      <th>crs_arr_time</th>\n",
              "      <th>dup</th>\n",
              "      <th>crs_elapsed_time</th>\n",
              "      <th>flights</th>\n",
              "      <th>distance</th>\n",
              "    </tr>\n",
              "  </thead>\n",
              "  <tbody>\n",
              "    <tr>\n",
              "      <th>0</th>\n",
              "      <td>2020-01-01</td>\n",
              "      <td>WN</td>\n",
              "      <td>WN</td>\n",
              "      <td>WN</td>\n",
              "      <td>5888</td>\n",
              "      <td>WN</td>\n",
              "      <td>N951WN</td>\n",
              "      <td>5888</td>\n",
              "      <td>13891</td>\n",
              "      <td>ONT</td>\n",
              "      <td>Ontario, CA</td>\n",
              "      <td>14771</td>\n",
              "      <td>SFO</td>\n",
              "      <td>San Francisco, CA</td>\n",
              "      <td>1810</td>\n",
              "      <td>1945</td>\n",
              "      <td>N</td>\n",
              "      <td>95</td>\n",
              "      <td>1</td>\n",
              "      <td>363</td>\n",
              "    </tr>\n",
              "    <tr>\n",
              "      <th>1</th>\n",
              "      <td>2020-01-01</td>\n",
              "      <td>WN</td>\n",
              "      <td>WN</td>\n",
              "      <td>WN</td>\n",
              "      <td>6276</td>\n",
              "      <td>WN</td>\n",
              "      <td>N467WN</td>\n",
              "      <td>6276</td>\n",
              "      <td>13891</td>\n",
              "      <td>ONT</td>\n",
              "      <td>Ontario, CA</td>\n",
              "      <td>14771</td>\n",
              "      <td>SFO</td>\n",
              "      <td>San Francisco, CA</td>\n",
              "      <td>1150</td>\n",
              "      <td>1320</td>\n",
              "      <td>N</td>\n",
              "      <td>90</td>\n",
              "      <td>1</td>\n",
              "      <td>363</td>\n",
              "    </tr>\n",
              "    <tr>\n",
              "      <th>2</th>\n",
              "      <td>2020-01-01</td>\n",
              "      <td>WN</td>\n",
              "      <td>WN</td>\n",
              "      <td>WN</td>\n",
              "      <td>4598</td>\n",
              "      <td>WN</td>\n",
              "      <td>N7885A</td>\n",
              "      <td>4598</td>\n",
              "      <td>13891</td>\n",
              "      <td>ONT</td>\n",
              "      <td>Ontario, CA</td>\n",
              "      <td>14831</td>\n",
              "      <td>SJC</td>\n",
              "      <td>San Jose, CA</td>\n",
              "      <td>2020</td>\n",
              "      <td>2130</td>\n",
              "      <td>N</td>\n",
              "      <td>70</td>\n",
              "      <td>1</td>\n",
              "      <td>333</td>\n",
              "    </tr>\n",
              "    <tr>\n",
              "      <th>3</th>\n",
              "      <td>2020-01-01</td>\n",
              "      <td>WN</td>\n",
              "      <td>WN</td>\n",
              "      <td>WN</td>\n",
              "      <td>4761</td>\n",
              "      <td>WN</td>\n",
              "      <td>N551WN</td>\n",
              "      <td>4761</td>\n",
              "      <td>13891</td>\n",
              "      <td>ONT</td>\n",
              "      <td>Ontario, CA</td>\n",
              "      <td>14831</td>\n",
              "      <td>SJC</td>\n",
              "      <td>San Jose, CA</td>\n",
              "      <td>1340</td>\n",
              "      <td>1455</td>\n",
              "      <td>N</td>\n",
              "      <td>75</td>\n",
              "      <td>1</td>\n",
              "      <td>333</td>\n",
              "    </tr>\n",
              "    <tr>\n",
              "      <th>4</th>\n",
              "      <td>2020-01-01</td>\n",
              "      <td>WN</td>\n",
              "      <td>WN</td>\n",
              "      <td>WN</td>\n",
              "      <td>5162</td>\n",
              "      <td>WN</td>\n",
              "      <td>N968WN</td>\n",
              "      <td>5162</td>\n",
              "      <td>13891</td>\n",
              "      <td>ONT</td>\n",
              "      <td>Ontario, CA</td>\n",
              "      <td>14831</td>\n",
              "      <td>SJC</td>\n",
              "      <td>San Jose, CA</td>\n",
              "      <td>915</td>\n",
              "      <td>1035</td>\n",
              "      <td>N</td>\n",
              "      <td>80</td>\n",
              "      <td>1</td>\n",
              "      <td>333</td>\n",
              "    </tr>\n",
              "  </tbody>\n",
              "</table>\n",
              "</div>"
            ],
            "text/plain": [
              "     fl_date mkt_unique_carrier  ... flights distance\n",
              "0 2020-01-01                 WN  ...       1      363\n",
              "1 2020-01-01                 WN  ...       1      363\n",
              "2 2020-01-01                 WN  ...       1      333\n",
              "3 2020-01-01                 WN  ...       1      333\n",
              "4 2020-01-01                 WN  ...       1      333\n",
              "\n",
              "[5 rows x 20 columns]"
            ]
          },
          "metadata": {
            "tags": []
          },
          "execution_count": 16
        }
      ]
    },
    {
      "cell_type": "code",
      "metadata": {
        "id": "0vrS_zylJdoT"
      },
      "source": [
        "# Inquiry #1, for flights in January is there a particular airline which has more delays?"
      ],
      "execution_count": null,
      "outputs": []
    },
    {
      "cell_type": "code",
      "metadata": {
        "id": "6nMcBkWPZTwQ"
      },
      "source": [
        "# Inquiry #2, flight flights in January, does origin city or destination city cause delays? Which causes more?"
      ],
      "execution_count": null,
      "outputs": []
    },
    {
      "cell_type": "code",
      "metadata": {
        "id": "R5OAzaN-aMTQ"
      },
      "source": [
        "# Steve January Search DataFrame below..."
      ],
      "execution_count": null,
      "outputs": []
    },
    {
      "cell_type": "code",
      "metadata": {
        "id": "7CNdsN7paS6f"
      },
      "source": [
        "# flights['fl_date'] = pd.to_datetime(flights['fl_date'], format='%Y-%m-%d')\r\n",
        "# jan_arr_delay = flights[flights['fl_date'].dt.month == 1]\r\n",
        "# jan_arr_delay['arr_delay'] = jan_arr_delay['arr_delay'].apply(lambda x: 0 if x < 0 else x)\r\n",
        "# jan_arr_delay['arr_delay'].mean()"
      ],
      "execution_count": null,
      "outputs": []
    },
    {
      "cell_type": "markdown",
      "metadata": {
        "id": "JmEpCCGhmRC9"
      },
      "source": [
        "GET ATLANTA FLIGHTS JANUARY 2019"
      ]
    },
    {
      "cell_type": "code",
      "metadata": {
        "id": "ZUvivLCF42oy"
      },
      "source": [
        "#Get the flights for all months all years\n",
        "flights_jan = pd.read_sql_query('''SELECT * FROM flights WHERE origin_city_name = 'Atlanta, GA';''', cnx)"
      ],
      "execution_count": 5,
      "outputs": []
    },
    {
      "cell_type": "code",
      "metadata": {
        "id": "uT_7MSh6lv9-"
      },
      "source": [
        "# Filter dataframe for January 2019\n",
        "flights_jan['fl_date'] = pd.to_datetime(flights_jan['fl_date'], format='%Y-%m-%d')\n",
        "flights_atlanta = flights_jan[flights_jan['fl_date'].dt.year == 2019]\n",
        "flights_jan = flights_atlanta[flights_atlanta['fl_date'].dt.month == 1]"
      ],
      "execution_count": 6,
      "outputs": []
    },
    {
      "cell_type": "code",
      "metadata": {
        "id": "GuJCPyXT0_ll"
      },
      "source": [
        "flights_jan.to_csv('ATL_Jan19_Full_DF.csv', index = False)"
      ],
      "execution_count": 7,
      "outputs": []
    },
    {
      "cell_type": "code",
      "metadata": {
        "colab": {
          "base_uri": "https://localhost:8080/"
        },
        "id": "X5S7p-ngmMub",
        "outputId": "db2e9b1a-687f-4b47-dbc1-8b83e53d3d1f"
      },
      "source": [
        "flights_jan.fl_date.unique()"
      ],
      "execution_count": 16,
      "outputs": [
        {
          "output_type": "execute_result",
          "data": {
            "text/plain": [
              "array(['2019-01-01T00:00:00.000000000', '2019-01-02T00:00:00.000000000',\n",
              "       '2019-01-03T00:00:00.000000000', '2019-01-04T00:00:00.000000000',\n",
              "       '2019-01-05T00:00:00.000000000', '2019-01-06T00:00:00.000000000',\n",
              "       '2019-01-07T00:00:00.000000000', '2019-01-08T00:00:00.000000000',\n",
              "       '2019-01-09T00:00:00.000000000', '2019-01-10T00:00:00.000000000',\n",
              "       '2019-01-11T00:00:00.000000000', '2019-01-12T00:00:00.000000000',\n",
              "       '2019-01-13T00:00:00.000000000', '2019-01-14T00:00:00.000000000',\n",
              "       '2019-01-15T00:00:00.000000000', '2019-01-16T00:00:00.000000000',\n",
              "       '2019-01-17T00:00:00.000000000', '2019-01-18T00:00:00.000000000',\n",
              "       '2019-01-19T00:00:00.000000000', '2019-01-20T00:00:00.000000000',\n",
              "       '2019-01-21T00:00:00.000000000', '2019-01-22T00:00:00.000000000',\n",
              "       '2019-01-23T00:00:00.000000000', '2019-01-24T00:00:00.000000000',\n",
              "       '2019-01-25T00:00:00.000000000', '2019-01-26T00:00:00.000000000',\n",
              "       '2019-01-27T00:00:00.000000000', '2019-01-29T00:00:00.000000000',\n",
              "       '2019-01-28T00:00:00.000000000', '2019-01-31T00:00:00.000000000',\n",
              "       '2019-01-30T00:00:00.000000000'], dtype='datetime64[ns]')"
            ]
          },
          "metadata": {
            "tags": []
          },
          "execution_count": 16
        }
      ]
    },
    {
      "cell_type": "code",
      "metadata": {
        "id": "lTwrb4aQm1VG"
      },
      "source": [
        "flights_jan = flights_jan[['fl_date', 'dep_time', 'origin_city_name', 'dep_delay', 'weather_delay']]"
      ],
      "execution_count": 18,
      "outputs": []
    },
    {
      "cell_type": "code",
      "metadata": {
        "id": "2JCVj4N5n91O"
      },
      "source": [
        "flights_jan.to_csv('Jan2019_Atlanta_Flights.csv', index=False)"
      ],
      "execution_count": 19,
      "outputs": []
    },
    {
      "cell_type": "code",
      "metadata": {
        "id": "aWtzNLCpoiNL"
      },
      "source": [
        ""
      ],
      "execution_count": null,
      "outputs": []
    },
    {
      "cell_type": "code",
      "metadata": {
        "colab": {
          "base_uri": "https://localhost:8080/"
        },
        "id": "53Qb_daNonpb",
        "outputId": "128bdc54-d1d6-430e-bc74-d2fc4ce97b3b"
      },
      "source": [
        "from google.colab import drive\n",
        "drive.mount('/content/drive')"
      ],
      "execution_count": 9,
      "outputs": [
        {
          "output_type": "stream",
          "text": [
            "Mounted at /content/drive\n"
          ],
          "name": "stdout"
        }
      ]
    },
    {
      "cell_type": "code",
      "metadata": {
        "id": "KFiMmlpGounl"
      },
      "source": [
        "/content/drive/MyDrive/Jan2019_Atlanta_Flights.csv"
      ],
      "execution_count": null,
      "outputs": []
    },
    {
      "cell_type": "code",
      "metadata": {
        "id": "FA5kAFASzkmm"
      },
      "source": [
        "baslineDF_full = pd.read_csv('https://raw.githubusercontent.com/DeftJackal/Midterm-Project/main/LHL%20info/baselineDF_full.csv')"
      ],
      "execution_count": 24,
      "outputs": []
    },
    {
      "cell_type": "code",
      "metadata": {
        "colab": {
          "base_uri": "https://localhost:8080/",
          "height": 322
        },
        "id": "GcPFfOpV0TED",
        "outputId": "2185d079-7f55-4af9-e970-f06abfe8b1c1"
      },
      "source": [
        "baslineDF_full.head()"
      ],
      "execution_count": 25,
      "outputs": [
        {
          "output_type": "execute_result",
          "data": {
            "text/html": [
              "<div>\n",
              "<style scoped>\n",
              "    .dataframe tbody tr th:only-of-type {\n",
              "        vertical-align: middle;\n",
              "    }\n",
              "\n",
              "    .dataframe tbody tr th {\n",
              "        vertical-align: top;\n",
              "    }\n",
              "\n",
              "    .dataframe thead th {\n",
              "        text-align: right;\n",
              "    }\n",
              "</style>\n",
              "<table border=\"1\" class=\"dataframe\">\n",
              "  <thead>\n",
              "    <tr style=\"text-align: right;\">\n",
              "      <th></th>\n",
              "      <th>Unnamed: 0</th>\n",
              "      <th>fl_date</th>\n",
              "      <th>mkt_unique_carrier</th>\n",
              "      <th>branded_code_share</th>\n",
              "      <th>mkt_carrier</th>\n",
              "      <th>mkt_carrier_fl_num</th>\n",
              "      <th>op_unique_carrier</th>\n",
              "      <th>tail_num</th>\n",
              "      <th>op_carrier_fl_num</th>\n",
              "      <th>origin_airport_id</th>\n",
              "      <th>origin</th>\n",
              "      <th>origin_city_name</th>\n",
              "      <th>dest_airport_id</th>\n",
              "      <th>dest</th>\n",
              "      <th>dest_city_name</th>\n",
              "      <th>crs_dep_time</th>\n",
              "      <th>dep_time</th>\n",
              "      <th>dep_delay</th>\n",
              "      <th>taxi_out</th>\n",
              "      <th>wheels_off</th>\n",
              "      <th>wheels_on</th>\n",
              "      <th>taxi_in</th>\n",
              "      <th>crs_arr_time</th>\n",
              "      <th>arr_time</th>\n",
              "      <th>arr_delay</th>\n",
              "      <th>cancelled</th>\n",
              "      <th>cancellation_code</th>\n",
              "      <th>diverted</th>\n",
              "      <th>dup</th>\n",
              "      <th>crs_elapsed_time</th>\n",
              "      <th>actual_elapsed_time</th>\n",
              "      <th>air_time</th>\n",
              "      <th>flights</th>\n",
              "      <th>distance</th>\n",
              "      <th>carrier_delay</th>\n",
              "      <th>weather_delay</th>\n",
              "      <th>nas_delay</th>\n",
              "      <th>security_delay</th>\n",
              "      <th>late_aircraft_delay</th>\n",
              "      <th>first_dep_time</th>\n",
              "      <th>total_add_gtime</th>\n",
              "      <th>longest_add_gtime</th>\n",
              "      <th>no_name</th>\n",
              "    </tr>\n",
              "  </thead>\n",
              "  <tbody>\n",
              "    <tr>\n",
              "      <th>0</th>\n",
              "      <td>10</td>\n",
              "      <td>2018-12-01</td>\n",
              "      <td>NK</td>\n",
              "      <td>NK</td>\n",
              "      <td>NK</td>\n",
              "      <td>395</td>\n",
              "      <td>NK</td>\n",
              "      <td>N602NK</td>\n",
              "      <td>395</td>\n",
              "      <td>14100</td>\n",
              "      <td>PHL</td>\n",
              "      <td>Philadelphia, PA</td>\n",
              "      <td>12889</td>\n",
              "      <td>LAS</td>\n",
              "      <td>Las Vegas, NV</td>\n",
              "      <td>1945</td>\n",
              "      <td>1941.0</td>\n",
              "      <td>-4.0</td>\n",
              "      <td>15.0</td>\n",
              "      <td>1956.0</td>\n",
              "      <td>2209.0</td>\n",
              "      <td>6.0</td>\n",
              "      <td>2244</td>\n",
              "      <td>2215.0</td>\n",
              "      <td>-29.0</td>\n",
              "      <td>0.0</td>\n",
              "      <td>NaN</td>\n",
              "      <td>0.0</td>\n",
              "      <td>N</td>\n",
              "      <td>359.0</td>\n",
              "      <td>334.0</td>\n",
              "      <td>313.0</td>\n",
              "      <td>1.0</td>\n",
              "      <td>2176.0</td>\n",
              "      <td>NaN</td>\n",
              "      <td>NaN</td>\n",
              "      <td>NaN</td>\n",
              "      <td>NaN</td>\n",
              "      <td>NaN</td>\n",
              "      <td>NaN</td>\n",
              "      <td>NaN</td>\n",
              "      <td>NaN</td>\n",
              "      <td>NaN</td>\n",
              "    </tr>\n",
              "    <tr>\n",
              "      <th>1</th>\n",
              "      <td>11</td>\n",
              "      <td>2018-12-01</td>\n",
              "      <td>NK</td>\n",
              "      <td>NK</td>\n",
              "      <td>NK</td>\n",
              "      <td>396</td>\n",
              "      <td>NK</td>\n",
              "      <td>N602NK</td>\n",
              "      <td>396</td>\n",
              "      <td>12889</td>\n",
              "      <td>LAS</td>\n",
              "      <td>Las Vegas, NV</td>\n",
              "      <td>14100</td>\n",
              "      <td>PHL</td>\n",
              "      <td>Philadelphia, PA</td>\n",
              "      <td>1110</td>\n",
              "      <td>1107.0</td>\n",
              "      <td>-3.0</td>\n",
              "      <td>32.0</td>\n",
              "      <td>1139.0</td>\n",
              "      <td>1844.0</td>\n",
              "      <td>12.0</td>\n",
              "      <td>1855</td>\n",
              "      <td>1856.0</td>\n",
              "      <td>1.0</td>\n",
              "      <td>0.0</td>\n",
              "      <td>NaN</td>\n",
              "      <td>0.0</td>\n",
              "      <td>N</td>\n",
              "      <td>285.0</td>\n",
              "      <td>289.0</td>\n",
              "      <td>245.0</td>\n",
              "      <td>1.0</td>\n",
              "      <td>2176.0</td>\n",
              "      <td>NaN</td>\n",
              "      <td>NaN</td>\n",
              "      <td>NaN</td>\n",
              "      <td>NaN</td>\n",
              "      <td>NaN</td>\n",
              "      <td>NaN</td>\n",
              "      <td>NaN</td>\n",
              "      <td>NaN</td>\n",
              "      <td>NaN</td>\n",
              "    </tr>\n",
              "    <tr>\n",
              "      <th>2</th>\n",
              "      <td>12</td>\n",
              "      <td>2018-12-01</td>\n",
              "      <td>NK</td>\n",
              "      <td>NK</td>\n",
              "      <td>NK</td>\n",
              "      <td>403</td>\n",
              "      <td>NK</td>\n",
              "      <td>N507NK</td>\n",
              "      <td>403</td>\n",
              "      <td>10397</td>\n",
              "      <td>ATL</td>\n",
              "      <td>Atlanta, GA</td>\n",
              "      <td>11697</td>\n",
              "      <td>FLL</td>\n",
              "      <td>Fort Lauderdale, FL</td>\n",
              "      <td>1739</td>\n",
              "      <td>1736.0</td>\n",
              "      <td>-3.0</td>\n",
              "      <td>11.0</td>\n",
              "      <td>1747.0</td>\n",
              "      <td>1911.0</td>\n",
              "      <td>4.0</td>\n",
              "      <td>1930</td>\n",
              "      <td>1915.0</td>\n",
              "      <td>-15.0</td>\n",
              "      <td>0.0</td>\n",
              "      <td>NaN</td>\n",
              "      <td>0.0</td>\n",
              "      <td>N</td>\n",
              "      <td>111.0</td>\n",
              "      <td>99.0</td>\n",
              "      <td>84.0</td>\n",
              "      <td>1.0</td>\n",
              "      <td>581.0</td>\n",
              "      <td>NaN</td>\n",
              "      <td>NaN</td>\n",
              "      <td>NaN</td>\n",
              "      <td>NaN</td>\n",
              "      <td>NaN</td>\n",
              "      <td>NaN</td>\n",
              "      <td>NaN</td>\n",
              "      <td>NaN</td>\n",
              "      <td>NaN</td>\n",
              "    </tr>\n",
              "    <tr>\n",
              "      <th>3</th>\n",
              "      <td>13</td>\n",
              "      <td>2018-12-01</td>\n",
              "      <td>NK</td>\n",
              "      <td>NK</td>\n",
              "      <td>NK</td>\n",
              "      <td>403</td>\n",
              "      <td>NK</td>\n",
              "      <td>N507NK</td>\n",
              "      <td>403</td>\n",
              "      <td>12892</td>\n",
              "      <td>LAX</td>\n",
              "      <td>Los Angeles, CA</td>\n",
              "      <td>10397</td>\n",
              "      <td>ATL</td>\n",
              "      <td>Atlanta, GA</td>\n",
              "      <td>930</td>\n",
              "      <td>926.0</td>\n",
              "      <td>-4.0</td>\n",
              "      <td>12.0</td>\n",
              "      <td>938.0</td>\n",
              "      <td>1607.0</td>\n",
              "      <td>7.0</td>\n",
              "      <td>1649</td>\n",
              "      <td>1614.0</td>\n",
              "      <td>-35.0</td>\n",
              "      <td>0.0</td>\n",
              "      <td>NaN</td>\n",
              "      <td>0.0</td>\n",
              "      <td>N</td>\n",
              "      <td>259.0</td>\n",
              "      <td>228.0</td>\n",
              "      <td>209.0</td>\n",
              "      <td>1.0</td>\n",
              "      <td>1947.0</td>\n",
              "      <td>NaN</td>\n",
              "      <td>NaN</td>\n",
              "      <td>NaN</td>\n",
              "      <td>NaN</td>\n",
              "      <td>NaN</td>\n",
              "      <td>NaN</td>\n",
              "      <td>NaN</td>\n",
              "      <td>NaN</td>\n",
              "      <td>NaN</td>\n",
              "    </tr>\n",
              "    <tr>\n",
              "      <th>4</th>\n",
              "      <td>14</td>\n",
              "      <td>2018-12-01</td>\n",
              "      <td>NK</td>\n",
              "      <td>NK</td>\n",
              "      <td>NK</td>\n",
              "      <td>404</td>\n",
              "      <td>NK</td>\n",
              "      <td>N512NK</td>\n",
              "      <td>404</td>\n",
              "      <td>10397</td>\n",
              "      <td>ATL</td>\n",
              "      <td>Atlanta, GA</td>\n",
              "      <td>12892</td>\n",
              "      <td>LAX</td>\n",
              "      <td>Los Angeles, CA</td>\n",
              "      <td>1120</td>\n",
              "      <td>1118.0</td>\n",
              "      <td>-2.0</td>\n",
              "      <td>16.0</td>\n",
              "      <td>1134.0</td>\n",
              "      <td>1335.0</td>\n",
              "      <td>6.0</td>\n",
              "      <td>1330</td>\n",
              "      <td>1341.0</td>\n",
              "      <td>11.0</td>\n",
              "      <td>0.0</td>\n",
              "      <td>NaN</td>\n",
              "      <td>0.0</td>\n",
              "      <td>N</td>\n",
              "      <td>310.0</td>\n",
              "      <td>323.0</td>\n",
              "      <td>301.0</td>\n",
              "      <td>1.0</td>\n",
              "      <td>1947.0</td>\n",
              "      <td>NaN</td>\n",
              "      <td>NaN</td>\n",
              "      <td>NaN</td>\n",
              "      <td>NaN</td>\n",
              "      <td>NaN</td>\n",
              "      <td>NaN</td>\n",
              "      <td>NaN</td>\n",
              "      <td>NaN</td>\n",
              "      <td>NaN</td>\n",
              "    </tr>\n",
              "  </tbody>\n",
              "</table>\n",
              "</div>"
            ],
            "text/plain": [
              "   Unnamed: 0     fl_date  ... longest_add_gtime no_name\n",
              "0          10  2018-12-01  ...               NaN     NaN\n",
              "1          11  2018-12-01  ...               NaN     NaN\n",
              "2          12  2018-12-01  ...               NaN     NaN\n",
              "3          13  2018-12-01  ...               NaN     NaN\n",
              "4          14  2018-12-01  ...               NaN     NaN\n",
              "\n",
              "[5 rows x 43 columns]"
            ]
          },
          "metadata": {
            "tags": []
          },
          "execution_count": 25
        }
      ]
    },
    {
      "cell_type": "code",
      "metadata": {
        "id": "TCxVyGUb0V26"
      },
      "source": [
        "baselineDF = pd.read_csv('https://raw.githubusercontent.com/DeftJackal/Midterm-Project/main/LHL%20info/baselineDF.csv')"
      ],
      "execution_count": 11,
      "outputs": []
    },
    {
      "cell_type": "code",
      "metadata": {
        "colab": {
          "base_uri": "https://localhost:8080/",
          "height": 235
        },
        "id": "KhrgErQN4lH1",
        "outputId": "d30d9dd8-45c7-4177-c647-ccded54060aa"
      },
      "source": [
        "baslineDF.head()"
      ],
      "execution_count": 9,
      "outputs": [
        {
          "output_type": "execute_result",
          "data": {
            "text/html": [
              "<div>\n",
              "<style scoped>\n",
              "    .dataframe tbody tr th:only-of-type {\n",
              "        vertical-align: middle;\n",
              "    }\n",
              "\n",
              "    .dataframe tbody tr th {\n",
              "        vertical-align: top;\n",
              "    }\n",
              "\n",
              "    .dataframe thead th {\n",
              "        text-align: right;\n",
              "    }\n",
              "</style>\n",
              "<table border=\"1\" class=\"dataframe\">\n",
              "  <thead>\n",
              "    <tr style=\"text-align: right;\">\n",
              "      <th></th>\n",
              "      <th>Unnamed: 0</th>\n",
              "      <th>origin_airport_id</th>\n",
              "      <th>dest_airport_id</th>\n",
              "      <th>crs_dep_time</th>\n",
              "      <th>crs_arr_time</th>\n",
              "      <th>crs_elapsed_time</th>\n",
              "      <th>distance</th>\n",
              "      <th>is_arr_delayed</th>\n",
              "      <th>op_unique_carrier_9E</th>\n",
              "      <th>op_unique_carrier_AA</th>\n",
              "      <th>op_unique_carrier_AS</th>\n",
              "      <th>op_unique_carrier_AX</th>\n",
              "      <th>op_unique_carrier_B6</th>\n",
              "      <th>op_unique_carrier_C5</th>\n",
              "      <th>op_unique_carrier_CP</th>\n",
              "      <th>op_unique_carrier_DL</th>\n",
              "      <th>op_unique_carrier_EM</th>\n",
              "      <th>op_unique_carrier_EV</th>\n",
              "      <th>op_unique_carrier_F9</th>\n",
              "      <th>op_unique_carrier_G4</th>\n",
              "      <th>op_unique_carrier_G7</th>\n",
              "      <th>op_unique_carrier_HA</th>\n",
              "      <th>op_unique_carrier_KS</th>\n",
              "      <th>op_unique_carrier_MQ</th>\n",
              "      <th>op_unique_carrier_NK</th>\n",
              "      <th>op_unique_carrier_OH</th>\n",
              "      <th>op_unique_carrier_OO</th>\n",
              "      <th>op_unique_carrier_PT</th>\n",
              "      <th>op_unique_carrier_QX</th>\n",
              "      <th>op_unique_carrier_UA</th>\n",
              "      <th>op_unique_carrier_WN</th>\n",
              "      <th>op_unique_carrier_YV</th>\n",
              "      <th>op_unique_carrier_YX</th>\n",
              "      <th>op_unique_carrier_ZW</th>\n",
              "      <th>year</th>\n",
              "      <th>month</th>\n",
              "      <th>day</th>\n",
              "      <th>weekday</th>\n",
              "    </tr>\n",
              "  </thead>\n",
              "  <tbody>\n",
              "    <tr>\n",
              "      <th>0</th>\n",
              "      <td>10</td>\n",
              "      <td>14100</td>\n",
              "      <td>12889</td>\n",
              "      <td>1945</td>\n",
              "      <td>2244</td>\n",
              "      <td>359.0</td>\n",
              "      <td>2176.0</td>\n",
              "      <td>0</td>\n",
              "      <td>0</td>\n",
              "      <td>0</td>\n",
              "      <td>0</td>\n",
              "      <td>0</td>\n",
              "      <td>0</td>\n",
              "      <td>0</td>\n",
              "      <td>0</td>\n",
              "      <td>0</td>\n",
              "      <td>0</td>\n",
              "      <td>0</td>\n",
              "      <td>0</td>\n",
              "      <td>0</td>\n",
              "      <td>0</td>\n",
              "      <td>0</td>\n",
              "      <td>0</td>\n",
              "      <td>0</td>\n",
              "      <td>1</td>\n",
              "      <td>0</td>\n",
              "      <td>0</td>\n",
              "      <td>0</td>\n",
              "      <td>0</td>\n",
              "      <td>0</td>\n",
              "      <td>0</td>\n",
              "      <td>0</td>\n",
              "      <td>0</td>\n",
              "      <td>0</td>\n",
              "      <td>2018</td>\n",
              "      <td>12</td>\n",
              "      <td>1</td>\n",
              "      <td>5</td>\n",
              "    </tr>\n",
              "    <tr>\n",
              "      <th>1</th>\n",
              "      <td>11</td>\n",
              "      <td>12889</td>\n",
              "      <td>14100</td>\n",
              "      <td>1110</td>\n",
              "      <td>1855</td>\n",
              "      <td>285.0</td>\n",
              "      <td>2176.0</td>\n",
              "      <td>1</td>\n",
              "      <td>0</td>\n",
              "      <td>0</td>\n",
              "      <td>0</td>\n",
              "      <td>0</td>\n",
              "      <td>0</td>\n",
              "      <td>0</td>\n",
              "      <td>0</td>\n",
              "      <td>0</td>\n",
              "      <td>0</td>\n",
              "      <td>0</td>\n",
              "      <td>0</td>\n",
              "      <td>0</td>\n",
              "      <td>0</td>\n",
              "      <td>0</td>\n",
              "      <td>0</td>\n",
              "      <td>0</td>\n",
              "      <td>1</td>\n",
              "      <td>0</td>\n",
              "      <td>0</td>\n",
              "      <td>0</td>\n",
              "      <td>0</td>\n",
              "      <td>0</td>\n",
              "      <td>0</td>\n",
              "      <td>0</td>\n",
              "      <td>0</td>\n",
              "      <td>0</td>\n",
              "      <td>2018</td>\n",
              "      <td>12</td>\n",
              "      <td>1</td>\n",
              "      <td>5</td>\n",
              "    </tr>\n",
              "    <tr>\n",
              "      <th>2</th>\n",
              "      <td>12</td>\n",
              "      <td>10397</td>\n",
              "      <td>11697</td>\n",
              "      <td>1739</td>\n",
              "      <td>1930</td>\n",
              "      <td>111.0</td>\n",
              "      <td>581.0</td>\n",
              "      <td>0</td>\n",
              "      <td>0</td>\n",
              "      <td>0</td>\n",
              "      <td>0</td>\n",
              "      <td>0</td>\n",
              "      <td>0</td>\n",
              "      <td>0</td>\n",
              "      <td>0</td>\n",
              "      <td>0</td>\n",
              "      <td>0</td>\n",
              "      <td>0</td>\n",
              "      <td>0</td>\n",
              "      <td>0</td>\n",
              "      <td>0</td>\n",
              "      <td>0</td>\n",
              "      <td>0</td>\n",
              "      <td>0</td>\n",
              "      <td>1</td>\n",
              "      <td>0</td>\n",
              "      <td>0</td>\n",
              "      <td>0</td>\n",
              "      <td>0</td>\n",
              "      <td>0</td>\n",
              "      <td>0</td>\n",
              "      <td>0</td>\n",
              "      <td>0</td>\n",
              "      <td>0</td>\n",
              "      <td>2018</td>\n",
              "      <td>12</td>\n",
              "      <td>1</td>\n",
              "      <td>5</td>\n",
              "    </tr>\n",
              "    <tr>\n",
              "      <th>3</th>\n",
              "      <td>13</td>\n",
              "      <td>12892</td>\n",
              "      <td>10397</td>\n",
              "      <td>930</td>\n",
              "      <td>1649</td>\n",
              "      <td>259.0</td>\n",
              "      <td>1947.0</td>\n",
              "      <td>0</td>\n",
              "      <td>0</td>\n",
              "      <td>0</td>\n",
              "      <td>0</td>\n",
              "      <td>0</td>\n",
              "      <td>0</td>\n",
              "      <td>0</td>\n",
              "      <td>0</td>\n",
              "      <td>0</td>\n",
              "      <td>0</td>\n",
              "      <td>0</td>\n",
              "      <td>0</td>\n",
              "      <td>0</td>\n",
              "      <td>0</td>\n",
              "      <td>0</td>\n",
              "      <td>0</td>\n",
              "      <td>0</td>\n",
              "      <td>1</td>\n",
              "      <td>0</td>\n",
              "      <td>0</td>\n",
              "      <td>0</td>\n",
              "      <td>0</td>\n",
              "      <td>0</td>\n",
              "      <td>0</td>\n",
              "      <td>0</td>\n",
              "      <td>0</td>\n",
              "      <td>0</td>\n",
              "      <td>2018</td>\n",
              "      <td>12</td>\n",
              "      <td>1</td>\n",
              "      <td>5</td>\n",
              "    </tr>\n",
              "    <tr>\n",
              "      <th>4</th>\n",
              "      <td>14</td>\n",
              "      <td>10397</td>\n",
              "      <td>12892</td>\n",
              "      <td>1120</td>\n",
              "      <td>1330</td>\n",
              "      <td>310.0</td>\n",
              "      <td>1947.0</td>\n",
              "      <td>1</td>\n",
              "      <td>0</td>\n",
              "      <td>0</td>\n",
              "      <td>0</td>\n",
              "      <td>0</td>\n",
              "      <td>0</td>\n",
              "      <td>0</td>\n",
              "      <td>0</td>\n",
              "      <td>0</td>\n",
              "      <td>0</td>\n",
              "      <td>0</td>\n",
              "      <td>0</td>\n",
              "      <td>0</td>\n",
              "      <td>0</td>\n",
              "      <td>0</td>\n",
              "      <td>0</td>\n",
              "      <td>0</td>\n",
              "      <td>1</td>\n",
              "      <td>0</td>\n",
              "      <td>0</td>\n",
              "      <td>0</td>\n",
              "      <td>0</td>\n",
              "      <td>0</td>\n",
              "      <td>0</td>\n",
              "      <td>0</td>\n",
              "      <td>0</td>\n",
              "      <td>0</td>\n",
              "      <td>2018</td>\n",
              "      <td>12</td>\n",
              "      <td>1</td>\n",
              "      <td>5</td>\n",
              "    </tr>\n",
              "  </tbody>\n",
              "</table>\n",
              "</div>"
            ],
            "text/plain": [
              "   Unnamed: 0  origin_airport_id  dest_airport_id  ...  month  day  weekday\n",
              "0          10              14100            12889  ...     12    1        5\n",
              "1          11              12889            14100  ...     12    1        5\n",
              "2          12              10397            11697  ...     12    1        5\n",
              "3          13              12892            10397  ...     12    1        5\n",
              "4          14              10397            12892  ...     12    1        5\n",
              "\n",
              "[5 rows x 38 columns]"
            ]
          },
          "metadata": {
            "tags": []
          },
          "execution_count": 9
        }
      ]
    },
    {
      "cell_type": "code",
      "metadata": {
        "id": "DT7OslrK4ohL"
      },
      "source": [
        ""
      ],
      "execution_count": null,
      "outputs": []
    },
    {
      "cell_type": "markdown",
      "metadata": {
        "id": "C5I7heMKmCO2"
      },
      "source": [
        "GET CHICAGO FLIGHTS JANUARY 2018"
      ]
    },
    {
      "cell_type": "code",
      "metadata": {
        "id": "nTswKB9JmDrj"
      },
      "source": [
        "# Do SQL query for all Chicago origin flights\n",
        "Chicago_flights_jan = pd.read_sql_query('''SELECT * FROM flights WHERE origin_city_name = 'Chicago, IL';''', cnx)"
      ],
      "execution_count": 4,
      "outputs": []
    },
    {
      "cell_type": "code",
      "metadata": {
        "id": "mnzkzKGGmyQt"
      },
      "source": [
        "# Filter dataframe down to January 2018\n",
        "Chicago_flights_jan['fl_date'] = pd.to_datetime(Chicago_flights_jan['fl_date'], format='%Y-%m-%d')\n",
        "Chicago_flights_jan = Chicago_flights_jan[(Chicago_flights_jan['fl_date'].dt.year == 2018) & (Chicago_flights_jan['fl_date'].dt.month == 1)]"
      ],
      "execution_count": 8,
      "outputs": []
    },
    {
      "cell_type": "code",
      "metadata": {
        "id": "L8G2Rf56nR_r"
      },
      "source": [
        "# Save to CSV for security\n",
        "Chicago_flights_jan.to_csv('/content/drive/MyDrive/Colab Notebooks/Chicago_flights_jan18.csv', index=False)"
      ],
      "execution_count": 13,
      "outputs": []
    },
    {
      "cell_type": "code",
      "metadata": {
        "id": "Swzrl8jVvgwB"
      },
      "source": [
        "Chicago_flights_jan = pd.read_csv('/content/drive/MyDrive/Colab Notebooks/Chicago_flights_jan18.csv')"
      ],
      "execution_count": 18,
      "outputs": []
    },
    {
      "cell_type": "markdown",
      "metadata": {
        "id": "_HYmmg2ZqZFq"
      },
      "source": [
        "MAKE NEW \"CHICAGO WEATHER REFERENCE\" DF, CALL WORLD WEATHER ONLINE TO FILL IT"
      ]
    },
    {
      "cell_type": "code",
      "metadata": {
        "id": "GBYWtOOmq9UF"
      },
      "source": [
        "dates = Chicago_flights_jan['fl_date'].unique()"
      ],
      "execution_count": 62,
      "outputs": []
    },
    {
      "cell_type": "code",
      "metadata": {
        "id": "i5mBLwvsLupe"
      },
      "source": [
        "dates = pd.DataFrame(dates)\n",
        "dates['hour 0'] = np.nan\n",
        "dates['hour 300'] = np.nan\n",
        "dates['hour 600'] = np.nan\n",
        "dates['hour 900'] = np.nan\n",
        "dates['hour 1200'] = np.nan\n",
        "dates['hour 1500'] = np.nan\n",
        "dates['hour 1800'] = np.nan\n",
        "dates['hour 2100'] = np.nan\n",
        "chicago_weather = dates"
      ],
      "execution_count": 63,
      "outputs": []
    },
    {
      "cell_type": "code",
      "metadata": {
        "id": "Ka2l4s1FuQrF"
      },
      "source": [
        "chicago_weather = chicago_weather.set_index(0) "
      ],
      "execution_count": 67,
      "outputs": []
    },
    {
      "cell_type": "code",
      "metadata": {
        "id": "YBW4UD8zQUxA"
      },
      "source": [
        "chicago_weather.index.rename('fl_date', inplace = True)"
      ],
      "execution_count": 70,
      "outputs": []
    },
    {
      "cell_type": "code",
      "metadata": {
        "id": "dLWd593EQisk"
      },
      "source": [
        "chicago_weather.reset_index(inplace = True)"
      ],
      "execution_count": 78,
      "outputs": []
    },
    {
      "cell_type": "code",
      "metadata": {
        "id": "4BjOWXjAQ6wQ"
      },
      "source": [
        "chicago_weather.head()"
      ],
      "execution_count": null,
      "outputs": []
    },
    {
      "cell_type": "code",
      "metadata": {
        "id": "OPvF9gu_quOf"
      },
      "source": [
        "# API calling function with parser\n",
        "def get_weather(date, df):\n",
        "  url = f'https://api.worldweatheronline.com/premium/v1/past-weather.ashx?q=Chicago, IL&date={date}&format=json&Key=644b7d0e28cb4ad3a64225414211001&cc=no'\n",
        "  response = re.get(url)\n",
        "  results = response.json()\n",
        "  df.loc[df['fl_date'] == date, 'hour 0'] = results['data']['weather'][0]['hourly'][0]['weatherDesc'][0]['value']\n",
        "  df.loc[df['fl_date'] == date,  'hour 300'] = results['data']['weather'][0]['hourly'][1]['weatherDesc'][0]['value']\n",
        "  df.loc[df['fl_date'] == date,  'hour 600'] = results['data']['weather'][0]['hourly'][2]['weatherDesc'][0]['value']\n",
        "  df.loc[df['fl_date'] == date,  'hour 900']= results['data']['weather'][0]['hourly'][3]['weatherDesc'][0]['value']\n",
        "  df.loc[df['fl_date'] == date,  'hour 1200'] = results['data']['weather'][0]['hourly'][4]['weatherDesc'][0]['value']\n",
        "  df.loc[df['fl_date'] == date,  'hour 1500'] = results['data']['weather'][0]['hourly'][5]['weatherDesc'][0]['value']\n",
        "  df.loc[df['fl_date'] == date,  'hour 1800']= results['data']['weather'][0]['hourly'][6]['weatherDesc'][0]['value']\n",
        "  df.loc[df['fl_date'] == date,  'hour 2100'] = results['data']['weather'][0]['hourly'][7]['weatherDesc'][0]['value']\n",
        "  return df"
      ],
      "execution_count": 80,
      "outputs": []
    },
    {
      "cell_type": "code",
      "metadata": {
        "id": "XkUX2BPZo4uH"
      },
      "source": [
        "''' ONLY Run this block to call the Weather API on a dataframe'''\n",
        "df = chicago_weather\n",
        "for i in range(len(df)):\n",
        "  date = df['fl_date'][i]\n",
        "  get_weather(date, df)"
      ],
      "execution_count": null,
      "outputs": []
    },
    {
      "cell_type": "code",
      "metadata": {
        "id": "ssFVQ_BOun8N"
      },
      "source": [
        "# fix fl_date into datetime object\n",
        "chicago_weather['fl_date'] = pd.to_datetime(chicago_weather['fl_date'], format = '%Y-%m-%d')"
      ],
      "execution_count": 100,
      "outputs": []
    },
    {
      "cell_type": "code",
      "metadata": {
        "colab": {
          "base_uri": "https://localhost:8080/"
        },
        "id": "QjAQGrIzVati",
        "outputId": "c91a6d03-7860-4f91-8e30-fda2f2707bd4"
      },
      "source": [
        "chicago_weather.dtypes"
      ],
      "execution_count": 111,
      "outputs": [
        {
          "output_type": "execute_result",
          "data": {
            "text/plain": [
              "fl_date      datetime64[ns]\n",
              "hour 0               object\n",
              "hour 300             object\n",
              "hour 600             object\n",
              "hour 900             object\n",
              "hour 1200            object\n",
              "hour 1500            object\n",
              "hour 1800            object\n",
              "hour 2100            object\n",
              "dtype: object"
            ]
          },
          "metadata": {
            "tags": []
          },
          "execution_count": 111
        }
      ]
    },
    {
      "cell_type": "code",
      "metadata": {
        "id": "u_djKB9tV2pK"
      },
      "source": [
        "# Save to CSV for security\n",
        "chicago_weather.to_csv('/content/drive/MyDrive/Colab Notebooks/chicago_weather.csv', index=False)"
      ],
      "execution_count": 105,
      "outputs": []
    },
    {
      "cell_type": "markdown",
      "metadata": {
        "id": "Uh9g1kuARsLy"
      },
      "source": [
        "USE REFERENCE DF TO FILL MAIN FLIGHTS DATAFRAME"
      ]
    },
    {
      "cell_type": "code",
      "metadata": {
        "id": "n8PtahxtR7YP"
      },
      "source": [
        "# make a column in Chicago_flights_jan to hold weather description\n",
        "Chicago_flights_jan['weatherDesc'] = np.nan"
      ],
      "execution_count": 89,
      "outputs": []
    },
    {
      "cell_type": "code",
      "metadata": {
        "id": "yoKMU_PgSkmy"
      },
      "source": [
        "# fix fl_date into datetime object\n",
        "Chicago_flights_jan['fl_date'] = pd.to_datetime(Chicago_flights_jan['fl_date'], format = '%Y-%m-%d')"
      ],
      "execution_count": 101,
      "outputs": []
    },
    {
      "cell_type": "code",
      "metadata": {
        "id": "CL6H0nncS1Gi"
      },
      "source": [
        "print(Chicago_flights_jan.fl_date)\n",
        "print(chicago_weather.fl_date)"
      ],
      "execution_count": null,
      "outputs": []
    },
    {
      "cell_type": "code",
      "metadata": {
        "id": "WkNe9K_ndeBE"
      },
      "source": [
        "# Set chicago_weather index to 'fl_date'\n",
        "chicago_weather = chicago_weather.set_index('fl_date') \n"
      ],
      "execution_count": 126,
      "outputs": []
    },
    {
      "cell_type": "code",
      "metadata": {
        "id": "MmyZiW_eRWPW"
      },
      "source": [
        "def get_desc(row):\n",
        "    time = row['dep_time']\n",
        "    if pd.isnull(time):\n",
        "      return np.nan\n",
        "    date = row['fl_date']\n",
        "    bin = int(time//300)\n",
        "    hour = bin*300\n",
        "    if hour > 2100: \n",
        "      hour = 2100\n",
        "    col_name = f'hour {hour}'\n",
        "    return chicago_weather.loc[date, col_name] "
      ],
      "execution_count": 130,
      "outputs": []
    },
    {
      "cell_type": "code",
      "metadata": {
        "id": "_owGN0w5R1VI"
      },
      "source": [
        "Chicago_flights_jan.loc[:, 'weatherDesc'] = Chicago_flights_jan.apply(get_desc, axis = 1)"
      ],
      "execution_count": 128,
      "outputs": []
    },
    {
      "cell_type": "code",
      "metadata": {
        "id": "COR1DP35Schb"
      },
      "source": [
        "Chicago_flights_jan.head()"
      ],
      "execution_count": null,
      "outputs": []
    },
    {
      "cell_type": "code",
      "metadata": {
        "id": "sgTlkk5va8jG"
      },
      "source": [
        "# Save to CSV for security\n",
        "Chicago_flights_jan.to_csv('/content/drive/MyDrive/Colab Notebooks/Jan2018_Chicago_Flights_withWeather.csv', index=False)"
      ],
      "execution_count": 133,
      "outputs": []
    },
    {
      "cell_type": "markdown",
      "metadata": {
        "id": "NvH9npiAsSTk"
      },
      "source": [
        "MAKE CHICAGO FLIGHTS IDENTICAL TO JAMES BASELINE DF"
      ]
    },
    {
      "cell_type": "code",
      "metadata": {
        "id": "zlvSdmVhs3nO"
      },
      "source": [
        "# Simplify df name\n",
        "df = Chicago_flights_jan"
      ],
      "execution_count": 134,
      "outputs": []
    },
    {
      "cell_type": "code",
      "metadata": {
        "id": "chiwgbvGghdE"
      },
      "source": [
        "# Select features \n",
        "feature_cols = ['fl_date', 'origin_airport_id',\t'dest_airport_id',\t'crs_dep_time',\t'crs_arr_time',\t'crs_elapsed_time',\t'distance', 'op_unique_carrier', 'arr_delay', 'weatherDesc']\n",
        "# trim features down to match James baselineDF\n",
        "df1 = df[feature_cols]\n"
      ],
      "execution_count": 136,
      "outputs": []
    },
    {
      "cell_type": "code",
      "metadata": {
        "id": "bLmn2G3GsRsB"
      },
      "source": [
        "# set column 'arr_delay'to binary 'is_arr_del\n",
        "df1['is_arr_delayed'] = 0\n",
        "df1['is_arr_delayed'].loc[df1['arr_delay'] > 0] = 1"
      ],
      "execution_count": null,
      "outputs": []
    },
    {
      "cell_type": "code",
      "metadata": {
        "id": "W4DhuZhXsenW"
      },
      "source": [
        "# make dummy variables for 'op_unique_carrier'\n",
        "df2 = pd.get_dummies(df1, prefix = ['op_unique_carrier'], columns = ['op_unique_carrier'])"
      ],
      "execution_count": 138,
      "outputs": []
    },
    {
      "cell_type": "code",
      "metadata": {
        "id": "XWGa-VTVsg8J"
      },
      "source": [
        "# break 'fl_date' down into year, month, day, weekday\n",
        "df2['fl_date'] = pd.to_datetime(df2['fl_date'], format = '%Y-%m-%d')\n",
        "# Create new columns\n",
        "df2['day'] = df2['fl_date'].dt.day\n",
        "df2['month'] = df2['fl_date'].dt.month\n",
        "df2['year'] = df2['fl_date'].dt.year\n",
        "df2['weekday'] = df2['fl_date'].dt.dayofweek"
      ],
      "execution_count": 139,
      "outputs": []
    },
    {
      "cell_type": "code",
      "metadata": {
        "id": "mBWSB_6zsjyb"
      },
      "source": [
        "# label encode weatherDesc column, convert column to category, then assign the encoded variable to a new column using the cat.codes\n",
        "df2[\"weatherDesc\"] = df2[\"weatherDesc\"].astype('category')\n",
        "df2[\"weatherDesc_cat\"] = df2[\"weatherDesc\"].cat.codes"
      ],
      "execution_count": 140,
      "outputs": []
    },
    {
      "cell_type": "code",
      "metadata": {
        "id": "wTKfgSILsl8g"
      },
      "source": [
        "# drop the features that have been re-engineered\n",
        "df3 = df2.drop(columns = ['arr_delay', 'fl_date', 'weatherDesc'], axis = 1)"
      ],
      "execution_count": 141,
      "outputs": []
    },
    {
      "cell_type": "code",
      "metadata": {
        "id": "P4BAhe6DtQG9",
        "outputId": "470a56fc-360a-481e-d416-97ec6339d95f",
        "colab": {
          "base_uri": "https://localhost:8080/"
        }
      },
      "source": [
        "df3.columns"
      ],
      "execution_count": 152,
      "outputs": [
        {
          "output_type": "execute_result",
          "data": {
            "text/plain": [
              "Index(['origin_airport_id', 'dest_airport_id', 'crs_dep_time', 'crs_arr_time',\n",
              "       'crs_elapsed_time', 'distance', 'is_arr_delayed',\n",
              "       'op_unique_carrier_9E', 'op_unique_carrier_AA', 'op_unique_carrier_AS',\n",
              "       'op_unique_carrier_AX', 'op_unique_carrier_B6', 'op_unique_carrier_DL',\n",
              "       'op_unique_carrier_EV', 'op_unique_carrier_F9', 'op_unique_carrier_G7',\n",
              "       'op_unique_carrier_MQ', 'op_unique_carrier_NK', 'op_unique_carrier_OH',\n",
              "       'op_unique_carrier_OO', 'op_unique_carrier_UA', 'op_unique_carrier_VX',\n",
              "       'op_unique_carrier_WN', 'op_unique_carrier_YX', 'op_unique_carrier_ZW',\n",
              "       'day', 'month', 'year', 'weekday', 'weatherDesc_cat'],\n",
              "      dtype='object')"
            ]
          },
          "metadata": {
            "tags": []
          },
          "execution_count": 152
        }
      ]
    },
    {
      "cell_type": "code",
      "metadata": {
        "id": "8p6vvtAUso-I"
      },
      "source": [
        "# Save df3 at Jan18_Chicago_df_forModeling\n",
        "df3.to_csv('/content/drive/MyDrive/Colab Notebooks/Jan18_Chicago_encodedForModeling.csv')"
      ],
      "execution_count": 144,
      "outputs": []
    },
    {
      "cell_type": "markdown",
      "metadata": {
        "id": "m6sAJBqytiDY"
      },
      "source": [
        "RUN MODELS ON CHICAGO"
      ]
    },
    {
      "cell_type": "code",
      "metadata": {
        "id": "r-KEVhKAtjlO"
      },
      "source": [
        "# instantiate the model (using the default parameters)\n",
        "logreg = LogisticRegression(max_iter = 1000, penalty = 'l2')"
      ],
      "execution_count": 166,
      "outputs": []
    },
    {
      "cell_type": "code",
      "metadata": {
        "id": "WchQotvQtyDo"
      },
      "source": [
        "# set one column is_arr_delay is target\n",
        "# everything else is train test split "
      ],
      "execution_count": 147,
      "outputs": []
    },
    {
      "cell_type": "code",
      "metadata": {
        "id": "CFLT6purtyik"
      },
      "source": [
        "feature_cols_withW = ['origin_airport_id', 'dest_airport_id', 'crs_dep_time', 'crs_arr_time',\n",
        "       'crs_elapsed_time', 'distance',\n",
        "       'op_unique_carrier_9E', 'op_unique_carrier_AA', 'op_unique_carrier_AS',\n",
        "       'op_unique_carrier_AX', 'op_unique_carrier_B6', 'op_unique_carrier_DL',\n",
        "       'op_unique_carrier_EV', 'op_unique_carrier_F9', 'op_unique_carrier_G7',\n",
        "       'op_unique_carrier_MQ', 'op_unique_carrier_NK', 'op_unique_carrier_OH',\n",
        "       'op_unique_carrier_OO', 'op_unique_carrier_UA', 'op_unique_carrier_VX',\n",
        "       'op_unique_carrier_WN', 'op_unique_carrier_YX', 'op_unique_carrier_ZW',\n",
        "       'day', 'month', 'year', 'weekday', 'weatherDesc_cat']\n",
        "feature_cols_noW = ['origin_airport_id', 'dest_airport_id', 'crs_dep_time', 'crs_arr_time',\n",
        "       'crs_elapsed_time', 'distance',\n",
        "       'op_unique_carrier_9E', 'op_unique_carrier_AA', 'op_unique_carrier_AS',\n",
        "       'op_unique_carrier_AX', 'op_unique_carrier_B6', 'op_unique_carrier_DL',\n",
        "       'op_unique_carrier_EV', 'op_unique_carrier_F9', 'op_unique_carrier_G7',\n",
        "       'op_unique_carrier_MQ', 'op_unique_carrier_NK', 'op_unique_carrier_OH',\n",
        "       'op_unique_carrier_OO', 'op_unique_carrier_UA', 'op_unique_carrier_VX',\n",
        "       'op_unique_carrier_WN', 'op_unique_carrier_YX', 'op_unique_carrier_ZW',\n",
        "       'day', 'month', 'year', 'weekday']"
      ],
      "execution_count": 153,
      "outputs": []
    },
    {
      "cell_type": "code",
      "metadata": {
        "id": "2HgEFsJSuD2-"
      },
      "source": [
        "# X Data with weather feature\n",
        "X_withW = df3[feature_cols_withW].values"
      ],
      "execution_count": 154,
      "outputs": []
    },
    {
      "cell_type": "code",
      "metadata": {
        "id": "lQb0LlrWuGuf"
      },
      "source": [
        "# X Date no weather feature\n",
        "X_noW = df3[feature_cols_noW]"
      ],
      "execution_count": 155,
      "outputs": []
    },
    {
      "cell_type": "code",
      "metadata": {
        "id": "pPCNizRUuT4b"
      },
      "source": [
        "y = df3['is_arr_delayed'].values"
      ],
      "execution_count": 156,
      "outputs": []
    },
    {
      "cell_type": "code",
      "metadata": {
        "id": "CxHue9dPvAVA"
      },
      "source": [
        ""
      ],
      "execution_count": 159,
      "outputs": []
    },
    {
      "cell_type": "markdown",
      "metadata": {
        "id": "LiAeiGc3ySQq"
      },
      "source": [
        "Logistic Regression with weather"
      ]
    },
    {
      "cell_type": "code",
      "metadata": {
        "id": "3CYZnt6lu5TZ"
      },
      "source": [
        "# split X and y into training and testing sets\n",
        "X_withW_train,X_withW_test,y_train,y_test=train_test_split(X_withW,y,test_size=0.25,random_state=0)"
      ],
      "execution_count": 157,
      "outputs": []
    },
    {
      "cell_type": "code",
      "metadata": {
        "id": "-ctsc5_iu8n_"
      },
      "source": [
        "# fit the model with data\n",
        "model_1 = logreg.fit(X_withW_train,y_train)"
      ],
      "execution_count": 167,
      "outputs": []
    },
    {
      "cell_type": "code",
      "metadata": {
        "id": "x3H5Vknvu_hw"
      },
      "source": [
        "# make predictions\n",
        "y_withW_pred=model_1.predict(X_withW_test)"
      ],
      "execution_count": 168,
      "outputs": []
    },
    {
      "cell_type": "code",
      "metadata": {
        "id": "PhK-F1JrvGjX",
        "outputId": "5d9a0909-3623-4c15-a1e6-3269402e355c",
        "colab": {
          "base_uri": "https://localhost:8080/"
        }
      },
      "source": [
        "print(\"Accuracy of model with weather feature:\",metrics.accuracy_score(y_test, y_withW_pred))"
      ],
      "execution_count": 169,
      "outputs": [
        {
          "output_type": "stream",
          "text": [
            "Accuracy of model with weather feature: 0.6212341807593236\n"
          ],
          "name": "stdout"
        }
      ]
    },
    {
      "cell_type": "code",
      "metadata": {
        "id": "ShFGjhPYvJDP"
      },
      "source": [
        ""
      ],
      "execution_count": null,
      "outputs": []
    },
    {
      "cell_type": "markdown",
      "metadata": {
        "id": "ugx3lV6JyUPn"
      },
      "source": [
        "Logistic Regression without weather"
      ]
    },
    {
      "cell_type": "code",
      "metadata": {
        "id": "fnaOYjcXwTqe"
      },
      "source": [
        ""
      ],
      "execution_count": null,
      "outputs": []
    },
    {
      "cell_type": "code",
      "metadata": {
        "id": "N64EoZQ3wdBv"
      },
      "source": [
        "# split X and y into training and testing sets\n",
        "X_noW_train,X_noW_test,y_train,y_test=train_test_split(X_noW,y,test_size=0.25,random_state=0)"
      ],
      "execution_count": 170,
      "outputs": []
    },
    {
      "cell_type": "code",
      "metadata": {
        "id": "vmyhUn5uwgN1"
      },
      "source": [
        "# fit the model with data\n",
        "model_2 = logreg.fit(X_noW_train,y_train)"
      ],
      "execution_count": 171,
      "outputs": []
    },
    {
      "cell_type": "code",
      "metadata": {
        "id": "2T6VHrXhwiZU"
      },
      "source": [
        "# make predictions\n",
        "y2_noW_pred=logreg.predict(X_noW_test)"
      ],
      "execution_count": 174,
      "outputs": []
    },
    {
      "cell_type": "code",
      "metadata": {
        "id": "PJeylFUgwkcC",
        "outputId": "f6e29905-731b-493e-dfb7-cae3b728afb6",
        "colab": {
          "base_uri": "https://localhost:8080/"
        }
      },
      "source": [
        "print(\"Accuracy of model without weather feature:\",metrics.accuracy_score(y_test, y2_noW_pred))"
      ],
      "execution_count": 176,
      "outputs": [
        {
          "output_type": "stream",
          "text": [
            "Accuracy of model without weather feature: 0.6114906484488745\n"
          ],
          "name": "stdout"
        }
      ]
    },
    {
      "cell_type": "code",
      "metadata": {
        "id": "BRrLxMRbwnqR"
      },
      "source": [
        ""
      ],
      "execution_count": null,
      "outputs": []
    },
    {
      "cell_type": "markdown",
      "metadata": {
        "id": "tALSQMkbyXZh"
      },
      "source": [
        "Random Forest with weather"
      ]
    },
    {
      "cell_type": "code",
      "metadata": {
        "id": "oMxkVlYOw9ki"
      },
      "source": [
        "#Import Random Forest Model\n",
        "from sklearn.ensemble import RandomForestClassifier"
      ],
      "execution_count": 177,
      "outputs": []
    },
    {
      "cell_type": "code",
      "metadata": {
        "id": "Z5o-UujixHld"
      },
      "source": [
        "#Create a Gaussian Classifier\n",
        "clf=RandomForestClassifier(n_estimators=200)\n"
      ],
      "execution_count": 178,
      "outputs": []
    },
    {
      "cell_type": "code",
      "metadata": {
        "id": "cuS4hhLoxJ4_"
      },
      "source": [
        "#Train the model using the training sets y_pred=clf.predict(X_test)\n",
        "model_3 = clf.fit(X_withW_train,y_train)"
      ],
      "execution_count": 179,
      "outputs": []
    },
    {
      "cell_type": "code",
      "metadata": {
        "id": "VBVw853JxM2T"
      },
      "source": [
        "y3_pred=clf.predict(X_withW_test)"
      ],
      "execution_count": 180,
      "outputs": []
    },
    {
      "cell_type": "code",
      "metadata": {
        "id": "AhhdwLMyxQr1",
        "outputId": "0f3e2204-b281-46af-eb99-b95eb2f2b684",
        "colab": {
          "base_uri": "https://localhost:8080/"
        }
      },
      "source": [
        "print(\"Accuracy :\",metrics.accuracy_score(y_test, y3_pred))"
      ],
      "execution_count": 182,
      "outputs": [
        {
          "output_type": "stream",
          "text": [
            "Accuracy : 0.7215813640945234\n"
          ],
          "name": "stdout"
        }
      ]
    },
    {
      "cell_type": "code",
      "metadata": {
        "id": "O8ZiXFxLxTV2"
      },
      "source": [
        ""
      ],
      "execution_count": null,
      "outputs": []
    },
    {
      "cell_type": "markdown",
      "metadata": {
        "id": "3-4UmfiByZu5"
      },
      "source": [
        "Random Forest without weather"
      ]
    },
    {
      "cell_type": "code",
      "metadata": {
        "id": "KjPJh8m4xdy8"
      },
      "source": [
        "#Train the model using the training sets y_pred=clf.predict(X_test)\n",
        "model_4 = clf.fit(X_noW_train,y_train)"
      ],
      "execution_count": 183,
      "outputs": []
    },
    {
      "cell_type": "code",
      "metadata": {
        "id": "92xdd1pvxgFk"
      },
      "source": [
        "y4_pred=clf.predict(X_noW_test)"
      ],
      "execution_count": 184,
      "outputs": []
    },
    {
      "cell_type": "code",
      "metadata": {
        "id": "2iayPd5_xikU",
        "outputId": "75195211-f02c-44f5-ad5b-bde7cb59ffcb",
        "colab": {
          "base_uri": "https://localhost:8080/"
        }
      },
      "source": [
        "print(\"Accuracy :\",metrics.accuracy_score(y_test, y4_pred))"
      ],
      "execution_count": 185,
      "outputs": [
        {
          "output_type": "stream",
          "text": [
            "Accuracy : 0.7111658640385261\n"
          ],
          "name": "stdout"
        }
      ]
    },
    {
      "cell_type": "code",
      "metadata": {
        "id": "RNMHdqX7xktz"
      },
      "source": [
        ""
      ],
      "execution_count": null,
      "outputs": []
    },
    {
      "cell_type": "markdown",
      "metadata": {
        "id": "Dxeg-lu-yNgh"
      },
      "source": [
        "BAGGING "
      ]
    },
    {
      "cell_type": "code",
      "metadata": {
        "id": "beLpbgzKyLn-"
      },
      "source": [
        ""
      ],
      "execution_count": null,
      "outputs": []
    }
  ]
}
